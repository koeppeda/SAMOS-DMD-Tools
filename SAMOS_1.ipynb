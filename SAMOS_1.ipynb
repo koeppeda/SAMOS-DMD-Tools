{
 "cells": [
  {
   "cell_type": "markdown",
   "metadata": {},
   "source": [
    "### This workbooks is a first cut to a tool to pre-select sources to be spectroscopically analyzed with SAMOS.\n",
    "\n",
    "It is based on the examples of the ipyaladin module, avaialable at \n",
    "https://github.com/cds-astro/ipyaladin , in particular Example 8_Rectangular-selection.ipynb"
   ]
  },
  {
   "cell_type": "code",
   "execution_count": 1,
   "metadata": {},
   "outputs": [],
   "source": [
    "import ipyaladin as ipyal"
   ]
  },
  {
   "cell_type": "markdown",
   "metadata": {},
   "source": [
    "Upload and display an image in Aladin.\n",
    "For a list of good surveys, check https://aladin.u-strasbg.fr/AladinLite/"
   ]
  },
  {
   "cell_type": "code",
   "execution_count": 2,
   "metadata": {},
   "outputs": [
    {
     "data": {
      "application/vnd.jupyter.widget-view+json": {
       "model_id": "32ce066764f5473d83319bdd54e283e6",
       "version_major": 2,
       "version_minor": 0
      },
      "text/plain": [
       "Aladin(fov=1.5, options=['allow_full_zoomout', 'coo_frame', 'fov', 'full_screen', 'log', 'overlay_survey', 'ov…"
      ]
     },
     "metadata": {},
     "output_type": "display_data"
    }
   ],
   "source": [
    "aladin = ipyal.Aladin(target='M 42', fov=1.5, survey='P/2MASS/color')\n",
    "#aladin = ipyal.Aladin(target='M 42', fov=1.5, survey='P/allWise/color')\n",
    "aladin"
   ]
  },
  {
   "cell_type": "markdown",
   "metadata": {},
   "source": [
    "Extract a source catalog from Simbad"
   ]
  },
  {
   "cell_type": "code",
   "execution_count": 3,
   "metadata": {},
   "outputs": [],
   "source": [
    "from astroquery.simbad import Simbad\n",
    "import astropy.units as u"
   ]
  },
  {
   "cell_type": "markdown",
   "metadata": {},
   "source": [
    "# 1) Extract Default Simbad Table"
   ]
  },
  {
   "cell_type": "markdown",
   "metadata": {},
   "source": [
    "We starr extracting the data as Simbad Table. This is a class designed to represent tables of heterogeneous data. It is better than a numpy structured array because of the ability to easily modify the structure of the table by adding or removing columns, or adding new rows of data. In addition table and column metadata are fully supported. See \n",
    "http://docs.astropy.org/en/stable/api/astropy.table.Table.html#astropy.table.Table"
   ]
  },
  {
   "cell_type": "code",
   "execution_count": 4,
   "metadata": {},
   "outputs": [
    {
     "data": {
      "text/html": [
       "<div><i>Table length=2491</i>\n",
       "<table id=\"table140556327135056\" class=\"table-striped table-bordered table-condensed\">\n",
       "<thead><tr><th>MAIN_ID</th><th>RA</th><th>DEC</th><th>RA_PREC</th><th>DEC_PREC</th><th>COO_ERR_MAJA</th><th>COO_ERR_MINA</th><th>COO_ERR_ANGLE</th><th>COO_QUAL</th><th>COO_WAVELENGTH</th><th>COO_BIBCODE</th><th>SCRIPT_NUMBER_ID</th></tr></thead>\n",
       "<thead><tr><th></th><th>&quot;h:m:s&quot;</th><th>&quot;d:m:s&quot;</th><th></th><th></th><th>mas</th><th>mas</th><th>deg</th><th></th><th></th><th></th><th></th></tr></thead>\n",
       "<thead><tr><th>object</th><th>str13</th><th>str13</th><th>int16</th><th>int16</th><th>float32</th><th>float32</th><th>int16</th><th>str1</th><th>str1</th><th>object</th><th>int32</th></tr></thead>\n",
       "<tr><td>M  42</td><td>05 35 17.3</td><td>-05 23 28</td><td>5</td><td>5</td><td>7500.000</td><td>7500.000</td><td>90</td><td>D</td><td></td><td>1981MNRAS.194..693L</td><td>1</td></tr>\n",
       "<tr><td>NAME Ori Region</td><td>05 35 17.30</td><td>-05 23 28.0</td><td>6</td><td>6</td><td>--</td><td>--</td><td>0</td><td>D</td><td>O</td><td></td><td>1</td></tr>\n",
       "<tr><td>[FRM2016] 344</td><td>05 35 17.2210</td><td>-05 23 26.542</td><td>9</td><td>9</td><td>--</td><td>--</td><td>0</td><td>C</td><td>R</td><td>2016ApJ...822...93F</td><td>1</td></tr>\n",
       "<tr><td>DOH  7 175-328</td><td>05 35 17.5</td><td>-05 23 28</td><td>5</td><td>5</td><td>--</td><td>--</td><td>0</td><td>D</td><td></td><td>2004AJ....127.3456D</td><td>1</td></tr>\n",
       "<tr><td>MAX 126</td><td>05 35 17.11</td><td>-05 23 29.3</td><td>6</td><td>6</td><td>--</td><td>--</td><td>0</td><td>D</td><td>I</td><td>2005AJ....129.1534R</td><td>1</td></tr>\n",
       "<tr><td>DOH  7 171-327</td><td>05 35 17.1</td><td>-05 23 27</td><td>5</td><td>5</td><td>--</td><td>--</td><td>0</td><td>D</td><td></td><td>2004AJ....127.3456D</td><td>1</td></tr>\n",
       "<tr><td>MAX 125</td><td>05 35 17.11</td><td>-05 23 26.6</td><td>6</td><td>6</td><td>--</td><td>--</td><td>0</td><td>D</td><td>I</td><td>2005AJ....129.1534R</td><td>1</td></tr>\n",
       "<tr><td>[OW94] 171-326</td><td>05 35 17.1</td><td>-05 23 26</td><td>5</td><td>5</td><td>--</td><td>--</td><td>0</td><td>D</td><td></td><td>2004AJ....127.3456D</td><td>1</td></tr>\n",
       "<tr><td>DOH  7 171-325</td><td>05 35 17.1</td><td>-05 23 25</td><td>5</td><td>5</td><td>--</td><td>--</td><td>0</td><td>D</td><td></td><td>2004AJ....127.3456D</td><td>1</td></tr>\n",
       "<tr><td>HH 1143</td><td>05 35 17.5</td><td>-05 23 25</td><td>5</td><td>5</td><td>--</td><td>--</td><td>0</td><td>E</td><td></td><td>2015AJ....150..108O</td><td>1</td></tr>\n",
       "<tr><td>DOH  7 175-324</td><td>05 35 17.5</td><td>-05 23 24</td><td>5</td><td>5</td><td>--</td><td>--</td><td>0</td><td>D</td><td></td><td>2004AJ....127.3456D</td><td>1</td></tr>\n",
       "<tr><td>COUP   900</td><td>05 35 17.56</td><td>-05 23 24.8</td><td>6</td><td>6</td><td>--</td><td>--</td><td>0</td><td>C</td><td>R</td><td>2014ApJ...790...49K</td><td>1</td></tr>\n",
       "<tr><td>[H97b] 20001</td><td>05 35 17.22</td><td>-05 23 33.3</td><td>6</td><td>6</td><td>150.000</td><td>150.000</td><td>90</td><td>C</td><td>O</td><td>2009A&amp;A...502..883R</td><td>1</td></tr>\n",
       "<tr><td>DOH  7</td><td>05 35 17</td><td>-05 23.4</td><td>4</td><td>4</td><td>--</td><td>--</td><td>0</td><td>E</td><td></td><td></td><td>1</td></tr>\n",
       "<tr><td>TCC  77</td><td>05 35 16.851</td><td>-05 23 26.71</td><td>7</td><td>7</td><td>--</td><td>--</td><td>0</td><td>C</td><td>O</td><td>1998AJ....116..293B</td><td>1</td></tr>\n",
       "<tr><td>...</td><td>...</td><td>...</td><td>...</td><td>...</td><td>...</td><td>...</td><td>...</td><td>...</td><td>...</td><td>...</td><td>...</td></tr>\n",
       "<tr><td>2MASS J05350625-0522204</td><td>05 35 06.251</td><td>-05 22 20.47</td><td>7</td><td>7</td><td>210.000</td><td>180.000</td><td>94</td><td>C</td><td>I</td><td>2003yCat.2246....0C</td><td>1</td></tr>\n",
       "<tr><td>[FRM2016] 97</td><td>05 35 12.9814</td><td>-05 20 41.560</td><td>9</td><td>9</td><td>--</td><td>--</td><td>0</td><td>C</td><td>R</td><td>2016ApJ...822...93F</td><td>1</td></tr>\n",
       "<tr><td>COUP   996</td><td>05 35 18.8823</td><td>-05 20 30.924</td><td>14</td><td>14</td><td>0.333</td><td>0.338</td><td>90</td><td>A</td><td>O</td><td>2018yCat.1345....0G</td><td>1</td></tr>\n",
       "<tr><td>[YKS96]  8</td><td>05 35 11.0</td><td>-05 26 00</td><td>5</td><td>5</td><td>--</td><td>--</td><td>0</td><td>D</td><td></td><td></td><td>1</td></tr>\n",
       "<tr><td>COUP   280</td><td>05 35 07.05</td><td>-05 25 00.5</td><td>6</td><td>6</td><td>80.000</td><td>80.000</td><td>90</td><td>C</td><td>I</td><td>2003yCat.2246....0C</td><td>1</td></tr>\n",
       "<tr><td>[SRB2015] p142</td><td>05 35 25.9653</td><td>-05 21 24.460</td><td>9</td><td>9</td><td>--</td><td>--</td><td>0</td><td>E</td><td>s</td><td>2015MNRAS.449.1769S</td><td>1</td></tr>\n",
       "<tr><td>[LB2000]  19</td><td>05 35 13.0</td><td>-05 20 41</td><td>5</td><td>5</td><td>--</td><td>--</td><td>0</td><td>D</td><td></td><td>2000MNRAS.315...11L</td><td>1</td></tr>\n",
       "<tr><td>2MASS J05351814-0520295</td><td>05 35 18.142</td><td>-05 20 29.52</td><td>7</td><td>7</td><td>170.000</td><td>160.000</td><td>96</td><td>C</td><td>I</td><td>2003yCat.2246....0C</td><td>1</td></tr>\n",
       "<tr><td>COUP   608</td><td>05 35 14.1859</td><td>-05 26 20.820</td><td>9</td><td>9</td><td>--</td><td>--</td><td>0</td><td>C</td><td>R</td><td>2016ApJ...822...93F</td><td>1</td></tr>\n",
       "<tr><td>JW  377</td><td>05 35 12.2722</td><td>-05 20 45.145</td><td>14</td><td>14</td><td>0.255</td><td>0.258</td><td>90</td><td>A</td><td>O</td><td>2018yCat.1345....0G</td><td>1</td></tr>\n",
       "<tr><td>[FRM2016] 99</td><td>05 35 12.9936</td><td>-05 20 40.570</td><td>9</td><td>9</td><td>--</td><td>--</td><td>0</td><td>C</td><td>R</td><td>2016ApJ...822...93F</td><td>1</td></tr>\n",
       "<tr><td>[SKN2015] C18O-Ori 120</td><td>05 35 05.70</td><td>-05 22 41.5</td><td>6</td><td>6</td><td>--</td><td>--</td><td>0</td><td>E</td><td>m</td><td>2015ApJS..217....7S</td><td>1</td></tr>\n",
       "<tr><td>[EBG2016] HC795</td><td>05 35 12.6003</td><td>-05 20 42.937</td><td>14</td><td>14</td><td>0.180</td><td>0.182</td><td>90</td><td>A</td><td>O</td><td>2018yCat.1345....0G</td><td>1</td></tr>\n",
       "<tr><td>[NW2007] OrionAN-0535146-52623</td><td>05 35 14.6</td><td>-05 26 23</td><td>5</td><td>5</td><td>--</td><td>--</td><td>0</td><td>E</td><td>m</td><td>2007MNRAS.374.1413N</td><td>1</td></tr>\n",
       "<tr><td>MLLA  945</td><td>05 35 19.69</td><td>-05 20 31.6</td><td>6</td><td>6</td><td>--</td><td>--</td><td>0</td><td>C</td><td>O</td><td>2009ApJS..183..261D</td><td>1</td></tr>\n",
       "</table></div>"
      ],
      "text/plain": [
       "<Table length=2491>\n",
       "           MAIN_ID                   RA           DEC      RA_PREC DEC_PREC ... COO_ERR_ANGLE COO_QUAL COO_WAVELENGTH     COO_BIBCODE     SCRIPT_NUMBER_ID\n",
       "                                  \"h:m:s\"       \"d:m:s\"                     ...      deg                                                                  \n",
       "            object                 str13         str13      int16   int16   ...     int16       str1        str1             object            int32      \n",
       "------------------------------ ------------- ------------- ------- -------- ... ------------- -------- -------------- ------------------- ----------------\n",
       "                         M  42    05 35 17.3     -05 23 28       5        5 ...            90        D                1981MNRAS.194..693L                1\n",
       "               NAME Ori Region   05 35 17.30   -05 23 28.0       6        6 ...             0        D              O                                    1\n",
       "                 [FRM2016] 344 05 35 17.2210 -05 23 26.542       9        9 ...             0        C              R 2016ApJ...822...93F                1\n",
       "                DOH  7 175-328    05 35 17.5     -05 23 28       5        5 ...             0        D                2004AJ....127.3456D                1\n",
       "                       MAX 126   05 35 17.11   -05 23 29.3       6        6 ...             0        D              I 2005AJ....129.1534R                1\n",
       "                DOH  7 171-327    05 35 17.1     -05 23 27       5        5 ...             0        D                2004AJ....127.3456D                1\n",
       "                       MAX 125   05 35 17.11   -05 23 26.6       6        6 ...             0        D              I 2005AJ....129.1534R                1\n",
       "                [OW94] 171-326    05 35 17.1     -05 23 26       5        5 ...             0        D                2004AJ....127.3456D                1\n",
       "                DOH  7 171-325    05 35 17.1     -05 23 25       5        5 ...             0        D                2004AJ....127.3456D                1\n",
       "                       HH 1143    05 35 17.5     -05 23 25       5        5 ...             0        E                2015AJ....150..108O                1\n",
       "                DOH  7 175-324    05 35 17.5     -05 23 24       5        5 ...             0        D                2004AJ....127.3456D                1\n",
       "                    COUP   900   05 35 17.56   -05 23 24.8       6        6 ...             0        C              R 2014ApJ...790...49K                1\n",
       "                  [H97b] 20001   05 35 17.22   -05 23 33.3       6        6 ...            90        C              O 2009A&A...502..883R                1\n",
       "                        DOH  7      05 35 17      -05 23.4       4        4 ...             0        E                                                   1\n",
       "                       TCC  77  05 35 16.851  -05 23 26.71       7        7 ...             0        C              O 1998AJ....116..293B                1\n",
       "                           ...           ...           ...     ...      ... ...           ...      ...            ...                 ...              ...\n",
       "       2MASS J05350625-0522204  05 35 06.251  -05 22 20.47       7        7 ...            94        C              I 2003yCat.2246....0C                1\n",
       "                  [FRM2016] 97 05 35 12.9814 -05 20 41.560       9        9 ...             0        C              R 2016ApJ...822...93F                1\n",
       "                    COUP   996 05 35 18.8823 -05 20 30.924      14       14 ...            90        A              O 2018yCat.1345....0G                1\n",
       "                    [YKS96]  8    05 35 11.0     -05 26 00       5        5 ...             0        D                                                   1\n",
       "                    COUP   280   05 35 07.05   -05 25 00.5       6        6 ...            90        C              I 2003yCat.2246....0C                1\n",
       "                [SRB2015] p142 05 35 25.9653 -05 21 24.460       9        9 ...             0        E              s 2015MNRAS.449.1769S                1\n",
       "                  [LB2000]  19    05 35 13.0     -05 20 41       5        5 ...             0        D                2000MNRAS.315...11L                1\n",
       "       2MASS J05351814-0520295  05 35 18.142  -05 20 29.52       7        7 ...            96        C              I 2003yCat.2246....0C                1\n",
       "                    COUP   608 05 35 14.1859 -05 26 20.820       9        9 ...             0        C              R 2016ApJ...822...93F                1\n",
       "                       JW  377 05 35 12.2722 -05 20 45.145      14       14 ...            90        A              O 2018yCat.1345....0G                1\n",
       "                  [FRM2016] 99 05 35 12.9936 -05 20 40.570       9        9 ...             0        C              R 2016ApJ...822...93F                1\n",
       "        [SKN2015] C18O-Ori 120   05 35 05.70   -05 22 41.5       6        6 ...             0        E              m 2015ApJS..217....7S                1\n",
       "               [EBG2016] HC795 05 35 12.6003 -05 20 42.937      14       14 ...            90        A              O 2018yCat.1345....0G                1\n",
       "[NW2007] OrionAN-0535146-52623    05 35 14.6     -05 26 23       5        5 ...             0        E              m 2007MNRAS.374.1413N                1\n",
       "                     MLLA  945   05 35 19.69   -05 20 31.6       6        6 ...             0        C              O 2009ApJS..183..261D                1"
      ]
     },
     "execution_count": 4,
     "metadata": {},
     "output_type": "execute_result"
    }
   ],
   "source": [
    "Simbad.SIMBAD_URL = 'http://simbad.harvard.edu/simbad/sim-script'\n",
    "\n",
    "#To query Simbad, see https://astroquery.readthedocs.io/en/latest/simbad/simbad.html\n",
    "table = Simbad.query_region(\"m42\", radius=0.05 * u.deg)\n",
    "#this defines the object \"table\" that we will use later\n",
    "#\n",
    "#How to convert a generic table in my disk to a Simbad Table?\n",
    "table\n"
   ]
  },
  {
   "cell_type": "markdown",
   "metadata": {},
   "source": [
    "# 2) Extract Table from published dataset"
   ]
  },
  {
   "cell_type": "code",
   "execution_count": 5,
   "metadata": {},
   "outputs": [
    {
     "name": "stdout",
     "output_type": "stream",
     "text": [
      "Seq   RAJ2000     DEJ2000    Ksmag\n",
      "      \"h:m:s\"     \"d:m:s\"     mag \n",
      "--- ----------- ------------ -----\n",
      "  1 05 35 12.95 -05 22 44.34  14.0\n",
      "  2 05 35 12.35 -05 22 41.35  14.2\n",
      "  3 05 35 15.39 -05 22 39.93  14.0\n",
      "  4 05 35 13.30 -05 22 39.32  13.9\n",
      "  5 05 35 14.50 -05 22 38.78  14.1\n",
      "  6 05 35 12.31 -05 22 34.19  14.4\n",
      "  7 05 35 15.56 -05 22 20.13  13.4\n",
      "  8 05 35 14.20 -05 22 12.99  13.1\n",
      "  9 05 35 13.57 -05 22 09.65  13.8\n",
      " 10 05 35 10.58 -05 21 14.08  13.6\n",
      " 11 05 35 12.08 -05 21 12.95  14.0\n",
      " 12 05 35 13.62 -05 21 05.22  13.0\n",
      " 13 05 35 15.37 -05 20 47.37  14.2\n",
      " 14 05 35 13.09 -05 20 45.92  14.0\n",
      " 15 05 35 11.87 -05 20 43.51  11.8\n",
      "...         ...          ...   ...\n",
      " 25 05 35 13.61 -05 20 31.51   8.5\n",
      " 26 05 35 13.07 -05 20 30.42   8.0\n",
      " 27 05 35 15.27 -05 20 28.99   9.6\n",
      " 28 05 35 14.76 -05 20 28.99   7.7\n",
      " 29 05 35 12.23 -05 20 26.52  12.5\n",
      " 30 05 35 14.17 -05 20 23.65   9.1\n",
      " 31 05 35 10.50 -05 20 21.03  13.8\n",
      " 32 05 35 13.33 -05 20 19.09   8.6\n",
      " 33 05 35 14.70 -05 20 17.13  11.5\n",
      " 34 05 35 15.19 -05 20 15.01   9.7\n",
      " 35 05 35 10.98 -05 20 12.94  13.7\n",
      " 36 05 35 14.17 -05 20 08.17  11.8\n",
      " 37 05 35 14.21 -05 20 04.50   7.9\n",
      " 38 05 35 14.25 -05 20 03.84  11.8\n",
      " 39 05 35 11.90 -05 20 02.42   9.4\n",
      " 40 05 35 14.84 -05 20 02.29  14.4\n",
      "Length = 40 rows\n"
     ]
    }
   ],
   "source": [
    "from astropy import coordinates, units as u, wcs\n",
    "from astroquery.vizier import Vizier\n",
    "\n",
    "center = coordinates.SkyCoord.from_name('Orion KL')\n",
    "\n",
    "from astroquery.vizier import Vizier\n",
    "tablelist = Vizier.query_region(center, radius=5*u.arcmin,\n",
    "                                catalog='J/ApJ/826/16/table1')\n",
    "# the result is a list of tables, so we'll get the first one\n",
    "result = tablelist[0]\n",
    "print(tablelist[0])  # this is a table list type object."
   ]
  },
  {
   "cell_type": "markdown",
   "metadata": {},
   "source": [
    "# 3) READ TABLE FROM AN UNPUBLISHED, NON SIMBAD CATALOG"
   ]
  },
  {
   "cell_type": "code",
   "execution_count": 6,
   "metadata": {},
   "outputs": [
    {
     "data": {
      "text/html": [
       "<div><i>Table length=4510</i>\n",
       "<table id=\"table140556329278800\" class=\"table-striped table-bordered table-condensed\">\n",
       "<thead><tr><th>index</th><th>MainID</th><th>OtherID</th><th>RA</th><th>DEC</th><th>X_mos</th><th>Y_mos</th><th>mag130</th><th>dmag130</th><th>mag139</th><th>dmag139</th><th>color</th><th>dcolor</th><th>Delta130</th><th>Delta139</th><th>Nr_IR</th></tr></thead>\n",
       "<thead><tr><th>int64</th><th>int64</th><th>str24</th><th>float64</th><th>float64</th><th>float64</th><th>float64</th><th>float64</th><th>float64</th><th>float64</th><th>float64</th><th>float64</th><th>float64</th><th>float64</th><th>float64</th><th>int64</th></tr></thead>\n",
       "<tr><td>0</td><td>0</td><td>44-1078</td><td>83.62638127</td><td>-5.457796715</td><td>10112.93708</td><td>7947.759999</td><td>9.797189999999999</td><td>0.0200096</td><td>9.77856</td><td>0.20154</td><td>-0.07713510000000001</td><td>0.115685</td><td>0.061069500000000006</td><td>0.563724</td><td>3</td></tr>\n",
       "<tr><td>1</td><td>1</td><td>26-47-65</td><td>83.60899771</td><td>-5.4417766389999995</td><td>10598.80566</td><td>8397.328145</td><td>10.9083</td><td>0.018506599999999998</td><td>10.6736</td><td>0.0265132</td><td>0.240065</td><td>0.0172287</td><td>0.0611172</td><td>0.07698060000000001</td><td>4</td></tr>\n",
       "<tr><td>2</td><td>2</td><td>48</td><td>83.6163478</td><td>-5.442952953</td><td>10393.40753</td><td>8364.360953</td><td>11.7239</td><td>0.0109769</td><td>11.5305</td><td>0.0177515</td><td>0.195181</td><td>0.00717064</td><td>0.0273504</td><td>0.0428772</td><td>2</td></tr>\n",
       "<tr><td>3</td><td>3</td><td>122</td><td>83.63294382</td><td>-5.443574706000001</td><td>9929.648054000001</td><td>8347.017071</td><td>12.1459</td><td>0.0300123</td><td>12.1324</td><td>0.0124562</td><td>0.0306892</td><td>0.0207105</td><td>0.0713882</td><td>0.026536</td><td>2</td></tr>\n",
       "<tr><td>4</td><td>4</td><td>50</td><td>83.61754036</td><td>-5.444362865</td><td>10360.073059999999</td><td>8324.792596</td><td>13.3779</td><td>0.0103522</td><td>13.4268</td><td>0.0228317</td><td>-0.053258400000000004</td><td>0.018213</td><td>0.0280094</td><td>0.0634899</td><td>2</td></tr>\n",
       "<tr><td>5</td><td>5</td><td>27-49-67</td><td>83.60019909</td><td>-5.4402948989999995</td><td>10844.68505</td><td>8438.855152</td><td>13.6083</td><td>0.013171200000000001</td><td>13.1289</td><td>0.00630562</td><td>0.483117</td><td>0.00306582</td><td>0.038213699999999996</td><td>0.018191299999999997</td><td>4</td></tr>\n",
       "<tr><td>6</td><td>6</td><td>68-3209</td><td>83.62495811</td><td>-5.421466377000001</td><td>10152.944790000001</td><td>8967.553107</td><td>13.2284</td><td>0.0132644</td><td>13.3092</td><td>0.0140082</td><td>-0.0934917</td><td>0.0160946</td><td>0.034061400000000006</td><td>0.0423231</td><td>3</td></tr>\n",
       "<tr><td>7</td><td>7</td><td>69</td><td>83.62240094</td><td>-5.431073199</td><td>10224.33993</td><td>8697.870090999999</td><td>13.7699</td><td>0.00403174</td><td>13.8486</td><td>0.00431242</td><td>-0.07873150000000001</td><td>0.00533006</td><td>0.00882912</td><td>0.010527600000000002</td><td>2</td></tr>\n",
       "<tr><td>8</td><td>8</td><td>128</td><td>83.642761</td><td>-5.443063945</td><td>9655.322570999999</td><td>8361.412655</td><td>16.3695</td><td>0.00180537</td><td>16.1528</td><td>0.010722</td><td>0.20598000000000002</td><td>0.0210364</td><td>0.00347519</td><td>0.0248451</td><td>2</td></tr>\n",
       "<tr><td>9</td><td>9</td><td>54-1087</td><td>83.6191869</td><td>-5.461625347000001</td><td>10313.94369</td><td>7840.241328</td><td>17.994</td><td>0.029831599999999996</td><td>18.462</td><td>0.013519899999999998</td><td>-0.45894700000000005</td><td>0.0157417</td><td>0.0927563</td><td>0.0354309</td><td>3</td></tr>\n",
       "<tr><td>10</td><td>10</td><td>3216-3222</td><td>83.62898611</td><td>-5.4196348610000005</td><td>10040.394970000001</td><td>9018.990171</td><td>19.9822</td><td>0.318089</td><td>19.2613</td><td>0.0060152</td><td>0.459246</td><td>0.103591</td><td>0.736464</td><td>0.00850677</td><td>3</td></tr>\n",
       "<tr><td>11</td><td>11</td><td>137-3217</td><td>83.63764521</td><td>-5.434568447999999</td><td>9798.327987</td><td>8599.853558</td><td>19.7007</td><td>0.19703099999999998</td><td>19.4956</td><td>0.07266389999999999</td><td>0.236051</td><td>0.127822</td><td>0.477001</td><td>0.20203</td><td>3</td></tr>\n",
       "<tr><td>12</td><td>12</td><td>59-1090</td><td>83.61855812</td><td>-5.465540166</td><td>10331.486579999999</td><td>7730.346992</td><td>19.8975</td><td>0.07188510000000001</td><td>19.6124</td><td>0.118974</td><td>0.223676</td><td>0.055335300000000004</td><td>0.168249</td><td>0.281</td><td>3</td></tr>\n",
       "<tr><td>13</td><td>13</td><td>77-3219</td><td>83.62611475</td><td>-5.420471415</td><td>10120.62935</td><td>8995.489501</td><td>19.8696</td><td>0.0876691</td><td>20.0889</td><td>0.144924</td><td>-0.371724</td><td>0.41927700000000007</td><td>0.268259</td><td>0.429001</td><td>3</td></tr>\n",
       "<tr><td>14</td><td>14</td><td>144</td><td>83.62780554</td><td>-5.4533836870000005</td><td>10073.16727</td><td>8071.644044</td><td>20.7335</td><td>0.060263199999999996</td><td>20.5574</td><td>0.0886062</td><td>0.0845028</td><td>0.125505</td><td>0.132723</td><td>0.248777</td><td>2</td></tr>\n",
       "<tr><td>...</td><td>...</td><td>...</td><td>...</td><td>...</td><td>...</td><td>...</td><td>...</td><td>...</td><td>...</td><td>...</td><td>...</td><td>...</td><td>...</td><td>...</td><td>...</td></tr>\n",
       "<tr><td>4494</td><td>8723</td><td>-</td><td>83.9262267</td><td>-5.689369736000001</td><td>1736.090011</td><td>1447.2742460000002</td><td>18.0161</td><td>0.00442913</td><td>17.761</td><td>0.0089999</td><td>0.25966300000000003</td><td>0.00189088</td><td>0.00626373</td><td>0.017999599999999998</td><td>1</td></tr>\n",
       "<tr><td>4495</td><td>8725</td><td>-</td><td>83.93020863</td><td>-5.695275624</td><td>1624.910673</td><td>1281.460726</td><td>18.8313</td><td>0.00599328</td><td>18.493</td><td>0.027097700000000002</td><td>0.338287</td><td>0.021429300000000002</td><td>0.0119267</td><td>0.050067900000000005</td><td>1</td></tr>\n",
       "<tr><td>4496</td><td>8727</td><td>-</td><td>83.92641821</td><td>-5.697348312000001</td><td>1730.8003420000002</td><td>1223.308592</td><td>19.3586</td><td>0.0482408</td><td>19.0696</td><td>0.027537400000000004</td><td>0.294968</td><td>0.06612169999999999</td><td>0.09499930000000001</td><td>0.0580044</td><td>1</td></tr>\n",
       "<tr><td>4497</td><td>8728</td><td>-</td><td>83.92059953</td><td>-5.710447535</td><td>1893.421689</td><td>855.6480957</td><td>19.3959</td><td>0.0325863</td><td>19.0868</td><td>0.011513200000000001</td><td>0.30904</td><td>0.044036599999999995</td><td>0.0650005</td><td>0.0229988</td><td>1</td></tr>\n",
       "<tr><td>4498</td><td>8729</td><td>-</td><td>83.92627119</td><td>-5.710562546</td><td>1735.0055949999999</td><td>852.3764607</td><td>19.422</td><td>0.07998519999999999</td><td>19.2614</td><td>0.016513</td><td>0.160625</td><td>0.0829603</td><td>0.150051</td><td>0.031999599999999996</td><td>1</td></tr>\n",
       "<tr><td>4499</td><td>8730</td><td>-</td><td>83.92571895</td><td>-5.704324428</td><td>1750.383955</td><td>1027.4893769999999</td><td>19.5898</td><td>0.031035000000000004</td><td>19.245</td><td>0.0118302</td><td>0.344825</td><td>0.035873</td><td>0.0620003</td><td>0.0230732</td><td>1</td></tr>\n",
       "<tr><td>4500</td><td>8731</td><td>-</td><td>83.93887978</td><td>-5.698196925</td><td>1382.731133</td><td>1199.387172</td><td>19.2805</td><td>0.567539</td><td>19.3137</td><td>0.017994</td><td>-0.368153</td><td>0.807917</td><td>1.01747</td><td>0.0359688</td><td>1</td></tr>\n",
       "<tr><td>4501</td><td>8734</td><td>-</td><td>83.92347979</td><td>-5.695983864</td><td>1812.8660899999998</td><td>1261.6321480000001</td><td>19.7057</td><td>0.0881253</td><td>19.7966</td><td>0.00515608</td><td>-0.0909595</td><td>0.0932814</td><td>0.124628</td><td>0.00729179</td><td>1</td></tr>\n",
       "<tr><td>4502</td><td>8739</td><td>-</td><td>83.92646793</td><td>-5.689335448</td><td>1729.351643</td><td>1448.234869</td><td>20.5861</td><td>0.0368555</td><td>20.1435</td><td>0.014849200000000002</td><td>0.463318</td><td>0.0348121</td><td>0.0726757</td><td>0.020999900000000002</td><td>1</td></tr>\n",
       "<tr><td>4503</td><td>8743</td><td>-</td><td>83.92383617</td><td>-5.69954177</td><td>1802.937854</td><td>1161.7564960000002</td><td>21.0545</td><td>0.160451</td><td>20.9737</td><td>0.0126738</td><td>0.309638</td><td>0.417308</td><td>0.226912</td><td>0.0251713</td><td>1</td></tr>\n",
       "<tr><td>4504</td><td>8744</td><td>-</td><td>83.92183983</td><td>-5.69522258</td><td>1858.6679149999998</td><td>1283.014316</td><td>20.7109</td><td>0.0309297</td><td>20.9714</td><td>0.0660923</td><td>-0.2548</td><td>0.123321</td><td>0.0437412</td><td>0.130661</td><td>1</td></tr>\n",
       "<tr><td>4505</td><td>8746</td><td>-</td><td>83.92321705</td><td>-5.694496435</td><td>1820.194045</td><td>1303.3873119999998</td><td>21.1403</td><td>0.0287125</td><td>21.1181</td><td>0.0380697</td><td>0.20714899999999997</td><td>0.122971</td><td>0.0406055</td><td>0.053838699999999996</td><td>1</td></tr>\n",
       "<tr><td>4506</td><td>8755</td><td>-</td><td>83.94867786</td><td>-5.6514711470000005</td><td>1108.653719</td><td>2510.926586</td><td>18.3009</td><td>0.00434686</td><td>18.0735</td><td>0.0200061</td><td>0.21685500000000002</td><td>0.0157622</td><td>0.00614738</td><td>0.0397778</td><td>1</td></tr>\n",
       "<tr><td>4507</td><td>8758</td><td>-</td><td>83.95056095</td><td>-5.65207348</td><td>1056.05638</td><td>2494.002184</td><td>19.0857</td><td>0.0117175</td><td>18.8757</td><td>0.00673357</td><td>0.194024</td><td>0.03477619999999999</td><td>0.016571000000000002</td><td>0.0126343</td><td>1</td></tr>\n",
       "<tr><td>4508</td><td>8765</td><td>-</td><td>83.94266121</td><td>-5.6584323229999995</td><td>1276.7809849999999</td><td>2315.574065</td><td>19.2528</td><td>0.046335900000000006</td><td>19.0848</td><td>0.013818100000000002</td><td>0.161884</td><td>0.033779500000000004</td><td>0.0655289</td><td>0.027217900000000003</td><td>1</td></tr>\n",
       "<tr><td>4509</td><td>8767</td><td>-</td><td>83.94504816</td><td>-5.656459012999999</td><td>1210.08791</td><td>2370.945701</td><td>19.4675</td><td>0.0219541</td><td>19.2551</td><td>0.0128855</td><td>0.212412</td><td>0.00906865</td><td>0.0310478</td><td>0.018222799999999997</td><td>1</td></tr>\n",
       "</table></div>"
      ],
      "text/plain": [
       "<Table length=4510>\n",
       "index MainID  OtherID       RA             DEC         ...         color                dcolor              Delta130             Delta139       Nr_IR\n",
       "int64 int64    str24     float64         float64       ...        float64              float64              float64              float64        int64\n",
       "----- ------ --------- ----------- ------------------- ... --------------------- -------------------- -------------------- -------------------- -----\n",
       "    0      0   44-1078 83.62638127        -5.457796715 ...  -0.07713510000000001             0.115685 0.061069500000000006             0.563724     3\n",
       "    1      1  26-47-65 83.60899771 -5.4417766389999995 ...              0.240065            0.0172287            0.0611172  0.07698060000000001     4\n",
       "    2      2        48  83.6163478        -5.442952953 ...              0.195181           0.00717064            0.0273504            0.0428772     2\n",
       "    3      3       122 83.63294382  -5.443574706000001 ...             0.0306892            0.0207105            0.0713882             0.026536     2\n",
       "    4      4        50 83.61754036        -5.444362865 ... -0.053258400000000004             0.018213            0.0280094            0.0634899     2\n",
       "    5      5  27-49-67 83.60019909 -5.4402948989999995 ...              0.483117           0.00306582 0.038213699999999996 0.018191299999999997     4\n",
       "    6      6   68-3209 83.62495811  -5.421466377000001 ...            -0.0934917            0.0160946 0.034061400000000006            0.0423231     3\n",
       "    7      7        69 83.62240094        -5.431073199 ...  -0.07873150000000001           0.00533006           0.00882912 0.010527600000000002     2\n",
       "    8      8       128   83.642761        -5.443063945 ...   0.20598000000000002            0.0210364           0.00347519            0.0248451     2\n",
       "    9      9   54-1087  83.6191869  -5.461625347000001 ...  -0.45894700000000005            0.0157417            0.0927563            0.0354309     3\n",
       "   10     10 3216-3222 83.62898611 -5.4196348610000005 ...              0.459246             0.103591             0.736464           0.00850677     3\n",
       "   11     11  137-3217 83.63764521  -5.434568447999999 ...              0.236051             0.127822             0.477001              0.20203     3\n",
       "   12     12   59-1090 83.61855812        -5.465540166 ...              0.223676 0.055335300000000004             0.168249                0.281     3\n",
       "   13     13   77-3219 83.62611475        -5.420471415 ...             -0.371724  0.41927700000000007             0.268259             0.429001     3\n",
       "   14     14       144 83.62780554 -5.4533836870000005 ...             0.0845028             0.125505             0.132723             0.248777     2\n",
       "  ...    ...       ...         ...                 ... ...                   ...                  ...                  ...                  ...   ...\n",
       " 4494   8723         -  83.9262267  -5.689369736000001 ...   0.25966300000000003           0.00189088           0.00626373 0.017999599999999998     1\n",
       " 4495   8725         - 83.93020863        -5.695275624 ...              0.338287 0.021429300000000002            0.0119267 0.050067900000000005     1\n",
       " 4496   8727         - 83.92641821  -5.697348312000001 ...              0.294968  0.06612169999999999  0.09499930000000001            0.0580044     1\n",
       " 4497   8728         - 83.92059953        -5.710447535 ...               0.30904 0.044036599999999995            0.0650005            0.0229988     1\n",
       " 4498   8729         - 83.92627119        -5.710562546 ...              0.160625            0.0829603             0.150051 0.031999599999999996     1\n",
       " 4499   8730         - 83.92571895        -5.704324428 ...              0.344825             0.035873            0.0620003            0.0230732     1\n",
       " 4500   8731         - 83.93887978        -5.698196925 ...             -0.368153             0.807917              1.01747            0.0359688     1\n",
       " 4501   8734         - 83.92347979        -5.695983864 ...            -0.0909595            0.0932814             0.124628           0.00729179     1\n",
       " 4502   8739         - 83.92646793        -5.689335448 ...              0.463318            0.0348121            0.0726757 0.020999900000000002     1\n",
       " 4503   8743         - 83.92383617         -5.69954177 ...              0.309638             0.417308             0.226912            0.0251713     1\n",
       " 4504   8744         - 83.92183983         -5.69522258 ...               -0.2548             0.123321            0.0437412             0.130661     1\n",
       " 4505   8746         - 83.92321705        -5.694496435 ...   0.20714899999999997             0.122971            0.0406055 0.053838699999999996     1\n",
       " 4506   8755         - 83.94867786 -5.6514711470000005 ...   0.21685500000000002            0.0157622           0.00614738            0.0397778     1\n",
       " 4507   8758         - 83.95056095         -5.65207348 ...              0.194024  0.03477619999999999 0.016571000000000002            0.0126343     1\n",
       " 4508   8765         - 83.94266121 -5.6584323229999995 ...              0.161884 0.033779500000000004            0.0655289 0.027217900000000003     1\n",
       " 4509   8767         - 83.94504816  -5.656459012999999 ...              0.212412           0.00906865            0.0310478 0.018222799999999997     1"
      ]
     },
     "execution_count": 6,
     "metadata": {},
     "output_type": "execute_result"
    }
   ],
   "source": [
    "import pandas as pd\n",
    "\n",
    "#Read a CSV file as a pandas file\n",
    "catfile = 'Tables/Slimtable_F130&MainIDfixed_8782.csv'\n",
    "pandacat = pd.read_csv(catfile)\n",
    "\n",
    "#check...\n",
    "pandacat.head()\n",
    "\n",
    "#to create an astropy table, use\n",
    "table1 = table.from_pandas(pandacat)\n",
    "table1"
   ]
  },
  {
   "cell_type": "markdown",
   "metadata": {},
   "source": [
    "# 4) READ A TABLE EXTRACTED FROM VIZIER X-MATCH LIBRARY "
   ]
  },
  {
   "cell_type": "code",
   "execution_count": 7,
   "metadata": {},
   "outputs": [
    {
     "data": {
      "text/html": [
       "<div>\n",
       "<style scoped>\n",
       "    .dataframe tbody tr th:only-of-type {\n",
       "        vertical-align: middle;\n",
       "    }\n",
       "\n",
       "    .dataframe tbody tr th {\n",
       "        vertical-align: top;\n",
       "    }\n",
       "\n",
       "    .dataframe thead th {\n",
       "        text-align: right;\n",
       "    }\n",
       "</style>\n",
       "<table border=\"1\" class=\"dataframe\">\n",
       "  <thead>\n",
       "    <tr style=\"text-align: right;\">\n",
       "      <th></th>\n",
       "      <th>index</th>\n",
       "      <th>RA</th>\n",
       "      <th>DEC</th>\n",
       "      <th>X_mos</th>\n",
       "      <th>Y_mos</th>\n",
       "      <th>mag130</th>\n",
       "      <th>dmag130</th>\n",
       "      <th>mag139</th>\n",
       "      <th>dmag139</th>\n",
       "      <th>color</th>\n",
       "      <th>dcolor</th>\n",
       "      <th>Delta130</th>\n",
       "      <th>Delta139</th>\n",
       "    </tr>\n",
       "  </thead>\n",
       "  <tbody>\n",
       "    <tr>\n",
       "      <th>0</th>\n",
       "      <td>0</td>\n",
       "      <td>83.626381</td>\n",
       "      <td>-5.457797</td>\n",
       "      <td>10112.937080</td>\n",
       "      <td>7947.759999</td>\n",
       "      <td>9.79719</td>\n",
       "      <td>0.020010</td>\n",
       "      <td>9.77856</td>\n",
       "      <td>0.201540</td>\n",
       "      <td>-0.077135</td>\n",
       "      <td>0.115685</td>\n",
       "      <td>0.061069</td>\n",
       "      <td>0.563724</td>\n",
       "    </tr>\n",
       "    <tr>\n",
       "      <th>1</th>\n",
       "      <td>1</td>\n",
       "      <td>83.608998</td>\n",
       "      <td>-5.441777</td>\n",
       "      <td>10598.805660</td>\n",
       "      <td>8397.328145</td>\n",
       "      <td>10.90830</td>\n",
       "      <td>0.018507</td>\n",
       "      <td>10.67360</td>\n",
       "      <td>0.026513</td>\n",
       "      <td>0.240065</td>\n",
       "      <td>0.017229</td>\n",
       "      <td>0.061117</td>\n",
       "      <td>0.076981</td>\n",
       "    </tr>\n",
       "    <tr>\n",
       "      <th>2</th>\n",
       "      <td>2</td>\n",
       "      <td>83.616348</td>\n",
       "      <td>-5.442953</td>\n",
       "      <td>10393.407530</td>\n",
       "      <td>8364.360953</td>\n",
       "      <td>11.72390</td>\n",
       "      <td>0.010977</td>\n",
       "      <td>11.53050</td>\n",
       "      <td>0.017751</td>\n",
       "      <td>0.195181</td>\n",
       "      <td>0.007171</td>\n",
       "      <td>0.027350</td>\n",
       "      <td>0.042877</td>\n",
       "    </tr>\n",
       "    <tr>\n",
       "      <th>3</th>\n",
       "      <td>3</td>\n",
       "      <td>83.632944</td>\n",
       "      <td>-5.443575</td>\n",
       "      <td>9929.648054</td>\n",
       "      <td>8347.017071</td>\n",
       "      <td>12.14590</td>\n",
       "      <td>0.030012</td>\n",
       "      <td>12.13240</td>\n",
       "      <td>0.012456</td>\n",
       "      <td>0.030689</td>\n",
       "      <td>0.020710</td>\n",
       "      <td>0.071388</td>\n",
       "      <td>0.026536</td>\n",
       "    </tr>\n",
       "    <tr>\n",
       "      <th>4</th>\n",
       "      <td>4</td>\n",
       "      <td>83.617540</td>\n",
       "      <td>-5.444363</td>\n",
       "      <td>10360.073060</td>\n",
       "      <td>8324.792596</td>\n",
       "      <td>13.37790</td>\n",
       "      <td>0.010352</td>\n",
       "      <td>13.42680</td>\n",
       "      <td>0.022832</td>\n",
       "      <td>-0.053258</td>\n",
       "      <td>0.018213</td>\n",
       "      <td>0.028009</td>\n",
       "      <td>0.063490</td>\n",
       "    </tr>\n",
       "  </tbody>\n",
       "</table>\n",
       "</div>"
      ],
      "text/plain": [
       "   index         RA       DEC         X_mos        Y_mos    mag130   dmag130  \\\n",
       "0      0  83.626381 -5.457797  10112.937080  7947.759999   9.79719  0.020010   \n",
       "1      1  83.608998 -5.441777  10598.805660  8397.328145  10.90830  0.018507   \n",
       "2      2  83.616348 -5.442953  10393.407530  8364.360953  11.72390  0.010977   \n",
       "3      3  83.632944 -5.443575   9929.648054  8347.017071  12.14590  0.030012   \n",
       "4      4  83.617540 -5.444363  10360.073060  8324.792596  13.37790  0.010352   \n",
       "\n",
       "     mag139   dmag139     color    dcolor  Delta130  Delta139  \n",
       "0   9.77856  0.201540 -0.077135  0.115685  0.061069  0.563724  \n",
       "1  10.67360  0.026513  0.240065  0.017229  0.061117  0.076981  \n",
       "2  11.53050  0.017751  0.195181  0.007171  0.027350  0.042877  \n",
       "3  12.13240  0.012456  0.030689  0.020710  0.071388  0.026536  \n",
       "4  13.42680  0.022832 -0.053258  0.018213  0.028009  0.063490  "
      ]
     },
     "execution_count": 7,
     "metadata": {},
     "output_type": "execute_result"
    }
   ],
   "source": [
    "#The X-match output table is a VOTable. Must handled with care, Pandas seems to work.\n",
    "from astropy.io.votable import parse\n",
    "import pandas as pd\n",
    "\n",
    "#Routine is required to read VOTable => Pandas\n",
    "def votable_to_pandas(votable_file):\n",
    "    votable = parse(votable_file)\n",
    "    table = votable.get_first_table().to_table(use_names_over_ids=True)\n",
    "    return table.to_pandas()\n",
    "\n",
    "#here we go...\n",
    "catfile = 'Tables/Slimtable.csv.vot'\n",
    "pandacat  = votable_to_pandas(catfile)\n",
    "\n",
    "pandacat.head()"
   ]
  },
  {
   "cell_type": "markdown",
   "metadata": {},
   "source": [
    "One way or the other we have managed to read a catalog. Next step:\n",
    "\n",
    "# SET THE RANKING\n",
    "\n",
    "We select from the private dataset, using Pandas: \n",
    "\n",
    "1) all stars between J=12 and 15\n",
    "\n",
    "2) With water in absorption"
   ]
  },
  {
   "cell_type": "code",
   "execution_count": 8,
   "metadata": {},
   "outputs": [
    {
     "data": {
      "text/plain": [
       "<bound method NDFrame.head of       index         RA       DEC         X_mos        Y_mos   mag130  \\\n",
       "3         3  83.632944 -5.443575   9929.648054  8347.017071  12.1459   \n",
       "4         4  83.617540 -5.444363  10360.073060  8324.792596  13.3779   \n",
       "5         5  83.600199 -5.440295  10844.685050  8438.855152  13.6083   \n",
       "6         6  83.624958 -5.421466  10152.944790  8967.553107  13.2284   \n",
       "7         7  83.622401 -5.431073  10224.339930  8697.870091  13.7699   \n",
       "...     ...        ...       ...           ...          ...      ...   \n",
       "4440   4440  83.927963 -5.676457   1687.493805  1809.724011  14.7710   \n",
       "4469   4469  83.912612 -5.683232   2116.342653  1619.672950  12.2033   \n",
       "4470   4470  83.923624 -5.676921   1808.699806  1796.743379  14.5086   \n",
       "4471   4471  83.927098 -5.682654   1711.707193  1635.781733  14.9022   \n",
       "4490   4490  83.931691 -5.708912   1583.614537   898.662426  12.7847   \n",
       "\n",
       "       dmag130   mag139   dmag139     color    dcolor  Delta130  Delta139  \n",
       "3     0.030012  12.1324  0.012456  0.030689  0.020710  0.071388  0.026536  \n",
       "4     0.010352  13.4268  0.022832 -0.053258  0.018213  0.028009  0.063490  \n",
       "5     0.013171  13.1289  0.006306  0.483117  0.003066  0.038214  0.018191  \n",
       "6     0.013264  13.3092  0.014008 -0.093492  0.016095  0.034061  0.042323  \n",
       "7     0.004032  13.8486  0.004312 -0.078731  0.005330  0.008829  0.010528  \n",
       "...        ...      ...       ...       ...       ...       ...       ...  \n",
       "4440  0.005608  14.9399  0.019058 -0.174196  0.018670  0.014072  0.058131  \n",
       "4469  0.016363  12.1413  0.014731  0.062044  0.003103  0.032561  0.029391  \n",
       "4470  0.022735  14.3761  0.000568  0.148466  0.021261  0.051327  0.001123  \n",
       "4471  0.006112  14.9931  0.010499 -0.083651  0.003976  0.015000  0.028054  \n",
       "4490  0.018561  12.6551  0.019028  0.127508  0.000801  0.045461  0.045520  \n",
       "\n",
       "[1081 rows x 13 columns]>"
      ]
     },
     "execution_count": 8,
     "metadata": {},
     "output_type": "execute_result"
    }
   ],
   "source": [
    "criteria=(pandacat['mag130'] > 12) & (pandacat['mag130'] < 15)\n",
    "pandacat2 = pandacat[criteria]\n",
    "pandacat2.head"
   ]
  },
  {
   "cell_type": "code",
   "execution_count": 9,
   "metadata": {},
   "outputs": [
    {
     "data": {
      "text/html": [
       "<div><i>Table length=1081</i>\n",
       "<table id=\"table140556337637200\" class=\"table-striped table-bordered table-condensed\">\n",
       "<thead><tr><th>index</th><th>RA</th><th>DEC</th><th>X_mos</th><th>Y_mos</th><th>mag130</th><th>dmag130</th><th>mag139</th><th>dmag139</th><th>color</th><th>dcolor</th><th>Delta130</th><th>Delta139</th></tr></thead>\n",
       "<thead><tr><th>int16</th><th>float64</th><th>float64</th><th>float64</th><th>float64</th><th>float32</th><th>float64</th><th>float32</th><th>float64</th><th>float64</th><th>float64</th><th>float64</th><th>float64</th></tr></thead>\n",
       "<tr><td>3</td><td>83.632944</td><td>-5.443575</td><td>9929.648054</td><td>8347.017071</td><td>12.1459</td><td>0.0300123</td><td>12.1324</td><td>0.0124562</td><td>0.0306892</td><td>0.0207105</td><td>0.0713882</td><td>0.026536</td></tr>\n",
       "<tr><td>4</td><td>83.61754</td><td>-5.444363</td><td>10360.07306</td><td>8324.792596</td><td>13.3779</td><td>0.0103522</td><td>13.4268</td><td>0.0228317</td><td>-0.0532584</td><td>0.018213</td><td>0.0280094</td><td>0.0634899</td></tr>\n",
       "<tr><td>5</td><td>83.600199</td><td>-5.440295</td><td>10844.68505</td><td>8438.855152</td><td>13.6083</td><td>0.0131712</td><td>13.1289</td><td>0.00630562</td><td>0.483117</td><td>0.00306582</td><td>0.0382137</td><td>0.0181913</td></tr>\n",
       "<tr><td>6</td><td>83.624958</td><td>-5.421466</td><td>10152.94479</td><td>8967.553107</td><td>13.2284</td><td>0.0132644</td><td>13.3092</td><td>0.0140082</td><td>-0.0934917</td><td>0.0160946</td><td>0.0340614</td><td>0.0423231</td></tr>\n",
       "<tr><td>7</td><td>83.622401</td><td>-5.431073</td><td>10224.33993</td><td>8697.870091</td><td>13.7699</td><td>0.00403174</td><td>13.8486</td><td>0.00431242</td><td>-0.0787315</td><td>0.00533006</td><td>0.00882912</td><td>0.0105276</td></tr>\n",
       "<tr><td>39</td><td>83.599874</td><td>-5.476306</td><td>10853.48308</td><td>7428.02447</td><td>13.8732</td><td>0.0366342</td><td>14.0238</td><td>0.038855</td><td>-0.153075</td><td>0.00249785</td><td>0.125285</td><td>0.117202</td></tr>\n",
       "<tr><td>40</td><td>83.605893</td><td>-5.462653</td><td>10685.39388</td><td>7811.301275</td><td>14.8996</td><td>0.017485</td><td>14.6482</td><td>0.019145</td><td>0.244598</td><td>0.0230243</td><td>0.0462532</td><td>0.043725</td></tr>\n",
       "<tr><td>51</td><td>83.664775</td><td>-5.45479</td><td>9040.122491</td><td>8032.3728</td><td>12.7277</td><td>0.00399403</td><td>12.4078</td><td>0.0131056</td><td>0.32956</td><td>0.00753459</td><td>0.00999451</td><td>0.0346403</td></tr>\n",
       "<tr><td>52</td><td>83.685028</td><td>-5.435024</td><td>8474.249423</td><td>8587.285264</td><td>12.8606</td><td>0.0142874</td><td>13.0513</td><td>0.0188883</td><td>-0.193241</td><td>0.0258926</td><td>0.036871</td><td>0.0596037</td></tr>\n",
       "<tr><td>53</td><td>83.673761</td><td>-5.448029</td><td>8789.048754</td><td>8222.211108</td><td>12.5787</td><td>0.0186275</td><td>12.5079</td><td>0.0200318</td><td>0.0708472</td><td>0.00310446</td><td>0.036808</td><td>0.040061</td></tr>\n",
       "<tr><td>54</td><td>83.670058</td><td>-5.444062</td><td>8892.547236</td><td>8333.539401</td><td>12.6616</td><td>0.0534426</td><td>12.534</td><td>0.0352932</td><td>0.127635</td><td>0.0192215</td><td>0.123031</td><td>0.0887012</td></tr>\n",
       "<tr><td>55</td><td>83.670108</td><td>-5.469292</td><td>8891.024583</td><td>7625.335691</td><td>12.4762</td><td>0.0104976</td><td>12.5929</td><td>0.00715013</td><td>-0.102797</td><td>0.0241891</td><td>0.0148458</td><td>0.0101118</td></tr>\n",
       "<tr><td>56</td><td>83.67015</td><td>-5.469267</td><td>8889.860611</td><td>7626.029057</td><td>12.6109</td><td>0.175439</td><td>12.6862</td><td>0.16829</td><td>-0.075304</td><td>0.010066</td><td>0.325577</td><td>0.319991</td></tr>\n",
       "<tr><td>87</td><td>83.63343</td><td>-5.461845</td><td>9915.953544</td><td>7834.177444</td><td>13.0075</td><td>0.00776244</td><td>12.8272</td><td>0.0158202</td><td>0.180302</td><td>0.0080578</td><td>0.0109777</td><td>0.0223732</td></tr>\n",
       "<tr><td>88</td><td>83.640962</td><td>-5.45504</td><td>9705.536675</td><td>8025.217961</td><td>13.0085</td><td>0.000738413</td><td>13.1063</td><td>0.00605229</td><td>-0.103782</td><td>0.00166564</td><td>0.00104427</td><td>0.00855923</td></tr>\n",
       "<tr><td>...</td><td>...</td><td>...</td><td>...</td><td>...</td><td>...</td><td>...</td><td>...</td><td>...</td><td>...</td><td>...</td><td>...</td><td>...</td></tr>\n",
       "<tr><td>4350</td><td>83.88883</td><td>-5.656879</td><td>2780.488566</td><td>2359.5577</td><td>12.7795</td><td>0.0245784</td><td>12.7492</td><td>0.013986</td><td>0.0402047</td><td>0.010145</td><td>0.0564194</td><td>0.0346117</td></tr>\n",
       "<tr><td>4351</td><td>83.889218</td><td>-5.655882</td><td>2769.623184</td><td>2387.540768</td><td>13.27</td><td>0.00740353</td><td>13.2372</td><td>0.0128747</td><td>0.0299484</td><td>0.0193847</td><td>0.0167751</td><td>0.0378284</td></tr>\n",
       "<tr><td>4352</td><td>83.898352</td><td>-5.652227</td><td>2514.45933</td><td>2490.082574</td><td>13.4533</td><td>0.0157288</td><td>13.3474</td><td>0.0122493</td><td>0.107617</td><td>0.0102506</td><td>0.0399904</td><td>0.0318384</td></tr>\n",
       "<tr><td>4353</td><td>83.895948</td><td>-5.683702</td><td>2581.796671</td><td>1606.59638</td><td>13.6681</td><td>0.0153332</td><td>13.621</td><td>0.0226028</td><td>0.0329454</td><td>0.00205844</td><td>0.0362492</td><td>0.05972</td></tr>\n",
       "<tr><td>4354</td><td>83.903183</td><td>-5.677263</td><td>2379.668267</td><td>1787.293285</td><td>14.198</td><td>0.0169946</td><td>13.9606</td><td>0.0241096</td><td>0.24228</td><td>0.00550911</td><td>0.0441065</td><td>0.0609999</td></tr>\n",
       "<tr><td>4355</td><td>83.887041</td><td>-5.655296</td><td>2830.439279</td><td>2404.009741</td><td>14.2687</td><td>0.0130787</td><td>14.3465</td><td>0.0231953</td><td>-0.0796378</td><td>0.0176539</td><td>0.0329256</td><td>0.0619841</td></tr>\n",
       "<tr><td>4356</td><td>83.902336</td><td>-5.673712</td><td>2403.311245</td><td>1886.953992</td><td>14.8306</td><td>0.010885</td><td>14.8455</td><td>0.0087964</td><td>-0.0127298</td><td>0.0195749</td><td>0.0260334</td><td>0.0214233</td></tr>\n",
       "<tr><td>4357</td><td>83.885839</td><td>-5.6701</td><td>2864.104049</td><td>1988.449751</td><td>14.8389</td><td>0.0193239</td><td>14.9492</td><td>0.0104305</td><td>-0.105934</td><td>0.004329</td><td>0.0507011</td><td>0.019968</td></tr>\n",
       "<tr><td>4422</td><td>83.869945</td><td>-5.692703</td><td>3308.193017</td><td>1354.066433</td><td>13.3626</td><td>0.0154492</td><td>13.303</td><td>0.0276762</td><td>0.0518198</td><td>0.00219703</td><td>0.030385</td><td>0.0551186</td></tr>\n",
       "<tr><td>4438</td><td>83.931004</td><td>-5.6819</td><td>1602.595753</td><td>1656.92631</td><td>12.82</td><td>0.024724</td><td>12.7787</td><td>0.0134676</td><td>0.0355985</td><td>0.00801408</td><td>0.0710669</td><td>0.0408621</td></tr>\n",
       "<tr><td>4439</td><td>83.927781</td><td>-5.678356</td><td>1692.596942</td><td>1756.420858</td><td>13.2501</td><td>0.00980722</td><td>13.231</td><td>0.0198731</td><td>0.0193659</td><td>0.0150239</td><td>0.0280943</td><td>0.0629997</td></tr>\n",
       "<tr><td>4440</td><td>83.927963</td><td>-5.676457</td><td>1687.493805</td><td>1809.724011</td><td>14.771</td><td>0.00560751</td><td>14.9399</td><td>0.0190578</td><td>-0.174196</td><td>0.0186705</td><td>0.0140724</td><td>0.0581312</td></tr>\n",
       "<tr><td>4469</td><td>83.912612</td><td>-5.683232</td><td>2116.342653</td><td>1619.67295</td><td>12.2033</td><td>0.0163635</td><td>12.1413</td><td>0.0147312</td><td>0.0620441</td><td>0.00310302</td><td>0.0325613</td><td>0.0293913</td></tr>\n",
       "<tr><td>4470</td><td>83.923624</td><td>-5.676921</td><td>1808.699806</td><td>1796.743379</td><td>14.5086</td><td>0.0227345</td><td>14.3761</td><td>0.000567997</td><td>0.148466</td><td>0.0212613</td><td>0.0513268</td><td>0.00112343</td></tr>\n",
       "<tr><td>4471</td><td>83.927098</td><td>-5.682654</td><td>1711.707193</td><td>1635.781733</td><td>14.9022</td><td>0.00611188</td><td>14.9931</td><td>0.0104988</td><td>-0.0836508</td><td>0.00397584</td><td>0.0150003</td><td>0.0280542</td></tr>\n",
       "<tr><td>4490</td><td>83.931691</td><td>-5.708912</td><td>1583.614537</td><td>898.6624261</td><td>12.7847</td><td>0.0185608</td><td>12.6551</td><td>0.0190276</td><td>0.127508</td><td>0.000801124</td><td>0.0454607</td><td>0.0455198</td></tr>\n",
       "</table></div>"
      ],
      "text/plain": [
       "<Table length=1081>\n",
       "index     RA       DEC       X_mos       Y_mos     mag130   dmag130    mag139   dmag139     color       dcolor    Delta130   Delta139 \n",
       "int16  float64   float64    float64     float64   float32   float64   float32   float64    float64     float64    float64    float64  \n",
       "----- --------- --------- ----------- ----------- ------- ----------- ------- ----------- ---------- ----------- ---------- ----------\n",
       "    3 83.632944 -5.443575 9929.648054 8347.017071 12.1459   0.0300123 12.1324   0.0124562  0.0306892   0.0207105  0.0713882   0.026536\n",
       "    4  83.61754 -5.444363 10360.07306 8324.792596 13.3779   0.0103522 13.4268   0.0228317 -0.0532584    0.018213  0.0280094  0.0634899\n",
       "    5 83.600199 -5.440295 10844.68505 8438.855152 13.6083   0.0131712 13.1289  0.00630562   0.483117  0.00306582  0.0382137  0.0181913\n",
       "    6 83.624958 -5.421466 10152.94479 8967.553107 13.2284   0.0132644 13.3092   0.0140082 -0.0934917   0.0160946  0.0340614  0.0423231\n",
       "    7 83.622401 -5.431073 10224.33993 8697.870091 13.7699  0.00403174 13.8486  0.00431242 -0.0787315  0.00533006 0.00882912  0.0105276\n",
       "   39 83.599874 -5.476306 10853.48308  7428.02447 13.8732   0.0366342 14.0238    0.038855  -0.153075  0.00249785   0.125285   0.117202\n",
       "   40 83.605893 -5.462653 10685.39388 7811.301275 14.8996    0.017485 14.6482    0.019145   0.244598   0.0230243  0.0462532   0.043725\n",
       "   51 83.664775  -5.45479 9040.122491   8032.3728 12.7277  0.00399403 12.4078   0.0131056    0.32956  0.00753459 0.00999451  0.0346403\n",
       "   52 83.685028 -5.435024 8474.249423 8587.285264 12.8606   0.0142874 13.0513   0.0188883  -0.193241   0.0258926   0.036871  0.0596037\n",
       "   53 83.673761 -5.448029 8789.048754 8222.211108 12.5787   0.0186275 12.5079   0.0200318  0.0708472  0.00310446   0.036808   0.040061\n",
       "   54 83.670058 -5.444062 8892.547236 8333.539401 12.6616   0.0534426  12.534   0.0352932   0.127635   0.0192215   0.123031  0.0887012\n",
       "   55 83.670108 -5.469292 8891.024583 7625.335691 12.4762   0.0104976 12.5929  0.00715013  -0.102797   0.0241891  0.0148458  0.0101118\n",
       "   56  83.67015 -5.469267 8889.860611 7626.029057 12.6109    0.175439 12.6862     0.16829  -0.075304    0.010066   0.325577   0.319991\n",
       "   87  83.63343 -5.461845 9915.953544 7834.177444 13.0075  0.00776244 12.8272   0.0158202   0.180302   0.0080578  0.0109777  0.0223732\n",
       "   88 83.640962  -5.45504 9705.536675 8025.217961 13.0085 0.000738413 13.1063  0.00605229  -0.103782  0.00166564 0.00104427 0.00855923\n",
       "  ...       ...       ...         ...         ...     ...         ...     ...         ...        ...         ...        ...        ...\n",
       " 4350  83.88883 -5.656879 2780.488566   2359.5577 12.7795   0.0245784 12.7492    0.013986  0.0402047    0.010145  0.0564194  0.0346117\n",
       " 4351 83.889218 -5.655882 2769.623184 2387.540768   13.27  0.00740353 13.2372   0.0128747  0.0299484   0.0193847  0.0167751  0.0378284\n",
       " 4352 83.898352 -5.652227  2514.45933 2490.082574 13.4533   0.0157288 13.3474   0.0122493   0.107617   0.0102506  0.0399904  0.0318384\n",
       " 4353 83.895948 -5.683702 2581.796671  1606.59638 13.6681   0.0153332  13.621   0.0226028  0.0329454  0.00205844  0.0362492    0.05972\n",
       " 4354 83.903183 -5.677263 2379.668267 1787.293285  14.198   0.0169946 13.9606   0.0241096    0.24228  0.00550911  0.0441065  0.0609999\n",
       " 4355 83.887041 -5.655296 2830.439279 2404.009741 14.2687   0.0130787 14.3465   0.0231953 -0.0796378   0.0176539  0.0329256  0.0619841\n",
       " 4356 83.902336 -5.673712 2403.311245 1886.953992 14.8306    0.010885 14.8455   0.0087964 -0.0127298   0.0195749  0.0260334  0.0214233\n",
       " 4357 83.885839   -5.6701 2864.104049 1988.449751 14.8389   0.0193239 14.9492   0.0104305  -0.105934    0.004329  0.0507011   0.019968\n",
       " 4422 83.869945 -5.692703 3308.193017 1354.066433 13.3626   0.0154492  13.303   0.0276762  0.0518198  0.00219703   0.030385  0.0551186\n",
       " 4438 83.931004   -5.6819 1602.595753  1656.92631   12.82    0.024724 12.7787   0.0134676  0.0355985  0.00801408  0.0710669  0.0408621\n",
       " 4439 83.927781 -5.678356 1692.596942 1756.420858 13.2501  0.00980722  13.231   0.0198731  0.0193659   0.0150239  0.0280943  0.0629997\n",
       " 4440 83.927963 -5.676457 1687.493805 1809.724011  14.771  0.00560751 14.9399   0.0190578  -0.174196   0.0186705  0.0140724  0.0581312\n",
       " 4469 83.912612 -5.683232 2116.342653  1619.67295 12.2033   0.0163635 12.1413   0.0147312  0.0620441  0.00310302  0.0325613  0.0293913\n",
       " 4470 83.923624 -5.676921 1808.699806 1796.743379 14.5086   0.0227345 14.3761 0.000567997   0.148466   0.0212613  0.0513268 0.00112343\n",
       " 4471 83.927098 -5.682654 1711.707193 1635.781733 14.9022  0.00611188 14.9931   0.0104988 -0.0836508  0.00397584  0.0150003  0.0280542\n",
       " 4490 83.931691 -5.708912 1583.614537 898.6624261 12.7847   0.0185608 12.6551   0.0190276   0.127508 0.000801124  0.0454607  0.0455198"
      ]
     },
     "execution_count": 9,
     "metadata": {},
     "output_type": "execute_result"
    }
   ],
   "source": [
    "# and create the astropy table...\n",
    "table1 = table.from_pandas(pandacat2)\n",
    "table1\n"
   ]
  },
  {
   "cell_type": "code",
   "execution_count": 10,
   "metadata": {},
   "outputs": [],
   "source": [
    "# check...\n",
    "#table1['DEC']"
   ]
  },
  {
   "cell_type": "code",
   "execution_count": 11,
   "metadata": {},
   "outputs": [
    {
     "data": {
      "application/vnd.jupyter.widget-view+json": {
       "model_id": "036b1eb68b3849f194961c0457d8b9a0",
       "version_major": 2,
       "version_minor": 0
      },
      "text/plain": [
       "Aladin(fov=2.5, options=['allow_full_zoomout', 'coo_frame', 'fov', 'full_screen', 'log', 'overlay_survey', 'ov…"
      ]
     },
     "metadata": {},
     "output_type": "display_data"
    }
   ],
   "source": [
    "# Check plotting all the selected sources\n",
    "# first display\n",
    "aladin= ipyal.Aladin(fov= 2.5, target= 'm42', survey='P/allWise/color')\n",
    "aladin"
   ]
  },
  {
   "cell_type": "code",
   "execution_count": 12,
   "metadata": {},
   "outputs": [],
   "source": [
    "#then overplot\n",
    "aladin.add_table(table1)"
   ]
  },
  {
   "cell_type": "code",
   "execution_count": 13,
   "metadata": {},
   "outputs": [
    {
     "data": {
      "text/html": [
       "<div><i>Table length=1081</i>\n",
       "<table id=\"table140556337637200\" class=\"table-striped table-bordered table-condensed\">\n",
       "<thead><tr><th>index</th><th>RA</th><th>DEC</th><th>X_mos</th><th>rank</th><th>Y_mos</th><th>mag130</th><th>dmag130</th><th>mag139</th><th>dmag139</th><th>color</th><th>dcolor</th><th>Delta130</th><th>Delta139</th></tr></thead>\n",
       "<thead><tr><th>int16</th><th>float64</th><th>float64</th><th>float64</th><th>float64</th><th>float64</th><th>float32</th><th>float64</th><th>float32</th><th>float64</th><th>float64</th><th>float64</th><th>float64</th><th>float64</th></tr></thead>\n",
       "<tr><td>3</td><td>83.632944</td><td>-5.443575</td><td>9929.648054</td><td>0.0</td><td>8347.017071</td><td>12.1459</td><td>0.0300123</td><td>12.1324</td><td>0.0124562</td><td>0.0306892</td><td>0.0207105</td><td>0.0713882</td><td>0.026536</td></tr>\n",
       "<tr><td>4</td><td>83.61754</td><td>-5.444363</td><td>10360.07306</td><td>0.0</td><td>8324.792596</td><td>13.3779</td><td>0.0103522</td><td>13.4268</td><td>0.0228317</td><td>-0.0532584</td><td>0.018213</td><td>0.0280094</td><td>0.0634899</td></tr>\n",
       "<tr><td>5</td><td>83.600199</td><td>-5.440295</td><td>10844.68505</td><td>0.0</td><td>8438.855152</td><td>13.6083</td><td>0.0131712</td><td>13.1289</td><td>0.00630562</td><td>0.483117</td><td>0.00306582</td><td>0.0382137</td><td>0.0181913</td></tr>\n",
       "<tr><td>6</td><td>83.624958</td><td>-5.421466</td><td>10152.94479</td><td>0.0</td><td>8967.553107</td><td>13.2284</td><td>0.0132644</td><td>13.3092</td><td>0.0140082</td><td>-0.0934917</td><td>0.0160946</td><td>0.0340614</td><td>0.0423231</td></tr>\n",
       "<tr><td>7</td><td>83.622401</td><td>-5.431073</td><td>10224.33993</td><td>0.0</td><td>8697.870091</td><td>13.7699</td><td>0.00403174</td><td>13.8486</td><td>0.00431242</td><td>-0.0787315</td><td>0.00533006</td><td>0.00882912</td><td>0.0105276</td></tr>\n",
       "<tr><td>39</td><td>83.599874</td><td>-5.476306</td><td>10853.48308</td><td>0.0</td><td>7428.02447</td><td>13.8732</td><td>0.0366342</td><td>14.0238</td><td>0.038855</td><td>-0.153075</td><td>0.00249785</td><td>0.125285</td><td>0.117202</td></tr>\n",
       "<tr><td>40</td><td>83.605893</td><td>-5.462653</td><td>10685.39388</td><td>0.0</td><td>7811.301275</td><td>14.8996</td><td>0.017485</td><td>14.6482</td><td>0.019145</td><td>0.244598</td><td>0.0230243</td><td>0.0462532</td><td>0.043725</td></tr>\n",
       "<tr><td>51</td><td>83.664775</td><td>-5.45479</td><td>9040.122491</td><td>0.0</td><td>8032.3728</td><td>12.7277</td><td>0.00399403</td><td>12.4078</td><td>0.0131056</td><td>0.32956</td><td>0.00753459</td><td>0.00999451</td><td>0.0346403</td></tr>\n",
       "<tr><td>52</td><td>83.685028</td><td>-5.435024</td><td>8474.249423</td><td>0.0</td><td>8587.285264</td><td>12.8606</td><td>0.0142874</td><td>13.0513</td><td>0.0188883</td><td>-0.193241</td><td>0.0258926</td><td>0.036871</td><td>0.0596037</td></tr>\n",
       "<tr><td>53</td><td>83.673761</td><td>-5.448029</td><td>8789.048754</td><td>0.0</td><td>8222.211108</td><td>12.5787</td><td>0.0186275</td><td>12.5079</td><td>0.0200318</td><td>0.0708472</td><td>0.00310446</td><td>0.036808</td><td>0.040061</td></tr>\n",
       "<tr><td>54</td><td>83.670058</td><td>-5.444062</td><td>8892.547236</td><td>0.0</td><td>8333.539401</td><td>12.6616</td><td>0.0534426</td><td>12.534</td><td>0.0352932</td><td>0.127635</td><td>0.0192215</td><td>0.123031</td><td>0.0887012</td></tr>\n",
       "<tr><td>55</td><td>83.670108</td><td>-5.469292</td><td>8891.024583</td><td>0.0</td><td>7625.335691</td><td>12.4762</td><td>0.0104976</td><td>12.5929</td><td>0.00715013</td><td>-0.102797</td><td>0.0241891</td><td>0.0148458</td><td>0.0101118</td></tr>\n",
       "<tr><td>56</td><td>83.67015</td><td>-5.469267</td><td>8889.860611</td><td>0.0</td><td>7626.029057</td><td>12.6109</td><td>0.175439</td><td>12.6862</td><td>0.16829</td><td>-0.075304</td><td>0.010066</td><td>0.325577</td><td>0.319991</td></tr>\n",
       "<tr><td>87</td><td>83.63343</td><td>-5.461845</td><td>9915.953544</td><td>0.0</td><td>7834.177444</td><td>13.0075</td><td>0.00776244</td><td>12.8272</td><td>0.0158202</td><td>0.180302</td><td>0.0080578</td><td>0.0109777</td><td>0.0223732</td></tr>\n",
       "<tr><td>88</td><td>83.640962</td><td>-5.45504</td><td>9705.536675</td><td>0.0</td><td>8025.217961</td><td>13.0085</td><td>0.000738413</td><td>13.1063</td><td>0.00605229</td><td>-0.103782</td><td>0.00166564</td><td>0.00104427</td><td>0.00855923</td></tr>\n",
       "<tr><td>...</td><td>...</td><td>...</td><td>...</td><td>...</td><td>...</td><td>...</td><td>...</td><td>...</td><td>...</td><td>...</td><td>...</td><td>...</td><td>...</td></tr>\n",
       "<tr><td>4350</td><td>83.88883</td><td>-5.656879</td><td>2780.488566</td><td>0.0</td><td>2359.5577</td><td>12.7795</td><td>0.0245784</td><td>12.7492</td><td>0.013986</td><td>0.0402047</td><td>0.010145</td><td>0.0564194</td><td>0.0346117</td></tr>\n",
       "<tr><td>4351</td><td>83.889218</td><td>-5.655882</td><td>2769.623184</td><td>0.0</td><td>2387.540768</td><td>13.27</td><td>0.00740353</td><td>13.2372</td><td>0.0128747</td><td>0.0299484</td><td>0.0193847</td><td>0.0167751</td><td>0.0378284</td></tr>\n",
       "<tr><td>4352</td><td>83.898352</td><td>-5.652227</td><td>2514.45933</td><td>0.0</td><td>2490.082574</td><td>13.4533</td><td>0.0157288</td><td>13.3474</td><td>0.0122493</td><td>0.107617</td><td>0.0102506</td><td>0.0399904</td><td>0.0318384</td></tr>\n",
       "<tr><td>4353</td><td>83.895948</td><td>-5.683702</td><td>2581.796671</td><td>0.0</td><td>1606.59638</td><td>13.6681</td><td>0.0153332</td><td>13.621</td><td>0.0226028</td><td>0.0329454</td><td>0.00205844</td><td>0.0362492</td><td>0.05972</td></tr>\n",
       "<tr><td>4354</td><td>83.903183</td><td>-5.677263</td><td>2379.668267</td><td>0.0</td><td>1787.293285</td><td>14.198</td><td>0.0169946</td><td>13.9606</td><td>0.0241096</td><td>0.24228</td><td>0.00550911</td><td>0.0441065</td><td>0.0609999</td></tr>\n",
       "<tr><td>4355</td><td>83.887041</td><td>-5.655296</td><td>2830.439279</td><td>0.0</td><td>2404.009741</td><td>14.2687</td><td>0.0130787</td><td>14.3465</td><td>0.0231953</td><td>-0.0796378</td><td>0.0176539</td><td>0.0329256</td><td>0.0619841</td></tr>\n",
       "<tr><td>4356</td><td>83.902336</td><td>-5.673712</td><td>2403.311245</td><td>0.0</td><td>1886.953992</td><td>14.8306</td><td>0.010885</td><td>14.8455</td><td>0.0087964</td><td>-0.0127298</td><td>0.0195749</td><td>0.0260334</td><td>0.0214233</td></tr>\n",
       "<tr><td>4357</td><td>83.885839</td><td>-5.6701</td><td>2864.104049</td><td>0.0</td><td>1988.449751</td><td>14.8389</td><td>0.0193239</td><td>14.9492</td><td>0.0104305</td><td>-0.105934</td><td>0.004329</td><td>0.0507011</td><td>0.019968</td></tr>\n",
       "<tr><td>4422</td><td>83.869945</td><td>-5.692703</td><td>3308.193017</td><td>0.0</td><td>1354.066433</td><td>13.3626</td><td>0.0154492</td><td>13.303</td><td>0.0276762</td><td>0.0518198</td><td>0.00219703</td><td>0.030385</td><td>0.0551186</td></tr>\n",
       "<tr><td>4438</td><td>83.931004</td><td>-5.6819</td><td>1602.595753</td><td>0.0</td><td>1656.92631</td><td>12.82</td><td>0.024724</td><td>12.7787</td><td>0.0134676</td><td>0.0355985</td><td>0.00801408</td><td>0.0710669</td><td>0.0408621</td></tr>\n",
       "<tr><td>4439</td><td>83.927781</td><td>-5.678356</td><td>1692.596942</td><td>0.0</td><td>1756.420858</td><td>13.2501</td><td>0.00980722</td><td>13.231</td><td>0.0198731</td><td>0.0193659</td><td>0.0150239</td><td>0.0280943</td><td>0.0629997</td></tr>\n",
       "<tr><td>4440</td><td>83.927963</td><td>-5.676457</td><td>1687.493805</td><td>0.0</td><td>1809.724011</td><td>14.771</td><td>0.00560751</td><td>14.9399</td><td>0.0190578</td><td>-0.174196</td><td>0.0186705</td><td>0.0140724</td><td>0.0581312</td></tr>\n",
       "<tr><td>4469</td><td>83.912612</td><td>-5.683232</td><td>2116.342653</td><td>0.0</td><td>1619.67295</td><td>12.2033</td><td>0.0163635</td><td>12.1413</td><td>0.0147312</td><td>0.0620441</td><td>0.00310302</td><td>0.0325613</td><td>0.0293913</td></tr>\n",
       "<tr><td>4470</td><td>83.923624</td><td>-5.676921</td><td>1808.699806</td><td>0.0</td><td>1796.743379</td><td>14.5086</td><td>0.0227345</td><td>14.3761</td><td>0.000567997</td><td>0.148466</td><td>0.0212613</td><td>0.0513268</td><td>0.00112343</td></tr>\n",
       "<tr><td>4471</td><td>83.927098</td><td>-5.682654</td><td>1711.707193</td><td>0.0</td><td>1635.781733</td><td>14.9022</td><td>0.00611188</td><td>14.9931</td><td>0.0104988</td><td>-0.0836508</td><td>0.00397584</td><td>0.0150003</td><td>0.0280542</td></tr>\n",
       "<tr><td>4490</td><td>83.931691</td><td>-5.708912</td><td>1583.614537</td><td>0.0</td><td>898.6624261</td><td>12.7847</td><td>0.0185608</td><td>12.6551</td><td>0.0190276</td><td>0.127508</td><td>0.000801124</td><td>0.0454607</td><td>0.0455198</td></tr>\n",
       "</table></div>"
      ],
      "text/plain": [
       "<Table length=1081>\n",
       "index     RA       DEC       X_mos      rank     Y_mos     mag130   dmag130    mag139   dmag139     color       dcolor    Delta130   Delta139 \n",
       "int16  float64   float64    float64   float64   float64   float32   float64   float32   float64    float64     float64    float64    float64  \n",
       "----- --------- --------- ----------- ------- ----------- ------- ----------- ------- ----------- ---------- ----------- ---------- ----------\n",
       "    3 83.632944 -5.443575 9929.648054     0.0 8347.017071 12.1459   0.0300123 12.1324   0.0124562  0.0306892   0.0207105  0.0713882   0.026536\n",
       "    4  83.61754 -5.444363 10360.07306     0.0 8324.792596 13.3779   0.0103522 13.4268   0.0228317 -0.0532584    0.018213  0.0280094  0.0634899\n",
       "    5 83.600199 -5.440295 10844.68505     0.0 8438.855152 13.6083   0.0131712 13.1289  0.00630562   0.483117  0.00306582  0.0382137  0.0181913\n",
       "    6 83.624958 -5.421466 10152.94479     0.0 8967.553107 13.2284   0.0132644 13.3092   0.0140082 -0.0934917   0.0160946  0.0340614  0.0423231\n",
       "    7 83.622401 -5.431073 10224.33993     0.0 8697.870091 13.7699  0.00403174 13.8486  0.00431242 -0.0787315  0.00533006 0.00882912  0.0105276\n",
       "   39 83.599874 -5.476306 10853.48308     0.0  7428.02447 13.8732   0.0366342 14.0238    0.038855  -0.153075  0.00249785   0.125285   0.117202\n",
       "   40 83.605893 -5.462653 10685.39388     0.0 7811.301275 14.8996    0.017485 14.6482    0.019145   0.244598   0.0230243  0.0462532   0.043725\n",
       "   51 83.664775  -5.45479 9040.122491     0.0   8032.3728 12.7277  0.00399403 12.4078   0.0131056    0.32956  0.00753459 0.00999451  0.0346403\n",
       "   52 83.685028 -5.435024 8474.249423     0.0 8587.285264 12.8606   0.0142874 13.0513   0.0188883  -0.193241   0.0258926   0.036871  0.0596037\n",
       "   53 83.673761 -5.448029 8789.048754     0.0 8222.211108 12.5787   0.0186275 12.5079   0.0200318  0.0708472  0.00310446   0.036808   0.040061\n",
       "   54 83.670058 -5.444062 8892.547236     0.0 8333.539401 12.6616   0.0534426  12.534   0.0352932   0.127635   0.0192215   0.123031  0.0887012\n",
       "   55 83.670108 -5.469292 8891.024583     0.0 7625.335691 12.4762   0.0104976 12.5929  0.00715013  -0.102797   0.0241891  0.0148458  0.0101118\n",
       "   56  83.67015 -5.469267 8889.860611     0.0 7626.029057 12.6109    0.175439 12.6862     0.16829  -0.075304    0.010066   0.325577   0.319991\n",
       "   87  83.63343 -5.461845 9915.953544     0.0 7834.177444 13.0075  0.00776244 12.8272   0.0158202   0.180302   0.0080578  0.0109777  0.0223732\n",
       "   88 83.640962  -5.45504 9705.536675     0.0 8025.217961 13.0085 0.000738413 13.1063  0.00605229  -0.103782  0.00166564 0.00104427 0.00855923\n",
       "  ...       ...       ...         ...     ...         ...     ...         ...     ...         ...        ...         ...        ...        ...\n",
       " 4350  83.88883 -5.656879 2780.488566     0.0   2359.5577 12.7795   0.0245784 12.7492    0.013986  0.0402047    0.010145  0.0564194  0.0346117\n",
       " 4351 83.889218 -5.655882 2769.623184     0.0 2387.540768   13.27  0.00740353 13.2372   0.0128747  0.0299484   0.0193847  0.0167751  0.0378284\n",
       " 4352 83.898352 -5.652227  2514.45933     0.0 2490.082574 13.4533   0.0157288 13.3474   0.0122493   0.107617   0.0102506  0.0399904  0.0318384\n",
       " 4353 83.895948 -5.683702 2581.796671     0.0  1606.59638 13.6681   0.0153332  13.621   0.0226028  0.0329454  0.00205844  0.0362492    0.05972\n",
       " 4354 83.903183 -5.677263 2379.668267     0.0 1787.293285  14.198   0.0169946 13.9606   0.0241096    0.24228  0.00550911  0.0441065  0.0609999\n",
       " 4355 83.887041 -5.655296 2830.439279     0.0 2404.009741 14.2687   0.0130787 14.3465   0.0231953 -0.0796378   0.0176539  0.0329256  0.0619841\n",
       " 4356 83.902336 -5.673712 2403.311245     0.0 1886.953992 14.8306    0.010885 14.8455   0.0087964 -0.0127298   0.0195749  0.0260334  0.0214233\n",
       " 4357 83.885839   -5.6701 2864.104049     0.0 1988.449751 14.8389   0.0193239 14.9492   0.0104305  -0.105934    0.004329  0.0507011   0.019968\n",
       " 4422 83.869945 -5.692703 3308.193017     0.0 1354.066433 13.3626   0.0154492  13.303   0.0276762  0.0518198  0.00219703   0.030385  0.0551186\n",
       " 4438 83.931004   -5.6819 1602.595753     0.0  1656.92631   12.82    0.024724 12.7787   0.0134676  0.0355985  0.00801408  0.0710669  0.0408621\n",
       " 4439 83.927781 -5.678356 1692.596942     0.0 1756.420858 13.2501  0.00980722  13.231   0.0198731  0.0193659   0.0150239  0.0280943  0.0629997\n",
       " 4440 83.927963 -5.676457 1687.493805     0.0 1809.724011  14.771  0.00560751 14.9399   0.0190578  -0.174196   0.0186705  0.0140724  0.0581312\n",
       " 4469 83.912612 -5.683232 2116.342653     0.0  1619.67295 12.2033   0.0163635 12.1413   0.0147312  0.0620441  0.00310302  0.0325613  0.0293913\n",
       " 4470 83.923624 -5.676921 1808.699806     0.0 1796.743379 14.5086   0.0227345 14.3761 0.000567997   0.148466   0.0212613  0.0513268 0.00112343\n",
       " 4471 83.927098 -5.682654 1711.707193     0.0 1635.781733 14.9022  0.00611188 14.9931   0.0104988 -0.0836508  0.00397584  0.0150003  0.0280542\n",
       " 4490 83.931691 -5.708912 1583.614537     0.0 898.6624261 12.7847   0.0185608 12.6551   0.0190276   0.127508 0.000801124  0.0454607  0.0455198"
      ]
     },
     "execution_count": 13,
     "metadata": {},
     "output_type": "execute_result"
    }
   ],
   "source": [
    "#ADD THE RANK COLUMN\n",
    "from astropy.table import Table, Column\n",
    "import numpy as np\n",
    "col_e = Column(name='rank', data=np.zeros(1081))  # all ranks set to 0 to begin with...\n",
    "table1.add_columns([col_e],indexes=[4])\n",
    "table1"
   ]
  },
  {
   "cell_type": "code",
   "execution_count": 14,
   "metadata": {},
   "outputs": [
    {
     "data": {
      "text/html": [
       "<div><i>Table length=1081</i>\n",
       "<table id=\"table140556337925328\" class=\"table-striped table-bordered table-condensed\">\n",
       "<thead><tr><th>rank</th><th>color</th></tr></thead>\n",
       "<thead><tr><th>float64</th><th>float64</th></tr></thead>\n",
       "<tr><td>10.611439772644044</td><td>0.0306892</td></tr>\n",
       "<tr><td>16.04082012359619</td><td>-0.0532584</td></tr>\n",
       "<tr><td>-10.54754979095459</td><td>0.483117</td></tr>\n",
       "<tr><td>17.902985230407715</td><td>-0.0934917</td></tr>\n",
       "<tr><td>17.70647532196045</td><td>-0.0787315</td></tr>\n",
       "<tr><td>21.52695041656494</td><td>-0.153075</td></tr>\n",
       "<tr><td>2.6697000289916986</td><td>0.244598</td></tr>\n",
       "<tr><td>-3.750299766540529</td><td>0.32956</td></tr>\n",
       "<tr><td>22.522650471496583</td><td>-0.193241</td></tr>\n",
       "<tr><td>9.036340065612793</td><td>0.0708472</td></tr>\n",
       "<tr><td>6.279850112915039</td><td>0.127635</td></tr>\n",
       "<tr><td>17.616050103759765</td><td>-0.102797</td></tr>\n",
       "<tr><td>16.376099925231934</td><td>-0.075304</td></tr>\n",
       "<tr><td>3.9923996948242184</td><td>0.180302</td></tr>\n",
       "<tr><td>18.19760009918213</td><td>-0.103782</td></tr>\n",
       "<tr><td>...</td><td>...</td></tr>\n",
       "<tr><td>10.769265007629395</td><td>0.0402047</td></tr>\n",
       "<tr><td>11.772580457763672</td><td>0.0299484</td></tr>\n",
       "<tr><td>8.072450476074218</td><td>0.107617</td></tr>\n",
       "<tr><td>12.020830357055663</td><td>0.0329454</td></tr>\n",
       "<tr><td>2.083999954223634</td><td>0.24228</td></tr>\n",
       "<tr><td>18.250589645996094</td><td>-0.0796378</td></tr>\n",
       "<tr><td>15.467089784851074</td><td>-0.0127298</td></tr>\n",
       "<tr><td>20.13559961242676</td><td>-0.105934</td></tr>\n",
       "<tr><td>10.771610326538086</td><td>0.0518198</td></tr>\n",
       "<tr><td>11.040074694824218</td><td>0.0355985</td></tr>\n",
       "<tr><td>12.281805135803223</td><td>0.0193659</td></tr>\n",
       "<tr><td>23.480799908447267</td><td>-0.174196</td></tr>\n",
       "<tr><td>9.101095476074219</td><td>0.0620441</td></tr>\n",
       "<tr><td>7.085300234985352</td><td>0.148466</td></tr>\n",
       "<tr><td>19.084739745178222</td><td>-0.0836508</td></tr>\n",
       "<tr><td>6.409300393676757</td><td>0.127508</td></tr>\n",
       "</table></div>"
      ],
      "text/plain": [
       "<Table length=1081>\n",
       "       rank          color   \n",
       "     float64        float64  \n",
       "------------------ ----------\n",
       "10.611439772644044  0.0306892\n",
       " 16.04082012359619 -0.0532584\n",
       "-10.54754979095459   0.483117\n",
       "17.902985230407715 -0.0934917\n",
       " 17.70647532196045 -0.0787315\n",
       " 21.52695041656494  -0.153075\n",
       "2.6697000289916986   0.244598\n",
       "-3.750299766540529    0.32956\n",
       "22.522650471496583  -0.193241\n",
       " 9.036340065612793  0.0708472\n",
       " 6.279850112915039   0.127635\n",
       "17.616050103759765  -0.102797\n",
       "16.376099925231934  -0.075304\n",
       "3.9923996948242184   0.180302\n",
       " 18.19760009918213  -0.103782\n",
       "               ...        ...\n",
       "10.769265007629395  0.0402047\n",
       "11.772580457763672  0.0299484\n",
       " 8.072450476074218   0.107617\n",
       "12.020830357055663  0.0329454\n",
       " 2.083999954223634    0.24228\n",
       "18.250589645996094 -0.0796378\n",
       "15.467089784851074 -0.0127298\n",
       " 20.13559961242676  -0.105934\n",
       "10.771610326538086  0.0518198\n",
       "11.040074694824218  0.0355985\n",
       "12.281805135803223  0.0193659\n",
       "23.480799908447267  -0.174196\n",
       " 9.101095476074219  0.0620441\n",
       " 7.085300234985352   0.148466\n",
       "19.084739745178222 -0.0836508\n",
       " 6.409300393676757   0.127508"
      ]
     },
     "execution_count": 14,
     "metadata": {},
     "output_type": "execute_result"
    }
   ],
   "source": [
    "# set a ranking metric: from bright and red (good) to faint and blue (bad)\n",
    "table1['rank']=table1['mag130']-50*table1['color']\n",
    "table1['rank','color']\n",
    "\n",
    "#... but for the moment I don't use it... "
   ]
  },
  {
   "cell_type": "markdown",
   "metadata": {},
   "source": [
    "### The next two cells are the Example 8 and the core of the entire process\n",
    "\n",
    "Once the cell below has been executed, you will see the Select button.\n",
    "\n",
    "Run the following cell, then press and drag a rectangle enclosing the sources you wish to select. \n",
    "\n",
    "For SAMOS make sure you select a BOX ~3' X 3'.\n",
    "\n",
    "You will  see their names in the table at the right of the ipyaladin view."
   ]
  },
  {
   "cell_type": "code",
   "execution_count": 15,
   "metadata": {},
   "outputs": [
    {
     "data": {
      "application/vnd.jupyter.widget-view+json": {
       "model_id": "e6a118321cbf4326ad4ce4f53306ad84",
       "version_major": 2,
       "version_minor": 0
      },
      "text/plain": [
       "Box(children=(Aladin(fov=0.05, layout=Layout(width='50%'), options=['allow_full_zoomout', 'coo_frame', 'fov', …"
      ]
     },
     "metadata": {},
     "output_type": "display_data"
    }
   ],
   "source": [
    "from ipyaladin import Aladin\n",
    "from ipywidgets import Layout, Box, widgets\n",
    "\n",
    "#aladin = Aladin(layout=Layout(width='50%'), target='M 42', fov=0.05)  #FoV=3'\n",
    "#aladin = Aladin(layout=Layout(width='50%'), target='M 42', fov=0.05, survey='P/allWise/color')\n",
    "aladin = Aladin(layout=Layout(width='50%'), target='M 42', fov=0.05, survey='P/2MASS/color')\n",
    "\n",
    "\n",
    "button = widgets.Button(description=\"Select\")\n",
    "def on_button_clicked(b):\n",
    "    aladin.rectangular_selection()\n",
    "    \n",
    "button.on_click(on_button_clicked)\n",
    "table_info = widgets.HTML(layout=Layout(height='auto', overflow='auto'))\n",
    "\n",
    "\n",
    "box_layout = Layout(display='flex',\n",
    "                    flex_flow='row',\n",
    "                    align_items='stretch',\n",
    "                    width='100%',\n",
    "                    position='relative',\n",
    "                    overflow='hidden',\n",
    "                    height='50vh',\n",
    "                    margin='-100px 0 0 0',\n",
    "                    padding='100px 0 0 0 '\n",
    "                   )\n",
    "box = Box(children=[aladin, button, table_info], layout=box_layout)\n",
    "box\n",
    "\n"
   ]
  },
  {
   "cell_type": "code",
   "execution_count": 16,
   "metadata": {},
   "outputs": [],
   "source": [
    "from astroquery.simbad import Simbad\n",
    "import astropy.units as u\n",
    "\n",
    "aladin.add_table(table1)\n",
    "\n",
    "def process_result(sources):\n",
    "    global indici\n",
    "    indici = np.empty(1)\n",
    "    s = '<table border=\"1\">'\n",
    "    s += '<tr><th>MAIN_ID</th><th>RA</th><th>DEC</th></tr>'\n",
    "    for source in sources:\n",
    "        s += '<tr><td>%s</td><td>%s</td><td>%s</td></tr>' % (source['data']['index'], source['data']['RA'], source['data']['DEC'])\n",
    "        var = source['data']['index']\n",
    "        indici = np.append(indici,var)\n",
    "    s += '</table>'\n",
    "    table_info.value = s    \n",
    "    \n",
    "aladin.add_listener('select', process_result)\n",
    "\n"
   ]
  },
  {
   "cell_type": "markdown",
   "metadata": {},
   "source": [
    "## Print the list of selected targets"
   ]
  },
  {
   "cell_type": "code",
   "execution_count": 17,
   "metadata": {},
   "outputs": [
    {
     "ename": "NameError",
     "evalue": "name 'indici' is not defined",
     "output_type": "error",
     "traceback": [
      "\u001b[0;31m---------------------------------------------------------------------------\u001b[0m",
      "\u001b[0;31mNameError\u001b[0m                                 Traceback (most recent call last)",
      "\u001b[0;32m/var/folders/7t/yf4p3jc93t5dhyzmjpcn802h0000gn/T/ipykernel_58663/1251097522.py\u001b[0m in \u001b[0;36m<module>\u001b[0;34m\u001b[0m\n\u001b[0;32m----> 1\u001b[0;31m \u001b[0mindici\u001b[0m\u001b[0;34m=\u001b[0m\u001b[0mindici\u001b[0m\u001b[0;34m[\u001b[0m\u001b[0;36m1\u001b[0m\u001b[0;34m:\u001b[0m\u001b[0;34m]\u001b[0m \u001b[0;31m#remove initial NAN introduced by the creation of the array...\u001b[0m\u001b[0;34m\u001b[0m\u001b[0;34m\u001b[0m\u001b[0m\n\u001b[0m\u001b[1;32m      2\u001b[0m \u001b[0mprint\u001b[0m\u001b[0;34m(\u001b[0m\u001b[0mindici\u001b[0m\u001b[0;34m)\u001b[0m\u001b[0;34m\u001b[0m\u001b[0;34m\u001b[0m\u001b[0m\n",
      "\u001b[0;31mNameError\u001b[0m: name 'indici' is not defined"
     ]
    }
   ],
   "source": [
    "indici=indici[1:] #remove initial NAN introduced by the creation of the array...\n",
    "print(indici)"
   ]
  },
  {
   "cell_type": "code",
   "execution_count": null,
   "metadata": {},
   "outputs": [],
   "source": [
    "targetlist = pandacat[pandacat['index'].isin(indici)]\n",
    "print(targetlist)"
   ]
  },
  {
   "cell_type": "markdown",
   "metadata": {},
   "source": [
    "# NOW THE FUN WITH SOME GRAPHICS"
   ]
  },
  {
   "cell_type": "markdown",
   "metadata": {},
   "source": [
    "## 1) # Find the RADEC Center of the group of stars. This is where we should point SAMOS"
   ]
  },
  {
   "cell_type": "code",
   "execution_count": null,
   "metadata": {},
   "outputs": [],
   "source": [
    "RA_Center = (np.max(targetlist['RA'])-np.min(targetlist['RA'])) /2. + np.min(targetlist['RA'])\n",
    "DEC_Center = (np.max(targetlist['DEC'])-np.min(targetlist['DEC'])) /2. + np.min(targetlist['DEC'])\n",
    "print(RA_Center, DEC_Center)"
   ]
  },
  {
   "cell_type": "code",
   "execution_count": null,
   "metadata": {},
   "outputs": [],
   "source": [
    "# Determine the RADEC offset in degrees\n",
    "RA_Offsets = targetlist['RA'] - RA_Center\n",
    "DEC_Offsets = targetlist['DEC'] - DEC_Center\n",
    "print(np.c_[RA_Offsets, DEC_Offsets])"
   ]
  },
  {
   "cell_type": "code",
   "execution_count": null,
   "metadata": {},
   "outputs": [],
   "source": [
    "# Determine the RADEC offset in arcsec\n",
    "RA_Offsets *= 3600\n",
    "DEC_Offsets *= 3600\n",
    "print(np.c_[RA_Offsets, DEC_Offsets])"
   ]
  },
  {
   "cell_type": "code",
   "execution_count": null,
   "metadata": {},
   "outputs": [],
   "source": [
    "#Determine the RADEC position in SAMOS CCD pixels [1024,1024]\n",
    "IM_CCD_Scale = 0.18\n",
    "#\n",
    "RA_Offsets_IMpix = RA_Offsets / IM_CCD_Scale # in pixels\n",
    "DEC_Offsets_IMpix = DEC_Offsets / IM_CCD_Scale\n",
    "print(np.c_[RA_Offsets_IMpix, DEC_Offsets_IMpix])\n"
   ]
  },
  {
   "cell_type": "code",
   "execution_count": null,
   "metadata": {},
   "outputs": [],
   "source": [
    "# Display sources in SAMOS CCD coordinates\n",
    "import matplotlib.pyplot as plt\n",
    "%matplotlib inline\n",
    "plt.figure(figsize=(10,10))\n",
    "plt.plot(RA_Offsets_IMpix, DEC_Offsets_IMpix, 'ro')\n",
    "plt.axis([-512, 512, -512, 512])\n",
    "plt.show()"
   ]
  },
  {
   "cell_type": "code",
   "execution_count": null,
   "metadata": {},
   "outputs": [],
   "source": [
    "# OFFsets in in SAMI pixels (SAMOS-SP Channel)\n",
    "SP_CCD_Scale = 0.133\n",
    "#\n",
    "RA_Offsets_IMpix = RA_Offsets / SP_CCD_Scale # in pixels\n",
    "DEC_Offsets_IMpix = DEC_Offsets / SP_CCD_Scale\n",
    "print(np.c_[RA_Offsets_IMpix, DEC_Offsets_IMpix])\n"
   ]
  },
  {
   "cell_type": "markdown",
   "metadata": {},
   "source": [
    "##  Display the sources in SAMI/SAMOS field of view, assumed centered in the CCD field, assumed centered in the middle of the 4098x4098 detector"
   ]
  },
  {
   "cell_type": "code",
   "execution_count": null,
   "metadata": {},
   "outputs": [],
   "source": [
    "import matplotlib.pyplot as plt\n",
    "import matplotlib.patches as patches\n",
    "%matplotlib inline\n",
    "plt.figure(figsize=(5,5))\n",
    "plt.plot(RA_Offsets_IMpix, DEC_Offsets_IMpix, 'ro')\n",
    "plt.axis([-2048, 2048, -2048, 2048])\n",
    "rectangle = plt.Rectangle((-675,-675),1350, 1350, fc='blue',ec=\"red\")\n",
    "plt.gca().add_patch(rectangle)\n",
    "plt.show()"
   ]
  },
  {
   "cell_type": "markdown",
   "metadata": {},
   "source": [
    "## Display the trace of the spectra in SAMI/SAMOS field of view, assumed 2000 pixels long."
   ]
  },
  {
   "cell_type": "code",
   "execution_count": null,
   "metadata": {},
   "outputs": [],
   "source": [
    "import matplotlib.pyplot as plt\n",
    "import matplotlib.patches as patches\n",
    "%matplotlib inline\n",
    "plt.figure(figsize=(5,5))\n",
    "plt.plot(RA_Offsets_IMpix, DEC_Offsets_IMpix, 'ro')\n",
    "plt.axis([-2048, 2048, -2048, 2048])\n",
    "rectangle = plt.Rectangle((-675,-675),1350, 1350, fc='blue',ec=\"red\")\n",
    "plt.gca().add_patch(rectangle)\n",
    "for i in range(len(RA_Offsets_IMpix)):\n",
    "#    print(RA_Offsets_IMpix.iloc[i])\n",
    "#    print(np.round(RA_Offsets_IMpix.iloc[i]-1),np.round(DEC_Offsets_IMpix.iloc[i]-1000,3, np.round(DEC_Offsets_IMpix.iloc[i]+1000))\n",
    "    xy = (RA_Offsets_IMpix.iloc[i]-1,np.round(DEC_Offsets_IMpix.iloc[i]-1000))\n",
    "    rectangle = plt.Rectangle(xy ,3, np.round(DEC_Offsets_IMpix.iloc[i]+2000), fc='green',ec=\"green\")\n",
    "    plt.gca().add_patch(rectangle)\n",
    "plt.show()"
   ]
  },
  {
   "cell_type": "code",
   "execution_count": null,
   "metadata": {},
   "outputs": [],
   "source": [
    "## Zoom-in"
   ]
  },
  {
   "cell_type": "code",
   "execution_count": null,
   "metadata": {},
   "outputs": [],
   "source": [
    "import matplotlib.pyplot as plt\n",
    "import matplotlib.patches as patches\n",
    "%matplotlib inline\n",
    "plt.figure(figsize=(8,16))\n",
    "plt.plot(RA_Offsets_IMpix, DEC_Offsets_IMpix, 'ro')\n",
    "plt.axis([-1024, 1014, -2048, 2048])\n",
    "rectangle = plt.Rectangle((-675,-675),1350, 1350, fc='blue',ec=\"red\")\n",
    "plt.gca().add_patch(rectangle)\n",
    "for i in range(len(RA_Offsets_IMpix)):\n",
    "    xy = (RA_Offsets_IMpix.iloc[i]-1,np.round(DEC_Offsets_IMpix.iloc[i]-1000))\n",
    "    rectangle = plt.Rectangle(xy ,3, np.round(DEC_Offsets_IMpix.iloc[i]+2000), fc='green',ec=\"green\")\n",
    "    plt.gca().add_patch(rectangle)\n",
    "plt.show()"
   ]
  },
  {
   "cell_type": "markdown",
   "metadata": {},
   "source": [
    "# to be continued..."
   ]
  },
  {
   "cell_type": "code",
   "execution_count": null,
   "metadata": {},
   "outputs": [],
   "source": []
  }
 ],
 "metadata": {
  "kernelspec": {
   "display_name": "Python 3 (ipykernel)",
   "language": "python",
   "name": "python3"
  },
  "language_info": {
   "codemirror_mode": {
    "name": "ipython",
    "version": 3
   },
   "file_extension": ".py",
   "mimetype": "text/x-python",
   "name": "python",
   "nbconvert_exporter": "python",
   "pygments_lexer": "ipython3",
   "version": "3.7.11"
  }
 },
 "nbformat": 4,
 "nbformat_minor": 2
}

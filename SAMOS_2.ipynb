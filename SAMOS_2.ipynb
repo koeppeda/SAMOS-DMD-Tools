{
 "cells": [
  {
   "cell_type": "markdown",
   "metadata": {},
   "source": [
    "### This workbooks is a first cut to a tool to pre-select sources to be spectroscopically analyzed with SAMOS.\n",
    "\n",
    "It is based on the examples of the ipyaladin module, avaialable at \n",
    "https://github.com/cds-astro/ipyaladin , in particular Example 8_Rectangular-selection.ipynb"
   ]
  },
  {
   "cell_type": "code",
   "execution_count": 1,
   "metadata": {},
   "outputs": [],
   "source": [
    "import ipyaladin.aladin_widget as ipyal\n",
    "import pandas as pd\n",
    "from astroquery.simbad import Simbad\n",
    "import astropy.units as u\n",
    "from astropy import coordinates, units as u, wcs\n",
    "from astroquery.vizier import Vizier\n",
    "from astropy.io.votable import parse\n",
    "from astropy.table import Table, Column\n",
    "import numpy as np\n",
    "from ipyaladin import Aladin\n",
    "from ipywidgets import Layout, Box, widgets\n",
    "import matplotlib.pyplot as plt\n",
    "\n",
    "%matplotlib inline"
   ]
  },
  {
   "cell_type": "markdown",
   "metadata": {},
   "source": [
    "Upload and display an image in Aladin.\n",
    "For a list of good surveys, check https://aladin.u-strasbg.fr/AladinLite/"
   ]
  },
  {
   "cell_type": "code",
   "execution_count": 2,
   "metadata": {
    "scrolled": true
   },
   "outputs": [
    {
     "data": {
      "application/vnd.jupyter.widget-view+json": {
       "model_id": "b0d1a062b18a4ae39326068559883d83",
       "version_major": 2,
       "version_minor": 0
      },
      "text/plain": [
       "Aladin(fov=1.5, options=['allow_full_zoomout', 'coo_frame', 'fov', 'full_screen', 'log', 'overlay_survey', 'ov…"
      ]
     },
     "metadata": {},
     "output_type": "display_data"
    }
   ],
   "source": [
    "aladin = ipyal.Aladin(target='M 42', fov=1.5, survey='P/2MASS/color')\n",
    "#aladin = ipyal.Aladin(target='M 42', fov=1.5, survey='P/allWise/color')\n",
    "aladin"
   ]
  },
  {
   "cell_type": "markdown",
   "metadata": {},
   "source": [
    "Extract a source catalog from Simbad"
   ]
  },
  {
   "cell_type": "markdown",
   "metadata": {},
   "source": [
    "# 1) Extract Default Simbad Table"
   ]
  },
  {
   "cell_type": "markdown",
   "metadata": {},
   "source": [
    "We starr extracting the data as Simbad Table. This is a class designed to represent tables of heterogeneous data. It is better than a numpy structured array because of the ability to easily modify the structure of the table by adding or removing columns, or adding new rows of data. In addition table and column metadata are fully supported. See \n",
    "http://docs.astropy.org/en/stable/api/astropy.table.Table.html#astropy.table.Table"
   ]
  },
  {
   "cell_type": "code",
   "execution_count": 3,
   "metadata": {},
   "outputs": [
    {
     "data": {
      "text/html": [
       "<div><i>Table length=2491</i>\n",
       "<table id=\"table140375245385152\" class=\"table-striped table-bordered table-condensed\">\n",
       "<thead><tr><th>MAIN_ID</th><th>RA</th><th>DEC</th><th>RA_PREC</th><th>DEC_PREC</th><th>COO_ERR_MAJA</th><th>COO_ERR_MINA</th><th>COO_ERR_ANGLE</th><th>COO_QUAL</th><th>COO_WAVELENGTH</th><th>COO_BIBCODE</th><th>SCRIPT_NUMBER_ID</th></tr></thead>\n",
       "<thead><tr><th></th><th>&quot;h:m:s&quot;</th><th>&quot;d:m:s&quot;</th><th></th><th></th><th>mas</th><th>mas</th><th>deg</th><th></th><th></th><th></th><th></th></tr></thead>\n",
       "<thead><tr><th>object</th><th>str13</th><th>str13</th><th>int16</th><th>int16</th><th>float32</th><th>float32</th><th>int16</th><th>str1</th><th>str1</th><th>object</th><th>int32</th></tr></thead>\n",
       "<tr><td>M  42</td><td>05 35 17.3</td><td>-05 23 28</td><td>5</td><td>5</td><td>7500.000</td><td>7500.000</td><td>90</td><td>D</td><td></td><td>1981MNRAS.194..693L</td><td>1</td></tr>\n",
       "<tr><td>NAME Ori Region</td><td>05 35 17.30</td><td>-05 23 28.0</td><td>6</td><td>6</td><td>--</td><td>--</td><td>0</td><td>D</td><td>O</td><td></td><td>1</td></tr>\n",
       "<tr><td>[FRM2016] 344</td><td>05 35 17.2210</td><td>-05 23 26.542</td><td>9</td><td>9</td><td>--</td><td>--</td><td>0</td><td>C</td><td>R</td><td>2016ApJ...822...93F</td><td>1</td></tr>\n",
       "<tr><td>DOH  7 175-328</td><td>05 35 17.5</td><td>-05 23 28</td><td>5</td><td>5</td><td>--</td><td>--</td><td>0</td><td>D</td><td></td><td>2004AJ....127.3456D</td><td>1</td></tr>\n",
       "<tr><td>MAX 126</td><td>05 35 17.11</td><td>-05 23 29.3</td><td>6</td><td>6</td><td>--</td><td>--</td><td>0</td><td>D</td><td>I</td><td>2005AJ....129.1534R</td><td>1</td></tr>\n",
       "<tr><td>DOH  7 171-327</td><td>05 35 17.1</td><td>-05 23 27</td><td>5</td><td>5</td><td>--</td><td>--</td><td>0</td><td>D</td><td></td><td>2004AJ....127.3456D</td><td>1</td></tr>\n",
       "<tr><td>...</td><td>...</td><td>...</td><td>...</td><td>...</td><td>...</td><td>...</td><td>...</td><td>...</td><td>...</td><td>...</td><td>...</td></tr>\n",
       "<tr><td>JW  377</td><td>05 35 12.2722</td><td>-05 20 45.145</td><td>14</td><td>14</td><td>0.255</td><td>0.258</td><td>90</td><td>A</td><td>O</td><td>2018yCat.1345....0G</td><td>1</td></tr>\n",
       "<tr><td>[FRM2016] 99</td><td>05 35 12.9936</td><td>-05 20 40.570</td><td>9</td><td>9</td><td>--</td><td>--</td><td>0</td><td>C</td><td>R</td><td>2016ApJ...822...93F</td><td>1</td></tr>\n",
       "<tr><td>[SKN2015] C18O-Ori 120</td><td>05 35 05.70</td><td>-05 22 41.5</td><td>6</td><td>6</td><td>--</td><td>--</td><td>0</td><td>E</td><td>m</td><td>2015ApJS..217....7S</td><td>1</td></tr>\n",
       "<tr><td>[EBG2016] HC795</td><td>05 35 12.6003</td><td>-05 20 42.937</td><td>14</td><td>14</td><td>0.180</td><td>0.182</td><td>90</td><td>A</td><td>O</td><td>2018yCat.1345....0G</td><td>1</td></tr>\n",
       "<tr><td>[NW2007] OrionAN-0535146-52623</td><td>05 35 14.6</td><td>-05 26 23</td><td>5</td><td>5</td><td>--</td><td>--</td><td>0</td><td>E</td><td>m</td><td>2007MNRAS.374.1413N</td><td>1</td></tr>\n",
       "<tr><td>MLLA  945</td><td>05 35 19.69</td><td>-05 20 31.6</td><td>6</td><td>6</td><td>--</td><td>--</td><td>0</td><td>C</td><td>O</td><td>2009ApJS..183..261D</td><td>1</td></tr>\n",
       "</table></div>"
      ],
      "text/plain": [
       "<Table length=2491>\n",
       "           MAIN_ID                   RA      ... SCRIPT_NUMBER_ID\n",
       "                                  \"h:m:s\"    ...                 \n",
       "            object                 str13     ...      int32      \n",
       "------------------------------ ------------- ... ----------------\n",
       "                         M  42    05 35 17.3 ...                1\n",
       "               NAME Ori Region   05 35 17.30 ...                1\n",
       "                 [FRM2016] 344 05 35 17.2210 ...                1\n",
       "                DOH  7 175-328    05 35 17.5 ...                1\n",
       "                       MAX 126   05 35 17.11 ...                1\n",
       "                DOH  7 171-327    05 35 17.1 ...                1\n",
       "                           ...           ... ...              ...\n",
       "                       JW  377 05 35 12.2722 ...                1\n",
       "                  [FRM2016] 99 05 35 12.9936 ...                1\n",
       "        [SKN2015] C18O-Ori 120   05 35 05.70 ...                1\n",
       "               [EBG2016] HC795 05 35 12.6003 ...                1\n",
       "[NW2007] OrionAN-0535146-52623    05 35 14.6 ...                1\n",
       "                     MLLA  945   05 35 19.69 ...                1"
      ]
     },
     "execution_count": 3,
     "metadata": {},
     "output_type": "execute_result"
    }
   ],
   "source": [
    "Simbad.SIMBAD_URL = 'http://simbad.harvard.edu/simbad/sim-script'\n",
    "\n",
    "#To query Simbad, see https://astroquery.readthedocs.io/en/latest/simbad/simbad.html\n",
    "table = Simbad.query_region(\"m42\", radius=0.05 * u.deg)\n",
    "#this defines the object \"table\" that we will use later\n",
    "#\n",
    "#How to convert a generic table in my disk to a Simbad Table?\n",
    "table\n"
   ]
  },
  {
   "cell_type": "markdown",
   "metadata": {},
   "source": [
    "# 2) Extract Table from published dataset"
   ]
  },
  {
   "cell_type": "code",
   "execution_count": 4,
   "metadata": {},
   "outputs": [
    {
     "name": "stdout",
     "output_type": "stream",
     "text": [
      "Seq   RAJ2000     DEJ2000    Ksmag\n",
      "      \"h:m:s\"     \"d:m:s\"     mag \n",
      "--- ----------- ------------ -----\n",
      "  1 05 35 12.95 -05 22 44.34  14.0\n",
      "  2 05 35 12.35 -05 22 41.35  14.2\n",
      "  3 05 35 15.39 -05 22 39.93  14.0\n",
      "  4 05 35 13.30 -05 22 39.32  13.9\n",
      "  5 05 35 14.50 -05 22 38.78  14.1\n",
      "  6 05 35 12.31 -05 22 34.19  14.4\n",
      "...         ...          ...   ...\n",
      " 34 05 35 15.19 -05 20 15.01   9.7\n",
      " 35 05 35 10.98 -05 20 12.94  13.7\n",
      " 36 05 35 14.17 -05 20 08.17  11.8\n",
      " 37 05 35 14.21 -05 20 04.50   7.9\n",
      " 38 05 35 14.25 -05 20 03.84  11.8\n",
      " 39 05 35 11.90 -05 20 02.42   9.4\n",
      " 40 05 35 14.84 -05 20 02.29  14.4\n",
      "Length = 40 rows\n"
     ]
    }
   ],
   "source": [
    "center = coordinates.SkyCoord.from_name('Orion KL')\n",
    "\n",
    "\n",
    "tablelist = Vizier.query_region(center, radius=5*u.arcmin,\n",
    "                                catalog='J/ApJ/826/16/table1')\n",
    "# the result is a list of tables, so we'll get the first one\n",
    "result = tablelist[0]\n",
    "print(tablelist[0])  # this is a table list type object."
   ]
  },
  {
   "cell_type": "markdown",
   "metadata": {},
   "source": [
    "# 3) READ TABLE FROM AN UNPUBLISHED, NON SIMBAD CATALOG"
   ]
  },
  {
   "cell_type": "code",
   "execution_count": 5,
   "metadata": {},
   "outputs": [
    {
     "data": {
      "text/html": [
       "<div><i>Table length=4510</i>\n",
       "<table id=\"table140376061665776\" class=\"table-striped table-bordered table-condensed\">\n",
       "<thead><tr><th>index</th><th>MainID</th><th>OtherID</th><th>RA</th><th>DEC</th><th>X_mos</th><th>Y_mos</th><th>mag130</th><th>dmag130</th><th>mag139</th><th>dmag139</th><th>color</th><th>dcolor</th><th>Delta130</th><th>Delta139</th><th>Nr_IR</th></tr></thead>\n",
       "<thead><tr><th>int64</th><th>int64</th><th>str24</th><th>float64</th><th>float64</th><th>float64</th><th>float64</th><th>float64</th><th>float64</th><th>float64</th><th>float64</th><th>float64</th><th>float64</th><th>float64</th><th>float64</th><th>int64</th></tr></thead>\n",
       "<tr><td>0</td><td>0</td><td>44-1078</td><td>83.62638127</td><td>-5.457796715</td><td>10112.93708</td><td>7947.759999</td><td>9.79719</td><td>0.0200096</td><td>9.77856</td><td>0.20154</td><td>-0.0771351</td><td>0.115685</td><td>0.0610695</td><td>0.563724</td><td>3</td></tr>\n",
       "<tr><td>1</td><td>1</td><td>26-47-65</td><td>83.60899771</td><td>-5.441776639</td><td>10598.80566</td><td>8397.328145</td><td>10.9083</td><td>0.0185066</td><td>10.6736</td><td>0.0265132</td><td>0.240065</td><td>0.0172287</td><td>0.0611172</td><td>0.0769806</td><td>4</td></tr>\n",
       "<tr><td>2</td><td>2</td><td>48</td><td>83.6163478</td><td>-5.442952953</td><td>10393.40753</td><td>8364.360953</td><td>11.7239</td><td>0.0109769</td><td>11.5305</td><td>0.0177515</td><td>0.195181</td><td>0.00717064</td><td>0.0273504</td><td>0.0428772</td><td>2</td></tr>\n",
       "<tr><td>3</td><td>3</td><td>122</td><td>83.63294382</td><td>-5.443574706</td><td>9929.648054</td><td>8347.017071</td><td>12.1459</td><td>0.0300123</td><td>12.1324</td><td>0.0124562</td><td>0.0306892</td><td>0.0207105</td><td>0.0713882</td><td>0.026536</td><td>2</td></tr>\n",
       "<tr><td>4</td><td>4</td><td>50</td><td>83.61754036</td><td>-5.444362865</td><td>10360.07306</td><td>8324.792596</td><td>13.3779</td><td>0.0103522</td><td>13.4268</td><td>0.0228317</td><td>-0.0532584</td><td>0.018213</td><td>0.0280094</td><td>0.0634899</td><td>2</td></tr>\n",
       "<tr><td>5</td><td>5</td><td>27-49-67</td><td>83.60019909</td><td>-5.440294899</td><td>10844.68505</td><td>8438.855152</td><td>13.6083</td><td>0.0131712</td><td>13.1289</td><td>0.00630562</td><td>0.483117</td><td>0.00306582</td><td>0.0382137</td><td>0.0181913</td><td>4</td></tr>\n",
       "<tr><td>...</td><td>...</td><td>...</td><td>...</td><td>...</td><td>...</td><td>...</td><td>...</td><td>...</td><td>...</td><td>...</td><td>...</td><td>...</td><td>...</td><td>...</td><td>...</td></tr>\n",
       "<tr><td>4503</td><td>8743</td><td>-</td><td>83.92383617</td><td>-5.69954177</td><td>1802.937854</td><td>1161.756496</td><td>21.0545</td><td>0.160451</td><td>20.9737</td><td>0.0126738</td><td>0.309638</td><td>0.417308</td><td>0.226912</td><td>0.0251713</td><td>1</td></tr>\n",
       "<tr><td>4504</td><td>8744</td><td>-</td><td>83.92183983</td><td>-5.69522258</td><td>1858.667915</td><td>1283.014316</td><td>20.7109</td><td>0.0309297</td><td>20.9714</td><td>0.0660923</td><td>-0.2548</td><td>0.123321</td><td>0.0437412</td><td>0.130661</td><td>1</td></tr>\n",
       "<tr><td>4505</td><td>8746</td><td>-</td><td>83.92321705</td><td>-5.694496435</td><td>1820.194045</td><td>1303.387312</td><td>21.1403</td><td>0.0287125</td><td>21.1181</td><td>0.0380697</td><td>0.207149</td><td>0.122971</td><td>0.0406055</td><td>0.0538387</td><td>1</td></tr>\n",
       "<tr><td>4506</td><td>8755</td><td>-</td><td>83.94867786</td><td>-5.651471147</td><td>1108.653719</td><td>2510.926586</td><td>18.3009</td><td>0.00434686</td><td>18.0735</td><td>0.0200061</td><td>0.216855</td><td>0.0157622</td><td>0.00614738</td><td>0.0397778</td><td>1</td></tr>\n",
       "<tr><td>4507</td><td>8758</td><td>-</td><td>83.95056095</td><td>-5.65207348</td><td>1056.05638</td><td>2494.002184</td><td>19.0857</td><td>0.0117175</td><td>18.8757</td><td>0.00673357</td><td>0.194024</td><td>0.0347762</td><td>0.016571</td><td>0.0126343</td><td>1</td></tr>\n",
       "<tr><td>4508</td><td>8765</td><td>-</td><td>83.94266121</td><td>-5.658432323</td><td>1276.780985</td><td>2315.574065</td><td>19.2528</td><td>0.0463359</td><td>19.0848</td><td>0.0138181</td><td>0.161884</td><td>0.0337795</td><td>0.0655289</td><td>0.0272179</td><td>1</td></tr>\n",
       "<tr><td>4509</td><td>8767</td><td>-</td><td>83.94504816</td><td>-5.656459013</td><td>1210.08791</td><td>2370.945701</td><td>19.4675</td><td>0.0219541</td><td>19.2551</td><td>0.0128855</td><td>0.212412</td><td>0.00906865</td><td>0.0310478</td><td>0.0182228</td><td>1</td></tr>\n",
       "</table></div>"
      ],
      "text/plain": [
       "<Table length=4510>\n",
       "index MainID OtherID       RA     ...   dcolor    Delta130   Delta139 Nr_IR\n",
       "int64 int64   str24     float64   ...  float64    float64    float64  int64\n",
       "----- ------ -------- ----------- ... ---------- ---------- --------- -----\n",
       "    0      0  44-1078 83.62638127 ...   0.115685  0.0610695  0.563724     3\n",
       "    1      1 26-47-65 83.60899771 ...  0.0172287  0.0611172 0.0769806     4\n",
       "    2      2       48  83.6163478 ... 0.00717064  0.0273504 0.0428772     2\n",
       "    3      3      122 83.63294382 ...  0.0207105  0.0713882  0.026536     2\n",
       "    4      4       50 83.61754036 ...   0.018213  0.0280094 0.0634899     2\n",
       "    5      5 27-49-67 83.60019909 ... 0.00306582  0.0382137 0.0181913     4\n",
       "  ...    ...      ...         ... ...        ...        ...       ...   ...\n",
       " 4503   8743        - 83.92383617 ...   0.417308   0.226912 0.0251713     1\n",
       " 4504   8744        - 83.92183983 ...   0.123321  0.0437412  0.130661     1\n",
       " 4505   8746        - 83.92321705 ...   0.122971  0.0406055 0.0538387     1\n",
       " 4506   8755        - 83.94867786 ...  0.0157622 0.00614738 0.0397778     1\n",
       " 4507   8758        - 83.95056095 ...  0.0347762   0.016571 0.0126343     1\n",
       " 4508   8765        - 83.94266121 ...  0.0337795  0.0655289 0.0272179     1\n",
       " 4509   8767        - 83.94504816 ... 0.00906865  0.0310478 0.0182228     1"
      ]
     },
     "execution_count": 5,
     "metadata": {},
     "output_type": "execute_result"
    }
   ],
   "source": [
    "#Read a CSV file as a pandas file\n",
    "catfile = 'Tables/Slimtable_F130&MainIDfixed_8782.csv'\n",
    "pandacat = pd.read_csv(catfile)\n",
    "\n",
    "#check...\n",
    "pandacat.head()\n",
    "\n",
    "#to create an astropy table, use\n",
    "table1 = table.from_pandas(pandacat)\n",
    "table1"
   ]
  },
  {
   "cell_type": "markdown",
   "metadata": {},
   "source": [
    "# 4) READ A TABLE EXTRACTED FROM VIZIER X-MATCH LIBRARY "
   ]
  },
  {
   "cell_type": "code",
   "execution_count": 6,
   "metadata": {},
   "outputs": [
    {
     "data": {
      "text/html": [
       "<div>\n",
       "<style scoped>\n",
       "    .dataframe tbody tr th:only-of-type {\n",
       "        vertical-align: middle;\n",
       "    }\n",
       "\n",
       "    .dataframe tbody tr th {\n",
       "        vertical-align: top;\n",
       "    }\n",
       "\n",
       "    .dataframe thead th {\n",
       "        text-align: right;\n",
       "    }\n",
       "</style>\n",
       "<table border=\"1\" class=\"dataframe\">\n",
       "  <thead>\n",
       "    <tr style=\"text-align: right;\">\n",
       "      <th></th>\n",
       "      <th>index</th>\n",
       "      <th>RA</th>\n",
       "      <th>DEC</th>\n",
       "      <th>X_mos</th>\n",
       "      <th>Y_mos</th>\n",
       "      <th>mag130</th>\n",
       "      <th>dmag130</th>\n",
       "      <th>mag139</th>\n",
       "      <th>dmag139</th>\n",
       "      <th>color</th>\n",
       "      <th>dcolor</th>\n",
       "      <th>Delta130</th>\n",
       "      <th>Delta139</th>\n",
       "    </tr>\n",
       "  </thead>\n",
       "  <tbody>\n",
       "    <tr>\n",
       "      <th>0</th>\n",
       "      <td>0</td>\n",
       "      <td>83.626381</td>\n",
       "      <td>-5.457797</td>\n",
       "      <td>10112.937080</td>\n",
       "      <td>7947.759999</td>\n",
       "      <td>9.79719</td>\n",
       "      <td>0.020010</td>\n",
       "      <td>9.77856</td>\n",
       "      <td>0.201540</td>\n",
       "      <td>-0.077135</td>\n",
       "      <td>0.115685</td>\n",
       "      <td>0.061069</td>\n",
       "      <td>0.563724</td>\n",
       "    </tr>\n",
       "    <tr>\n",
       "      <th>1</th>\n",
       "      <td>1</td>\n",
       "      <td>83.608998</td>\n",
       "      <td>-5.441777</td>\n",
       "      <td>10598.805660</td>\n",
       "      <td>8397.328145</td>\n",
       "      <td>10.90830</td>\n",
       "      <td>0.018507</td>\n",
       "      <td>10.67360</td>\n",
       "      <td>0.026513</td>\n",
       "      <td>0.240065</td>\n",
       "      <td>0.017229</td>\n",
       "      <td>0.061117</td>\n",
       "      <td>0.076981</td>\n",
       "    </tr>\n",
       "    <tr>\n",
       "      <th>2</th>\n",
       "      <td>2</td>\n",
       "      <td>83.616348</td>\n",
       "      <td>-5.442953</td>\n",
       "      <td>10393.407530</td>\n",
       "      <td>8364.360953</td>\n",
       "      <td>11.72390</td>\n",
       "      <td>0.010977</td>\n",
       "      <td>11.53050</td>\n",
       "      <td>0.017751</td>\n",
       "      <td>0.195181</td>\n",
       "      <td>0.007171</td>\n",
       "      <td>0.027350</td>\n",
       "      <td>0.042877</td>\n",
       "    </tr>\n",
       "    <tr>\n",
       "      <th>3</th>\n",
       "      <td>3</td>\n",
       "      <td>83.632944</td>\n",
       "      <td>-5.443575</td>\n",
       "      <td>9929.648054</td>\n",
       "      <td>8347.017071</td>\n",
       "      <td>12.14590</td>\n",
       "      <td>0.030012</td>\n",
       "      <td>12.13240</td>\n",
       "      <td>0.012456</td>\n",
       "      <td>0.030689</td>\n",
       "      <td>0.020710</td>\n",
       "      <td>0.071388</td>\n",
       "      <td>0.026536</td>\n",
       "    </tr>\n",
       "    <tr>\n",
       "      <th>4</th>\n",
       "      <td>4</td>\n",
       "      <td>83.617540</td>\n",
       "      <td>-5.444363</td>\n",
       "      <td>10360.073060</td>\n",
       "      <td>8324.792596</td>\n",
       "      <td>13.37790</td>\n",
       "      <td>0.010352</td>\n",
       "      <td>13.42680</td>\n",
       "      <td>0.022832</td>\n",
       "      <td>-0.053258</td>\n",
       "      <td>0.018213</td>\n",
       "      <td>0.028009</td>\n",
       "      <td>0.063490</td>\n",
       "    </tr>\n",
       "  </tbody>\n",
       "</table>\n",
       "</div>"
      ],
      "text/plain": [
       "   index         RA       DEC         X_mos        Y_mos    mag130   dmag130  \\\n",
       "0      0  83.626381 -5.457797  10112.937080  7947.759999   9.79719  0.020010   \n",
       "1      1  83.608998 -5.441777  10598.805660  8397.328145  10.90830  0.018507   \n",
       "2      2  83.616348 -5.442953  10393.407530  8364.360953  11.72390  0.010977   \n",
       "3      3  83.632944 -5.443575   9929.648054  8347.017071  12.14590  0.030012   \n",
       "4      4  83.617540 -5.444363  10360.073060  8324.792596  13.37790  0.010352   \n",
       "\n",
       "     mag139   dmag139     color    dcolor  Delta130  Delta139  \n",
       "0   9.77856  0.201540 -0.077135  0.115685  0.061069  0.563724  \n",
       "1  10.67360  0.026513  0.240065  0.017229  0.061117  0.076981  \n",
       "2  11.53050  0.017751  0.195181  0.007171  0.027350  0.042877  \n",
       "3  12.13240  0.012456  0.030689  0.020710  0.071388  0.026536  \n",
       "4  13.42680  0.022832 -0.053258  0.018213  0.028009  0.063490  "
      ]
     },
     "execution_count": 6,
     "metadata": {},
     "output_type": "execute_result"
    }
   ],
   "source": [
    "#The X-match output table is a VOTable. Must handled with care, Pandas seems to work.\n",
    "\n",
    "#Routine is required to read VOTable => Pandas\n",
    "def votable_to_pandas(votable_file):\n",
    "    votable = parse(votable_file)\n",
    "    table = votable.get_first_table().to_table(use_names_over_ids=True)\n",
    "    return table.to_pandas()\n",
    "\n",
    "#here we go...\n",
    "catfile = 'Tables/Slimtable.csv.vot'\n",
    "pandacat  = votable_to_pandas(catfile)\n",
    "\n",
    "pandacat.head()"
   ]
  },
  {
   "cell_type": "markdown",
   "metadata": {},
   "source": [
    "One way or the other we have managed to read a catalog. Next step:\n",
    "\n",
    "# SET THE RANKING\n",
    "\n",
    "We select from the private dataset, using Pandas: \n",
    "\n",
    "1) all stars between J=12 and 15\n",
    "\n",
    "2) With water in absorption"
   ]
  },
  {
   "cell_type": "code",
   "execution_count": 7,
   "metadata": {},
   "outputs": [
    {
     "data": {
      "text/plain": [
       "<bound method NDFrame.head of       index         RA       DEC         X_mos        Y_mos   mag130  \\\n",
       "3         3  83.632944 -5.443575   9929.648054  8347.017071  12.1459   \n",
       "4         4  83.617540 -5.444363  10360.073060  8324.792596  13.3779   \n",
       "5         5  83.600199 -5.440295  10844.685050  8438.855152  13.6083   \n",
       "6         6  83.624958 -5.421466  10152.944790  8967.553107  13.2284   \n",
       "7         7  83.622401 -5.431073  10224.339930  8697.870091  13.7699   \n",
       "...     ...        ...       ...           ...          ...      ...   \n",
       "4440   4440  83.927963 -5.676457   1687.493805  1809.724011  14.7710   \n",
       "4469   4469  83.912612 -5.683232   2116.342653  1619.672950  12.2033   \n",
       "4470   4470  83.923624 -5.676921   1808.699806  1796.743379  14.5086   \n",
       "4471   4471  83.927098 -5.682654   1711.707193  1635.781733  14.9022   \n",
       "4490   4490  83.931691 -5.708912   1583.614537   898.662426  12.7847   \n",
       "\n",
       "       dmag130   mag139   dmag139     color    dcolor  Delta130  Delta139  \n",
       "3     0.030012  12.1324  0.012456  0.030689  0.020710  0.071388  0.026536  \n",
       "4     0.010352  13.4268  0.022832 -0.053258  0.018213  0.028009  0.063490  \n",
       "5     0.013171  13.1289  0.006306  0.483117  0.003066  0.038214  0.018191  \n",
       "6     0.013264  13.3092  0.014008 -0.093492  0.016095  0.034061  0.042323  \n",
       "7     0.004032  13.8486  0.004312 -0.078731  0.005330  0.008829  0.010528  \n",
       "...        ...      ...       ...       ...       ...       ...       ...  \n",
       "4440  0.005608  14.9399  0.019058 -0.174196  0.018670  0.014072  0.058131  \n",
       "4469  0.016363  12.1413  0.014731  0.062044  0.003103  0.032561  0.029391  \n",
       "4470  0.022735  14.3761  0.000568  0.148466  0.021261  0.051327  0.001123  \n",
       "4471  0.006112  14.9931  0.010499 -0.083651  0.003976  0.015000  0.028054  \n",
       "4490  0.018561  12.6551  0.019028  0.127508  0.000801  0.045461  0.045520  \n",
       "\n",
       "[1081 rows x 13 columns]>"
      ]
     },
     "execution_count": 7,
     "metadata": {},
     "output_type": "execute_result"
    }
   ],
   "source": [
    "criteria=(pandacat['mag130'] > 12) & (pandacat['mag130'] < 15)\n",
    "pandacat2 = pandacat[criteria]\n",
    "pandacat2.head"
   ]
  },
  {
   "cell_type": "code",
   "execution_count": 8,
   "metadata": {},
   "outputs": [
    {
     "data": {
      "text/html": [
       "<div><i>Table length=1081</i>\n",
       "<table id=\"table140376061667840\" class=\"table-striped table-bordered table-condensed\">\n",
       "<thead><tr><th>index</th><th>RA</th><th>DEC</th><th>X_mos</th><th>Y_mos</th><th>mag130</th><th>dmag130</th><th>mag139</th><th>dmag139</th><th>color</th><th>dcolor</th><th>Delta130</th><th>Delta139</th></tr></thead>\n",
       "<thead><tr><th>int16</th><th>float64</th><th>float64</th><th>float64</th><th>float64</th><th>float32</th><th>float64</th><th>float32</th><th>float64</th><th>float64</th><th>float64</th><th>float64</th><th>float64</th></tr></thead>\n",
       "<tr><td>3</td><td>83.632944</td><td>-5.443575</td><td>9929.648054</td><td>8347.017071</td><td>12.1459</td><td>0.0300123</td><td>12.1324</td><td>0.0124562</td><td>0.0306892</td><td>0.0207105</td><td>0.0713882</td><td>0.026536</td></tr>\n",
       "<tr><td>4</td><td>83.61754</td><td>-5.444363</td><td>10360.07306</td><td>8324.792596</td><td>13.3779</td><td>0.0103522</td><td>13.4268</td><td>0.0228317</td><td>-0.0532584</td><td>0.018213</td><td>0.0280094</td><td>0.0634899</td></tr>\n",
       "<tr><td>5</td><td>83.600199</td><td>-5.440295</td><td>10844.68505</td><td>8438.855152</td><td>13.6083</td><td>0.0131712</td><td>13.1289</td><td>0.00630562</td><td>0.483117</td><td>0.00306582</td><td>0.0382137</td><td>0.0181913</td></tr>\n",
       "<tr><td>6</td><td>83.624958</td><td>-5.421466</td><td>10152.94479</td><td>8967.553107</td><td>13.2284</td><td>0.0132644</td><td>13.3092</td><td>0.0140082</td><td>-0.0934917</td><td>0.0160946</td><td>0.0340614</td><td>0.0423231</td></tr>\n",
       "<tr><td>7</td><td>83.622401</td><td>-5.431073</td><td>10224.33993</td><td>8697.870091</td><td>13.7699</td><td>0.00403174</td><td>13.8486</td><td>0.00431242</td><td>-0.0787315</td><td>0.00533006</td><td>0.00882912</td><td>0.0105276</td></tr>\n",
       "<tr><td>39</td><td>83.599874</td><td>-5.476306</td><td>10853.48308</td><td>7428.02447</td><td>13.8732</td><td>0.0366342</td><td>14.0238</td><td>0.038855</td><td>-0.153075</td><td>0.00249785</td><td>0.125285</td><td>0.117202</td></tr>\n",
       "<tr><td>...</td><td>...</td><td>...</td><td>...</td><td>...</td><td>...</td><td>...</td><td>...</td><td>...</td><td>...</td><td>...</td><td>...</td><td>...</td></tr>\n",
       "<tr><td>4438</td><td>83.931004</td><td>-5.6819</td><td>1602.595753</td><td>1656.92631</td><td>12.82</td><td>0.024724</td><td>12.7787</td><td>0.0134676</td><td>0.0355985</td><td>0.00801408</td><td>0.0710669</td><td>0.0408621</td></tr>\n",
       "<tr><td>4439</td><td>83.927781</td><td>-5.678356</td><td>1692.596942</td><td>1756.420858</td><td>13.2501</td><td>0.00980722</td><td>13.231</td><td>0.0198731</td><td>0.0193659</td><td>0.0150239</td><td>0.0280943</td><td>0.0629997</td></tr>\n",
       "<tr><td>4440</td><td>83.927963</td><td>-5.676457</td><td>1687.493805</td><td>1809.724011</td><td>14.771</td><td>0.00560751</td><td>14.9399</td><td>0.0190578</td><td>-0.174196</td><td>0.0186705</td><td>0.0140724</td><td>0.0581312</td></tr>\n",
       "<tr><td>4469</td><td>83.912612</td><td>-5.683232</td><td>2116.342653</td><td>1619.67295</td><td>12.2033</td><td>0.0163635</td><td>12.1413</td><td>0.0147312</td><td>0.0620441</td><td>0.00310302</td><td>0.0325613</td><td>0.0293913</td></tr>\n",
       "<tr><td>4470</td><td>83.923624</td><td>-5.676921</td><td>1808.699806</td><td>1796.743379</td><td>14.5086</td><td>0.0227345</td><td>14.3761</td><td>0.000567997</td><td>0.148466</td><td>0.0212613</td><td>0.0513268</td><td>0.00112343</td></tr>\n",
       "<tr><td>4471</td><td>83.927098</td><td>-5.682654</td><td>1711.707193</td><td>1635.781733</td><td>14.9022</td><td>0.00611188</td><td>14.9931</td><td>0.0104988</td><td>-0.0836508</td><td>0.00397584</td><td>0.0150003</td><td>0.0280542</td></tr>\n",
       "<tr><td>4490</td><td>83.931691</td><td>-5.708912</td><td>1583.614537</td><td>898.6624261</td><td>12.7847</td><td>0.0185608</td><td>12.6551</td><td>0.0190276</td><td>0.127508</td><td>0.000801124</td><td>0.0454607</td><td>0.0455198</td></tr>\n",
       "</table></div>"
      ],
      "text/plain": [
       "<Table length=1081>\n",
       "index     RA       DEC       X_mos    ...    dcolor    Delta130   Delta139 \n",
       "int16  float64   float64    float64   ...   float64    float64    float64  \n",
       "----- --------- --------- ----------- ... ----------- ---------- ----------\n",
       "    3 83.632944 -5.443575 9929.648054 ...   0.0207105  0.0713882   0.026536\n",
       "    4  83.61754 -5.444363 10360.07306 ...    0.018213  0.0280094  0.0634899\n",
       "    5 83.600199 -5.440295 10844.68505 ...  0.00306582  0.0382137  0.0181913\n",
       "    6 83.624958 -5.421466 10152.94479 ...   0.0160946  0.0340614  0.0423231\n",
       "    7 83.622401 -5.431073 10224.33993 ...  0.00533006 0.00882912  0.0105276\n",
       "   39 83.599874 -5.476306 10853.48308 ...  0.00249785   0.125285   0.117202\n",
       "  ...       ...       ...         ... ...         ...        ...        ...\n",
       " 4438 83.931004   -5.6819 1602.595753 ...  0.00801408  0.0710669  0.0408621\n",
       " 4439 83.927781 -5.678356 1692.596942 ...   0.0150239  0.0280943  0.0629997\n",
       " 4440 83.927963 -5.676457 1687.493805 ...   0.0186705  0.0140724  0.0581312\n",
       " 4469 83.912612 -5.683232 2116.342653 ...  0.00310302  0.0325613  0.0293913\n",
       " 4470 83.923624 -5.676921 1808.699806 ...   0.0212613  0.0513268 0.00112343\n",
       " 4471 83.927098 -5.682654 1711.707193 ...  0.00397584  0.0150003  0.0280542\n",
       " 4490 83.931691 -5.708912 1583.614537 ... 0.000801124  0.0454607  0.0455198"
      ]
     },
     "execution_count": 8,
     "metadata": {},
     "output_type": "execute_result"
    }
   ],
   "source": [
    "# and create the astropy table...\n",
    "table1 = table.from_pandas(pandacat2)\n",
    "table1\n"
   ]
  },
  {
   "cell_type": "code",
   "execution_count": 9,
   "metadata": {},
   "outputs": [],
   "source": [
    "# check...\n",
    "\n",
    "#table1['DEC']"
   ]
  },
  {
   "cell_type": "code",
   "execution_count": 10,
   "metadata": {},
   "outputs": [
    {
     "data": {
      "application/vnd.jupyter.widget-view+json": {
       "model_id": "64bcf09fbab34022b72802b3f5dc6229",
       "version_major": 2,
       "version_minor": 0
      },
      "text/plain": [
       "Aladin(fov=1.5, options=['allow_full_zoomout', 'coo_frame', 'fov', 'full_screen', 'log', 'overlay_survey', 'ov…"
      ]
     },
     "metadata": {},
     "output_type": "display_data"
    }
   ],
   "source": [
    "# Check plotting all the selected sources\n",
    "# first display\n",
    "#aladin= ipyal.Aladin(fov= 2.5, target= 'm42', survey='P/allWise/color')\n",
    "aladin = ipyal.Aladin(target='M 42', fov=1.5, survey='P/2MASS/color')\n",
    "aladin"
   ]
  },
  {
   "cell_type": "code",
   "execution_count": 11,
   "metadata": {},
   "outputs": [],
   "source": [
    "#then overplot\n",
    "aladin.add_table(table1)"
   ]
  },
  {
   "cell_type": "code",
   "execution_count": 12,
   "metadata": {},
   "outputs": [
    {
     "data": {
      "text/html": [
       "<div><i>Table length=1081</i>\n",
       "<table id=\"table140376061667840\" class=\"table-striped table-bordered table-condensed\">\n",
       "<thead><tr><th>index</th><th>RA</th><th>DEC</th><th>X_mos</th><th>rank</th><th>Y_mos</th><th>mag130</th><th>dmag130</th><th>mag139</th><th>dmag139</th><th>color</th><th>dcolor</th><th>Delta130</th><th>Delta139</th></tr></thead>\n",
       "<thead><tr><th>int16</th><th>float64</th><th>float64</th><th>float64</th><th>float64</th><th>float64</th><th>float32</th><th>float64</th><th>float32</th><th>float64</th><th>float64</th><th>float64</th><th>float64</th><th>float64</th></tr></thead>\n",
       "<tr><td>3</td><td>83.632944</td><td>-5.443575</td><td>9929.648054</td><td>0.0</td><td>8347.017071</td><td>12.1459</td><td>0.0300123</td><td>12.1324</td><td>0.0124562</td><td>0.0306892</td><td>0.0207105</td><td>0.0713882</td><td>0.026536</td></tr>\n",
       "<tr><td>4</td><td>83.61754</td><td>-5.444363</td><td>10360.07306</td><td>0.0</td><td>8324.792596</td><td>13.3779</td><td>0.0103522</td><td>13.4268</td><td>0.0228317</td><td>-0.0532584</td><td>0.018213</td><td>0.0280094</td><td>0.0634899</td></tr>\n",
       "<tr><td>5</td><td>83.600199</td><td>-5.440295</td><td>10844.68505</td><td>0.0</td><td>8438.855152</td><td>13.6083</td><td>0.0131712</td><td>13.1289</td><td>0.00630562</td><td>0.483117</td><td>0.00306582</td><td>0.0382137</td><td>0.0181913</td></tr>\n",
       "<tr><td>6</td><td>83.624958</td><td>-5.421466</td><td>10152.94479</td><td>0.0</td><td>8967.553107</td><td>13.2284</td><td>0.0132644</td><td>13.3092</td><td>0.0140082</td><td>-0.0934917</td><td>0.0160946</td><td>0.0340614</td><td>0.0423231</td></tr>\n",
       "<tr><td>7</td><td>83.622401</td><td>-5.431073</td><td>10224.33993</td><td>0.0</td><td>8697.870091</td><td>13.7699</td><td>0.00403174</td><td>13.8486</td><td>0.00431242</td><td>-0.0787315</td><td>0.00533006</td><td>0.00882912</td><td>0.0105276</td></tr>\n",
       "<tr><td>39</td><td>83.599874</td><td>-5.476306</td><td>10853.48308</td><td>0.0</td><td>7428.02447</td><td>13.8732</td><td>0.0366342</td><td>14.0238</td><td>0.038855</td><td>-0.153075</td><td>0.00249785</td><td>0.125285</td><td>0.117202</td></tr>\n",
       "<tr><td>...</td><td>...</td><td>...</td><td>...</td><td>...</td><td>...</td><td>...</td><td>...</td><td>...</td><td>...</td><td>...</td><td>...</td><td>...</td><td>...</td></tr>\n",
       "<tr><td>4438</td><td>83.931004</td><td>-5.6819</td><td>1602.595753</td><td>0.0</td><td>1656.92631</td><td>12.82</td><td>0.024724</td><td>12.7787</td><td>0.0134676</td><td>0.0355985</td><td>0.00801408</td><td>0.0710669</td><td>0.0408621</td></tr>\n",
       "<tr><td>4439</td><td>83.927781</td><td>-5.678356</td><td>1692.596942</td><td>0.0</td><td>1756.420858</td><td>13.2501</td><td>0.00980722</td><td>13.231</td><td>0.0198731</td><td>0.0193659</td><td>0.0150239</td><td>0.0280943</td><td>0.0629997</td></tr>\n",
       "<tr><td>4440</td><td>83.927963</td><td>-5.676457</td><td>1687.493805</td><td>0.0</td><td>1809.724011</td><td>14.771</td><td>0.00560751</td><td>14.9399</td><td>0.0190578</td><td>-0.174196</td><td>0.0186705</td><td>0.0140724</td><td>0.0581312</td></tr>\n",
       "<tr><td>4469</td><td>83.912612</td><td>-5.683232</td><td>2116.342653</td><td>0.0</td><td>1619.67295</td><td>12.2033</td><td>0.0163635</td><td>12.1413</td><td>0.0147312</td><td>0.0620441</td><td>0.00310302</td><td>0.0325613</td><td>0.0293913</td></tr>\n",
       "<tr><td>4470</td><td>83.923624</td><td>-5.676921</td><td>1808.699806</td><td>0.0</td><td>1796.743379</td><td>14.5086</td><td>0.0227345</td><td>14.3761</td><td>0.000567997</td><td>0.148466</td><td>0.0212613</td><td>0.0513268</td><td>0.00112343</td></tr>\n",
       "<tr><td>4471</td><td>83.927098</td><td>-5.682654</td><td>1711.707193</td><td>0.0</td><td>1635.781733</td><td>14.9022</td><td>0.00611188</td><td>14.9931</td><td>0.0104988</td><td>-0.0836508</td><td>0.00397584</td><td>0.0150003</td><td>0.0280542</td></tr>\n",
       "<tr><td>4490</td><td>83.931691</td><td>-5.708912</td><td>1583.614537</td><td>0.0</td><td>898.6624261</td><td>12.7847</td><td>0.0185608</td><td>12.6551</td><td>0.0190276</td><td>0.127508</td><td>0.000801124</td><td>0.0454607</td><td>0.0455198</td></tr>\n",
       "</table></div>"
      ],
      "text/plain": [
       "<Table length=1081>\n",
       "index     RA       DEC       X_mos    ...    dcolor    Delta130   Delta139 \n",
       "int16  float64   float64    float64   ...   float64    float64    float64  \n",
       "----- --------- --------- ----------- ... ----------- ---------- ----------\n",
       "    3 83.632944 -5.443575 9929.648054 ...   0.0207105  0.0713882   0.026536\n",
       "    4  83.61754 -5.444363 10360.07306 ...    0.018213  0.0280094  0.0634899\n",
       "    5 83.600199 -5.440295 10844.68505 ...  0.00306582  0.0382137  0.0181913\n",
       "    6 83.624958 -5.421466 10152.94479 ...   0.0160946  0.0340614  0.0423231\n",
       "    7 83.622401 -5.431073 10224.33993 ...  0.00533006 0.00882912  0.0105276\n",
       "   39 83.599874 -5.476306 10853.48308 ...  0.00249785   0.125285   0.117202\n",
       "  ...       ...       ...         ... ...         ...        ...        ...\n",
       " 4438 83.931004   -5.6819 1602.595753 ...  0.00801408  0.0710669  0.0408621\n",
       " 4439 83.927781 -5.678356 1692.596942 ...   0.0150239  0.0280943  0.0629997\n",
       " 4440 83.927963 -5.676457 1687.493805 ...   0.0186705  0.0140724  0.0581312\n",
       " 4469 83.912612 -5.683232 2116.342653 ...  0.00310302  0.0325613  0.0293913\n",
       " 4470 83.923624 -5.676921 1808.699806 ...   0.0212613  0.0513268 0.00112343\n",
       " 4471 83.927098 -5.682654 1711.707193 ...  0.00397584  0.0150003  0.0280542\n",
       " 4490 83.931691 -5.708912 1583.614537 ... 0.000801124  0.0454607  0.0455198"
      ]
     },
     "execution_count": 12,
     "metadata": {},
     "output_type": "execute_result"
    }
   ],
   "source": [
    "#ADD THE RANK COLUMN\n",
    "col_e = Column(name='rank', data=np.zeros(1081))  # all ranks set to 0 to begin with...\n",
    "table1.add_columns([col_e],indexes=[4])\n",
    "table1"
   ]
  },
  {
   "cell_type": "code",
   "execution_count": 13,
   "metadata": {},
   "outputs": [
    {
     "data": {
      "text/html": [
       "<div><i>Table length=1081</i>\n",
       "<table id=\"table140375111579824\" class=\"table-striped table-bordered table-condensed\">\n",
       "<thead><tr><th>rank</th><th>color</th></tr></thead>\n",
       "<thead><tr><th>float64</th><th>float64</th></tr></thead>\n",
       "<tr><td>10.611439772644044</td><td>0.0306892</td></tr>\n",
       "<tr><td>16.04082012359619</td><td>-0.0532584</td></tr>\n",
       "<tr><td>-10.54754979095459</td><td>0.483117</td></tr>\n",
       "<tr><td>17.902985230407715</td><td>-0.0934917</td></tr>\n",
       "<tr><td>17.70647532196045</td><td>-0.0787315</td></tr>\n",
       "<tr><td>21.52695041656494</td><td>-0.153075</td></tr>\n",
       "<tr><td>...</td><td>...</td></tr>\n",
       "<tr><td>11.040074694824218</td><td>0.0355985</td></tr>\n",
       "<tr><td>12.281805135803223</td><td>0.0193659</td></tr>\n",
       "<tr><td>23.480799908447267</td><td>-0.174196</td></tr>\n",
       "<tr><td>9.101095476074219</td><td>0.0620441</td></tr>\n",
       "<tr><td>7.085300234985352</td><td>0.148466</td></tr>\n",
       "<tr><td>19.084739745178222</td><td>-0.0836508</td></tr>\n",
       "<tr><td>6.409300393676757</td><td>0.127508</td></tr>\n",
       "</table></div>"
      ],
      "text/plain": [
       "<Table length=1081>\n",
       "       rank          color   \n",
       "     float64        float64  \n",
       "------------------ ----------\n",
       "10.611439772644044  0.0306892\n",
       " 16.04082012359619 -0.0532584\n",
       "-10.54754979095459   0.483117\n",
       "17.902985230407715 -0.0934917\n",
       " 17.70647532196045 -0.0787315\n",
       " 21.52695041656494  -0.153075\n",
       "               ...        ...\n",
       "11.040074694824218  0.0355985\n",
       "12.281805135803223  0.0193659\n",
       "23.480799908447267  -0.174196\n",
       " 9.101095476074219  0.0620441\n",
       " 7.085300234985352   0.148466\n",
       "19.084739745178222 -0.0836508\n",
       " 6.409300393676757   0.127508"
      ]
     },
     "execution_count": 13,
     "metadata": {},
     "output_type": "execute_result"
    }
   ],
   "source": [
    "# set a ranking metric: from bright and red (good) to faint and blue (bad)\n",
    "table1['rank']=table1['mag130']-50*table1['color']\n",
    "table1['rank','color']\n",
    "\n",
    "#... but for the moment I don't use it... "
   ]
  },
  {
   "cell_type": "markdown",
   "metadata": {},
   "source": [
    "### The next two cells are the Example 8 and the core of the entire process\n",
    "\n",
    "Once the cell below has been executed, you will see the Select button.\n",
    "\n",
    "Run the following cell, then press and drag a rectangle enclosing the sources you wish to select. \n",
    "\n",
    "For SAMOS make sure you select a BOX ~3' X 3'.\n",
    "\n",
    "You will  see their names in the table at the right of the ipyaladin view."
   ]
  },
  {
   "cell_type": "code",
   "execution_count": 14,
   "metadata": {},
   "outputs": [
    {
     "data": {
      "application/vnd.jupyter.widget-view+json": {
       "model_id": "94d140eea2ce44f4b316196523873ba0",
       "version_major": 2,
       "version_minor": 0
      },
      "text/plain": [
       "Box(children=(Aladin(fov=0.055, layout=Layout(width='50%'), options=['allow_full_zoomout', 'coo_frame', 'fov',…"
      ]
     },
     "metadata": {},
     "output_type": "display_data"
    },
    {
     "name": "stdout",
     "output_type": "stream",
     "text": [
      "None\r"
     ]
    }
   ],
   "source": [
    "\n",
    "\n",
    "#aladin = Aladin(layout=Layout(width='50%'), target='M 42', fov=0.05)  #FoV=3'\n",
    "#aladin = Aladin(layout=Layout(width='50%'), target='M 42', fov=0.05, survey='P/allWise/color')\n",
    "aladin = Aladin(layout=Layout(width='50%'), target='M 42', fov=0.055, survey='P/2MASS/color')\n",
    "\n",
    "\n",
    "button = widgets.Button(description=\"Select\")\n",
    "def on_button_clicked(b):\n",
    "    aladin.rectangular_selection()\n",
    "    \n",
    "button.on_click(on_button_clicked)\n",
    "table_info = widgets.HTML(layout=Layout(height='auto', overflow='auto'))\n",
    "\n",
    "\n",
    "box_layout = Layout(display='flex',\n",
    "                    flex_flow='row',\n",
    "                    align_items='stretch',\n",
    "                    width='100%',\n",
    "                    position='relative',\n",
    "                    overflow='hidden',\n",
    "                    height='140vh',\n",
    "                    margin='-100px 0 -350px 0',\n",
    "                    padding='100px 0 0 0 '\n",
    "                   )\n",
    "box = Box(children=[aladin, button, table_info], layout=box_layout)\n",
    "box\n",
    "\n"
   ]
  },
  {
   "cell_type": "code",
   "execution_count": 16,
   "metadata": {},
   "outputs": [],
   "source": [
    "\n",
    "aladin.add_table(table1)\n",
    "\n",
    "def process_result(sources):\n",
    "    global indici\n",
    "    indici = np.empty(1)\n",
    "    s = '<table border=\"1\">'\n",
    "    s += '<tr><th>MAIN_ID</th><th>RA</th><th>DEC</th></tr>'\n",
    "    for source in sources:\n",
    "        s += '<tr><td>%s</td><td>%s</td><td>%s</td></tr>' % (source['data']['index'], source['data']['RA'], source['data']['DEC'])\n",
    "        var = source['data']['index']\n",
    "        indici = np.append(indici,var)\n",
    "    s += '</table>'\n",
    "    table_info.value = s    \n",
    "  \n",
    "aladin.add_listener('select', process_result)\n",
    "\n"
   ]
  },
  {
   "cell_type": "markdown",
   "metadata": {},
   "source": [
    "## Print the list of selected targets"
   ]
  },
  {
   "cell_type": "code",
   "execution_count": 17,
   "metadata": {},
   "outputs": [
    {
     "name": "stdout",
     "output_type": "stream",
     "text": [
      "[ 235.  237.  238.  239.  242.  245.  247.  248.  325.  343.  344.  345.\n",
      "  347.  348.  351.  353.  354.  357.  358.  359.  360.  361.  362.  405.\n",
      "  406.  407.  408.  409.  410.  411.  413.  457.  458.  459.  460.  461.\n",
      "  462.  463.  464.  465.  466.  467.  533.  540.  586.  587.  589.  591.\n",
      " 1163. 1257. 1258. 1259. 1260. 1261. 1262. 1263. 1264. 1265. 1266. 1267.\n",
      " 1268. 1269. 1270. 1271. 1272. 1273. 1274. 1275. 1276. 1277. 1278. 1279.\n",
      " 1280. 1281. 1282. 1283. 1284. 1285. 1314. 1315. 1316. 1317. 1332. 1333.\n",
      " 1334. 1335. 1336. 1344. 1353. 1354. 1355. 1356. 1357. 1358. 1359. 1360.\n",
      " 1361. 1363. 1365. 1368. 1369. 1371. 1372. 1404. 1405. 1406. 1407. 1408.\n",
      " 1409. 1410. 1411. 1412. 1413. 1414. 1415. 1416. 1417. 1418. 1419. 1420.\n",
      " 1421. 1422. 1423. 1424. 1425. 1426. 1427. 1428. 1429. 1430. 1431. 1432.\n",
      " 1433. 1434. 1469. 1470. 1471. 1472. 1473. 1474. 1475. 1476. 1477. 1478.\n",
      " 1479. 1480. 1481. 1482. 1483. 1484. 1485. 1486. 1487. 1488. 1489. 1490.\n",
      " 1491. 1492. 1493. 1494. 1495. 1496. 1497. 1498. 1499. 1500. 1501. 1502.\n",
      " 1503. 1504. 1505. 1507. 1528. 1529. 2126. 2127. 2132. 2148. 2158. 2159.\n",
      " 2168. 2169. 2171. 2175. 2193. 2199. 2201. 2204. 2208. 2209. 2311. 2312.\n",
      " 2315. 2316. 2388. 2389. 2390. 2393. 2394. 2395. 2396. 2398. 2399. 2400.\n",
      " 2401. 2403. 2405. 2406. 2407. 2408. 2409. 2412. 2413. 2414. 2415. 2416.\n",
      " 2417. 2418. 2419. 2420. 2421. 2422. 2473. 2475. 2476. 2477. 2479. 2480.\n",
      " 2481. 2483. 2484. 2487. 2488. 2490. 2494. 2497. 2503. 2504. 2506. 2507.\n",
      " 2508. 2512. 2553. 2554. 2555. 2556. 2557. 2605.]\n",
      "Selected 248  sources\n"
     ]
    }
   ],
   "source": [
    "indici=indici[1:] #remove initial NAN introduced by the creation of the array...\n",
    "print(indici)\n",
    "print(\"Selected\",len(indici),\" sources\")"
   ]
  },
  {
   "cell_type": "code",
   "execution_count": 18,
   "metadata": {},
   "outputs": [
    {
     "name": "stdout",
     "output_type": "stream",
     "text": [
      "      index         RA       DEC        X_mos        Y_mos   mag130   dmag130  \\\n",
      "2315   2315  83.784234 -5.400927  5702.002676  9544.538853  14.5750  0.175363   \n",
      "2311   2311  83.784322 -5.400871  5699.547609  9546.127837  13.1536  0.031649   \n",
      "1358   1358  83.784532 -5.409672  5693.706804  9299.066533  12.6503  0.083218   \n",
      "235     235  83.784978 -5.474800  5681.279601  7470.912140  12.5023  0.007483   \n",
      "1356   1356  83.785473 -5.411527  5667.411487  9246.993496  12.7025  0.012369   \n",
      "...     ...        ...       ...          ...          ...      ...       ...   \n",
      "1315   1315  83.878964 -5.428866  3054.886496  8760.012918  12.1838  0.016546   \n",
      "589     589  83.880356 -5.462067  3016.143559  7828.038654  14.2830  0.025554   \n",
      "587     587  83.880843 -5.471212  3002.589594  7571.354421  12.9341  0.015862   \n",
      "1163   1163  83.881507 -5.450586  2983.937694  8150.315048  14.1258  0.032558   \n",
      "591     591  83.882707 -5.452934  2950.408932  8084.386818  14.7720  0.019680   \n",
      "\n",
      "       mag139   dmag139     color    dcolor  Delta130  Delta139  \n",
      "2315  14.4333  0.785894 -0.235346  0.077292  0.248000  1.111420  \n",
      "2311  13.1232  0.016708  0.048623  0.033228  0.044759  0.023629  \n",
      "1358  12.7012  0.050159 -0.050571  0.019918  0.266000  0.142000  \n",
      "235   12.2650  0.031113  0.202044  0.001111  0.010583  0.044000  \n",
      "1356  12.7414  0.011587 -0.036784  0.014424  0.036061  0.034817  \n",
      "...       ...       ...       ...       ...       ...       ...  \n",
      "1315  12.2718  0.009838 -0.077998  0.025490  0.044874  0.023521  \n",
      "589   14.1794  0.014784  0.103765  0.017929  0.068883  0.045322  \n",
      "587   13.1212  0.012490 -0.173560  0.010637  0.047999  0.034365  \n",
      "1163  14.3131  0.037462 -0.191124  0.008779  0.085000  0.105000  \n",
      "591   14.8651  0.018299 -0.089784  0.011184  0.062543  0.060792  \n",
      "\n",
      "[248 rows x 13 columns]\n"
     ]
    }
   ],
   "source": [
    "targetlist = pandacat[pandacat['index'].isin(indici)]\n",
    "\n",
    "#sorted table\n",
    "targetlist = targetlist.sort_values(by=['RA'])\n",
    "print(targetlist)\n"
   ]
  },
  {
   "cell_type": "markdown",
   "metadata": {},
   "source": [
    "### Default slit width"
   ]
  },
  {
   "cell_type": "code",
   "execution_count": 19,
   "metadata": {},
   "outputs": [],
   "source": [
    "Slit_Width_pix = 7 #pixels; this affects the total nr. of spectra in a dense field\n",
    "Slit_Size_pix = 3 #pixels; this affect the resolution of the spectra\n",
    "targetlist['slit_width']=7\n",
    "targetlist['slit_size']=3"
   ]
  },
  {
   "cell_type": "code",
   "execution_count": 20,
   "metadata": {},
   "outputs": [
    {
     "name": "stdout",
     "output_type": "stream",
     "text": [
      "1.23046875\n",
      "83.83329960156249\n",
      "2016.7270399999688\n",
      "0 -1008 -1004 -1001\n",
      "3 -993 -989 -986\n",
      "4 -982 -979 -975\n",
      "8 -899 -895 -892\n",
      "9 -890 -887 -883\n",
      "12 -864 -861 -857\n",
      "13 -843 -839 -836\n",
      "14 -831 -827 -824\n",
      "16 -816 -812 -809\n",
      "18 -794 -790 -787\n",
      "19 -785 -781 -778\n",
      "21 -758 -755 -751\n",
      "22 -715 -711 -708\n",
      "26 -681 -677 -674\n",
      "28 -669 -666 -662\n",
      "29 -627 -623 -620\n",
      "32 -605 -602 -598\n",
      "33 -590 -587 -583\n",
      "35 -574 -570 -567\n",
      "38 -555 -551 -548\n",
      "42 -544 -541 -537\n",
      "44 -529 -526 -522\n",
      "45 -521 -517 -514\n",
      "46 -511 -508 -504\n",
      "49 -498 -494 -491\n",
      "50 -486 -483 -479\n",
      "52 -477 -473 -470\n",
      "53 -465 -462 -458\n",
      "55 -453 -449 -446\n",
      "56 -445 -441 -438\n",
      "58 -437 -433 -430\n",
      "59 -426 -423 -419\n",
      "60 -416 -412 -409\n",
      "62 -403 -400 -396\n",
      "65 -395 -391 -388\n",
      "68 -385 -381 -378\n",
      "69 -373 -370 -366\n",
      "73 -364 -361 -357\n",
      "79 -357 -353 -350\n",
      "82 -347 -343 -340\n",
      "85 -338 -334 -331\n",
      "88 -329 -325 -322\n",
      "92 -311 -308 -304\n",
      "93 -295 -292 -288\n",
      "94 -280 -276 -273\n",
      "97 -273 -269 -266\n",
      "100 -264 -260 -257\n",
      "101 -249 -246 -242\n",
      "103 -236 -232 -229\n",
      "105 -225 -222 -218\n",
      "107 -218 -214 -211\n",
      "108 -210 -207 -203\n",
      "111 -200 -197 -193\n",
      "114 -192 -189 -185\n",
      "118 -180 -177 -173\n",
      "123 -169 -165 -162\n",
      "125 -156 -153 -149\n",
      "129 -148 -144 -141\n",
      "133 -141 -137 -134\n",
      "135 -130 -127 -123\n",
      "137 -115 -112 -108\n",
      "138 -98 -95 -91\n",
      "140 -90 -87 -83\n",
      "142 -68 -64 -61\n",
      "143 -39 -36 -32\n",
      "146 -16 -13 -9\n",
      "147 -8 -5 -1\n",
      "148 1 4 8\n",
      "150 9 12 16\n",
      "152 19 23 26\n",
      "154 32 36 39\n",
      "155 39 43 46\n",
      "156 41 44 48\n",
      "157 43 46 50\n",
      "158 53 56 60\n",
      "159 57 61 64\n",
      "160 73 76 80\n",
      "161 75 78 82\n",
      "162 84 87 91\n",
      "163 94 97 101\n",
      "164 97 101 104\n",
      "165 99 103 106\n",
      "166 105 108 112\n",
      "167 108 112 115\n",
      "168 110 113 117\n",
      "169 135 138 142\n",
      "170 135 139 142\n",
      "171 135 139 142\n",
      "172 140 144 147\n",
      "173 144 147 151\n",
      "174 144 147 151\n",
      "175 148 151 155\n",
      "176 157 161 164\n",
      "177 161 165 168\n",
      "178 173 176 180\n",
      "179 173 176 180\n",
      "180 175 179 182\n",
      "181 177 181 184\n",
      "182 187 191 194\n",
      "183 199 203 206\n",
      "184 202 205 209\n",
      "185 204 208 211\n",
      "186 206 209 213\n",
      "187 206 210 213\n",
      "188 228 232 235\n",
      "189 238 241 245\n",
      "190 254 257 261\n",
      "191 256 260 263\n",
      "192 260 264 267\n",
      "193 271 274 278\n",
      "194 272 275 279\n",
      "195 279 283 286\n",
      "196 298 301 305\n",
      "197 302 306 309\n",
      "198 308 312 315\n",
      "199 308 312 315\n",
      "200 309 313 316\n",
      "201 314 318 321\n",
      "202 317 321 324\n",
      "203 322 325 329\n",
      "204 328 332 335\n",
      "205 336 339 343\n",
      "206 365 368 372\n",
      "207 366 370 373\n",
      "208 366 370 373\n",
      "209 377 380 384\n",
      "210 378 382 385\n",
      "211 381 385 388\n",
      "212 397 400 404\n",
      "213 413 416 420\n",
      "214 420 424 427\n",
      "215 426 429 433\n",
      "216 430 434 437\n",
      "217 441 444 448\n",
      "218 452 455 459\n",
      "219 455 459 462\n",
      "220 457 460 464\n",
      "221 460 463 467\n",
      "222 503 506 510\n",
      "223 520 524 527\n",
      "224 524 527 531\n",
      "225 534 537 541\n",
      "226 544 547 551\n",
      "227 551 554 558\n",
      "228 587 591 594\n",
      "229 591 594 598\n",
      "230 593 596 600\n",
      "231 660 664 667\n",
      "232 667 671 674\n",
      "233 725 729 732\n",
      "234 805 809 812\n",
      "235 838 842 845\n",
      "236 873 876 880\n",
      "237 878 881 885\n",
      "238 888 892 895\n",
      "239 891 895 898\n",
      "240 908 912 915\n",
      "241 911 914 918\n",
      "242 928 931 935\n",
      "243 931 935 938\n",
      "244 960 963 967\n",
      "245 970 973 977\n",
      "246 983 987 990\n",
      "163\n"
     ]
    }
   ],
   "source": [
    "\n",
    "Slit_Width_arcsec = Slit_Width_pix * 180./1024 #scale...\n",
    "print(Slit_Width_arcsec)\n",
    "#assume we disperse along the DEC axis...\n",
    "slit_centers  = targetlist['RA']  # in degrees\n",
    "targetlist['slit_left'] = slit_centers - Slit_Width_arcsec/2. / 3600.  \n",
    "targetlist['slit_right'] = slit_centers + Slit_Width_arcsec/2. / 3600.  \n",
    "\n",
    "#center of mass of the targets system\n",
    "#print(min(targetlist['slit_left']))\n",
    "#print(max(targetlist['slit_right']))\n",
    "centerfield = (min(targetlist['slit_left'])+max(targetlist['slit_left']))/2.\n",
    "print(centerfield)\n",
    "\n",
    "#range in pixels of the targets\n",
    "range_pixels = (max(targetlist['slit_left'])-min(targetlist['slit_left']))*3600./180.*1024\n",
    "print(range_pixels)\n",
    "good_index = [0]\n",
    "pix_right = []\n",
    "pix_left = []\n",
    "j=0\n",
    "for i in range(0,len(targetlist['RA'])-1):\n",
    "    if j-i >= 1:\n",
    "        continue\n",
    "    j=i+1\n",
    "    while ((targetlist.iloc[j]['slit_left'] < targetlist.iloc[i]['slit_right']) & (j<154)):\n",
    "#        print('skipping',j)\n",
    "        j = j+1\n",
    "#    print('accepting',j)    \n",
    "    good_index.append(j)\n",
    "#    print(j,'-left: ',targetlist.iloc[j]['slit_left'],j,'-right:', targetlist.iloc[j]['slit_right'])\n",
    "    \n",
    "    pix_left.append( (targetlist.iloc[i]['slit_left']-centerfield)*3600./180.*1024)\n",
    "    pix_right.append( (targetlist.iloc[i]['slit_right']-centerfield)*3600./180.*1024)\n",
    "#    print(pix_left,pix_right)     \n",
    "pix_center = (np.array(pix_left)+np.array(pix_right))/2.\n",
    "for i in range(len(pix_right)):\n",
    "    print(good_index[i],int(pix_left[i]),int(pix_center[i]),int(pix_right[i]))\n",
    "print(len(pix_right))    "
   ]
  },
  {
   "cell_type": "code",
   "execution_count": 102,
   "metadata": {},
   "outputs": [
    {
     "data": {
      "text/html": [
       "<div>\n",
       "<style scoped>\n",
       "    .dataframe tbody tr th:only-of-type {\n",
       "        vertical-align: middle;\n",
       "    }\n",
       "\n",
       "    .dataframe tbody tr th {\n",
       "        vertical-align: top;\n",
       "    }\n",
       "\n",
       "    .dataframe thead th {\n",
       "        text-align: right;\n",
       "    }\n",
       "</style>\n",
       "<table border=\"1\" class=\"dataframe\">\n",
       "  <thead>\n",
       "    <tr style=\"text-align: right;\">\n",
       "      <th></th>\n",
       "      <th>index</th>\n",
       "      <th>RA</th>\n",
       "      <th>DEC</th>\n",
       "      <th>X_mos</th>\n",
       "      <th>Y_mos</th>\n",
       "      <th>mag130</th>\n",
       "      <th>dmag130</th>\n",
       "      <th>mag139</th>\n",
       "      <th>dmag139</th>\n",
       "      <th>color</th>\n",
       "      <th>dcolor</th>\n",
       "      <th>Delta130</th>\n",
       "      <th>Delta139</th>\n",
       "      <th>slit_width</th>\n",
       "      <th>slit_size</th>\n",
       "      <th>slit_left</th>\n",
       "      <th>slit_right</th>\n",
       "    </tr>\n",
       "  </thead>\n",
       "  <tbody>\n",
       "    <tr>\n",
       "      <th>2315</th>\n",
       "      <td>2315</td>\n",
       "      <td>83.784234</td>\n",
       "      <td>-5.400927</td>\n",
       "      <td>5702.002676</td>\n",
       "      <td>9544.538853</td>\n",
       "      <td>14.5750</td>\n",
       "      <td>0.175363</td>\n",
       "      <td>14.4333</td>\n",
       "      <td>0.785894</td>\n",
       "      <td>-0.235346</td>\n",
       "      <td>0.077292</td>\n",
       "      <td>0.248000</td>\n",
       "      <td>1.111420</td>\n",
       "      <td>7</td>\n",
       "      <td>3</td>\n",
       "      <td>83.784063</td>\n",
       "      <td>83.784405</td>\n",
       "    </tr>\n",
       "    <tr>\n",
       "      <th>235</th>\n",
       "      <td>235</td>\n",
       "      <td>83.784978</td>\n",
       "      <td>-5.474800</td>\n",
       "      <td>5681.279601</td>\n",
       "      <td>7470.912140</td>\n",
       "      <td>12.5023</td>\n",
       "      <td>0.007483</td>\n",
       "      <td>12.2650</td>\n",
       "      <td>0.031113</td>\n",
       "      <td>0.202044</td>\n",
       "      <td>0.001111</td>\n",
       "      <td>0.010583</td>\n",
       "      <td>0.044000</td>\n",
       "      <td>7</td>\n",
       "      <td>3</td>\n",
       "      <td>83.784807</td>\n",
       "      <td>83.785149</td>\n",
       "    </tr>\n",
       "    <tr>\n",
       "      <th>1356</th>\n",
       "      <td>1356</td>\n",
       "      <td>83.785473</td>\n",
       "      <td>-5.411527</td>\n",
       "      <td>5667.411487</td>\n",
       "      <td>9246.993496</td>\n",
       "      <td>12.7025</td>\n",
       "      <td>0.012369</td>\n",
       "      <td>12.7414</td>\n",
       "      <td>0.011587</td>\n",
       "      <td>-0.036784</td>\n",
       "      <td>0.014424</td>\n",
       "      <td>0.036061</td>\n",
       "      <td>0.034817</td>\n",
       "      <td>7</td>\n",
       "      <td>3</td>\n",
       "      <td>83.785302</td>\n",
       "      <td>83.785644</td>\n",
       "    </tr>\n",
       "    <tr>\n",
       "      <th>239</th>\n",
       "      <td>239</td>\n",
       "      <td>83.789556</td>\n",
       "      <td>-5.463580</td>\n",
       "      <td>5553.367973</td>\n",
       "      <td>7785.861152</td>\n",
       "      <td>12.6936</td>\n",
       "      <td>0.013550</td>\n",
       "      <td>12.4279</td>\n",
       "      <td>0.018207</td>\n",
       "      <td>0.261200</td>\n",
       "      <td>0.008473</td>\n",
       "      <td>0.019162</td>\n",
       "      <td>0.025748</td>\n",
       "      <td>7</td>\n",
       "      <td>3</td>\n",
       "      <td>83.789385</td>\n",
       "      <td>83.789727</td>\n",
       "    </tr>\n",
       "    <tr>\n",
       "      <th>242</th>\n",
       "      <td>242</td>\n",
       "      <td>83.789978</td>\n",
       "      <td>-5.466669</td>\n",
       "      <td>5541.581525</td>\n",
       "      <td>7699.149219</td>\n",
       "      <td>12.9899</td>\n",
       "      <td>0.011217</td>\n",
       "      <td>12.9225</td>\n",
       "      <td>0.000707</td>\n",
       "      <td>0.059605</td>\n",
       "      <td>0.000856</td>\n",
       "      <td>0.015863</td>\n",
       "      <td>0.001000</td>\n",
       "      <td>7</td>\n",
       "      <td>3</td>\n",
       "      <td>83.789807</td>\n",
       "      <td>83.790149</td>\n",
       "    </tr>\n",
       "    <tr>\n",
       "      <th>...</th>\n",
       "      <td>...</td>\n",
       "      <td>...</td>\n",
       "      <td>...</td>\n",
       "      <td>...</td>\n",
       "      <td>...</td>\n",
       "      <td>...</td>\n",
       "      <td>...</td>\n",
       "      <td>...</td>\n",
       "      <td>...</td>\n",
       "      <td>...</td>\n",
       "      <td>...</td>\n",
       "      <td>...</td>\n",
       "      <td>...</td>\n",
       "      <td>...</td>\n",
       "      <td>...</td>\n",
       "      <td>...</td>\n",
       "      <td>...</td>\n",
       "    </tr>\n",
       "    <tr>\n",
       "      <th>1315</th>\n",
       "      <td>1315</td>\n",
       "      <td>83.878964</td>\n",
       "      <td>-5.428866</td>\n",
       "      <td>3054.886496</td>\n",
       "      <td>8760.012918</td>\n",
       "      <td>12.1838</td>\n",
       "      <td>0.016546</td>\n",
       "      <td>12.2718</td>\n",
       "      <td>0.009838</td>\n",
       "      <td>-0.077998</td>\n",
       "      <td>0.025490</td>\n",
       "      <td>0.044874</td>\n",
       "      <td>0.023521</td>\n",
       "      <td>7</td>\n",
       "      <td>3</td>\n",
       "      <td>83.878793</td>\n",
       "      <td>83.879135</td>\n",
       "    </tr>\n",
       "    <tr>\n",
       "      <th>589</th>\n",
       "      <td>589</td>\n",
       "      <td>83.880356</td>\n",
       "      <td>-5.462067</td>\n",
       "      <td>3016.143559</td>\n",
       "      <td>7828.038654</td>\n",
       "      <td>14.2830</td>\n",
       "      <td>0.025554</td>\n",
       "      <td>14.1794</td>\n",
       "      <td>0.014784</td>\n",
       "      <td>0.103765</td>\n",
       "      <td>0.017929</td>\n",
       "      <td>0.068883</td>\n",
       "      <td>0.045322</td>\n",
       "      <td>7</td>\n",
       "      <td>3</td>\n",
       "      <td>83.880185</td>\n",
       "      <td>83.880527</td>\n",
       "    </tr>\n",
       "    <tr>\n",
       "      <th>587</th>\n",
       "      <td>587</td>\n",
       "      <td>83.880843</td>\n",
       "      <td>-5.471212</td>\n",
       "      <td>3002.589594</td>\n",
       "      <td>7571.354421</td>\n",
       "      <td>12.9341</td>\n",
       "      <td>0.015862</td>\n",
       "      <td>13.1212</td>\n",
       "      <td>0.012490</td>\n",
       "      <td>-0.173560</td>\n",
       "      <td>0.010637</td>\n",
       "      <td>0.047999</td>\n",
       "      <td>0.034365</td>\n",
       "      <td>7</td>\n",
       "      <td>3</td>\n",
       "      <td>83.880672</td>\n",
       "      <td>83.881014</td>\n",
       "    </tr>\n",
       "    <tr>\n",
       "      <th>1163</th>\n",
       "      <td>1163</td>\n",
       "      <td>83.881507</td>\n",
       "      <td>-5.450586</td>\n",
       "      <td>2983.937694</td>\n",
       "      <td>8150.315048</td>\n",
       "      <td>14.1258</td>\n",
       "      <td>0.032558</td>\n",
       "      <td>14.3131</td>\n",
       "      <td>0.037462</td>\n",
       "      <td>-0.191124</td>\n",
       "      <td>0.008779</td>\n",
       "      <td>0.085000</td>\n",
       "      <td>0.105000</td>\n",
       "      <td>7</td>\n",
       "      <td>3</td>\n",
       "      <td>83.881336</td>\n",
       "      <td>83.881678</td>\n",
       "    </tr>\n",
       "    <tr>\n",
       "      <th>591</th>\n",
       "      <td>591</td>\n",
       "      <td>83.882707</td>\n",
       "      <td>-5.452934</td>\n",
       "      <td>2950.408932</td>\n",
       "      <td>8084.386818</td>\n",
       "      <td>14.7720</td>\n",
       "      <td>0.019680</td>\n",
       "      <td>14.8651</td>\n",
       "      <td>0.018299</td>\n",
       "      <td>-0.089784</td>\n",
       "      <td>0.011184</td>\n",
       "      <td>0.062543</td>\n",
       "      <td>0.060792</td>\n",
       "      <td>7</td>\n",
       "      <td>3</td>\n",
       "      <td>83.882536</td>\n",
       "      <td>83.882878</td>\n",
       "    </tr>\n",
       "  </tbody>\n",
       "</table>\n",
       "<p>164 rows × 17 columns</p>\n",
       "</div>"
      ],
      "text/plain": [
       "      index         RA       DEC        X_mos        Y_mos   mag130   dmag130  \\\n",
       "2315   2315  83.784234 -5.400927  5702.002676  9544.538853  14.5750  0.175363   \n",
       "235     235  83.784978 -5.474800  5681.279601  7470.912140  12.5023  0.007483   \n",
       "1356   1356  83.785473 -5.411527  5667.411487  9246.993496  12.7025  0.012369   \n",
       "239     239  83.789556 -5.463580  5553.367973  7785.861152  12.6936  0.013550   \n",
       "242     242  83.789978 -5.466669  5541.581525  7699.149219  12.9899  0.011217   \n",
       "...     ...        ...       ...          ...          ...      ...       ...   \n",
       "1315   1315  83.878964 -5.428866  3054.886496  8760.012918  12.1838  0.016546   \n",
       "589     589  83.880356 -5.462067  3016.143559  7828.038654  14.2830  0.025554   \n",
       "587     587  83.880843 -5.471212  3002.589594  7571.354421  12.9341  0.015862   \n",
       "1163   1163  83.881507 -5.450586  2983.937694  8150.315048  14.1258  0.032558   \n",
       "591     591  83.882707 -5.452934  2950.408932  8084.386818  14.7720  0.019680   \n",
       "\n",
       "       mag139   dmag139     color    dcolor  Delta130  Delta139  slit_width  \\\n",
       "2315  14.4333  0.785894 -0.235346  0.077292  0.248000  1.111420           7   \n",
       "235   12.2650  0.031113  0.202044  0.001111  0.010583  0.044000           7   \n",
       "1356  12.7414  0.011587 -0.036784  0.014424  0.036061  0.034817           7   \n",
       "239   12.4279  0.018207  0.261200  0.008473  0.019162  0.025748           7   \n",
       "242   12.9225  0.000707  0.059605  0.000856  0.015863  0.001000           7   \n",
       "...       ...       ...       ...       ...       ...       ...         ...   \n",
       "1315  12.2718  0.009838 -0.077998  0.025490  0.044874  0.023521           7   \n",
       "589   14.1794  0.014784  0.103765  0.017929  0.068883  0.045322           7   \n",
       "587   13.1212  0.012490 -0.173560  0.010637  0.047999  0.034365           7   \n",
       "1163  14.3131  0.037462 -0.191124  0.008779  0.085000  0.105000           7   \n",
       "591   14.8651  0.018299 -0.089784  0.011184  0.062543  0.060792           7   \n",
       "\n",
       "      slit_size  slit_left  slit_right  \n",
       "2315          3  83.784063   83.784405  \n",
       "235           3  83.784807   83.785149  \n",
       "1356          3  83.785302   83.785644  \n",
       "239           3  83.789385   83.789727  \n",
       "242           3  83.789807   83.790149  \n",
       "...         ...        ...         ...  \n",
       "1315          3  83.878793   83.879135  \n",
       "589           3  83.880185   83.880527  \n",
       "587           3  83.880672   83.881014  \n",
       "1163          3  83.881336   83.881678  \n",
       "591           3  83.882536   83.882878  \n",
       "\n",
       "[164 rows x 17 columns]"
      ]
     },
     "execution_count": 102,
     "metadata": {},
     "output_type": "execute_result"
    }
   ],
   "source": [
    "finallist = targetlist.iloc[good_index]\n",
    "finallist"
   ]
  },
  {
   "cell_type": "code",
   "execution_count": 103,
   "metadata": {},
   "outputs": [],
   "source": [
    "### Select the sources that are actually within the 3'x3' field of view"
   ]
  },
  {
   "cell_type": "code",
   "execution_count": 107,
   "metadata": {},
   "outputs": [
    {
     "name": "stdout",
     "output_type": "stream",
     "text": [
      "83.8334705 -5.434184\n"
     ]
    }
   ],
   "source": [
    "RA_Center = (np.max(finallist['RA'])-np.min(finallist['RA'])) /2. + np.min(finallist['RA'])\n",
    "DEC_Center = (np.max(finallist['DEC'])-np.min(finallist['DEC'])) /2. + np.min(finallist['DEC'])\n",
    "print(RA_Center, DEC_Center)"
   ]
  },
  {
   "cell_type": "code",
   "execution_count": 108,
   "metadata": {},
   "outputs": [
    {
     "name": "stdout",
     "output_type": "stream",
     "text": [
      "83.85847050000001 83.8084705 -5.409184 -5.4591840000000005\n"
     ]
    },
    {
     "data": {
      "text/plain": [
       "45"
      ]
     },
     "execution_count": 108,
     "metadata": {},
     "output_type": "execute_result"
    }
   ],
   "source": [
    "RA_max = RA_Center + 1.5/60.  # 1.5' is half of 3' (!)\n",
    "RA_min = RA_Center - 1.5/60. \n",
    "if DEC_Center >= 0:\n",
    "    DEC_max = DEC_Center + 1.5/60.  \n",
    "    DEC_min = DEC_Center - 1.5/60.\n",
    "else:\n",
    "    DEC_min = -(-DEC_Center + 1.5/60.)  \n",
    "    DEC_max = -(-DEC_Center - 1.5/60.)\n",
    "print(RA_max,RA_min,DEC_max,DEC_min)\n",
    "finallist = finallist[(finallist['RA']>RA_min) & (finallist['RA']<RA_max) & (finallist['DEC']>DEC_min) & (finallist['DEC']<DEC_max) ]\n",
    "len(finallist)"
   ]
  },
  {
   "cell_type": "markdown",
   "metadata": {},
   "source": [
    "# NOW SOME FUN WITH GRAPHICS"
   ]
  },
  {
   "cell_type": "markdown",
   "metadata": {},
   "source": [
    "## 1) # Find the RADEC Center of the group of stars. This is where we should point SAMOS"
   ]
  },
  {
   "cell_type": "markdown",
   "metadata": {},
   "source": [
    "## The next steps are preliminar and just an example of the process"
   ]
  },
  {
   "cell_type": "markdown",
   "metadata": {},
   "source": [
    "The conversion from RADEC to DMDs will require a numbe of steps:\n",
    "\n",
    "1) Ideally we would like to know where each DMD mirror is located on the sky. In this way we could directly set the DMD without using the imaging channel. This requires a lot of calibration:\n",
    "    - Where is the center of the DMD field of view (x,y) vs. RADEC (telescope pointing), i.e. where SAMOS is pointing.\n",
    "    - What is the possible rotation of the DMD field of view vs. RADEC (SAMOS setup)\n",
    "    - What is the scale factor, and other information for astrometry that we put in the FITS header.\n",
    "        THIS WILL REQUIRE SOME PREPARATORY WORK.\n",
    "        See for example https://fits.gsfc.nasa.gov/fits_wcs.html\n",
    "                        http://casu.ast.cam.ac.uk/surveys-projects/wfcam/technical/astrometry\n",
    "                \n",
    "2) If we miss some of these information, we need to acquire the targets using the imaging channel\n",
    "    - Point the telescope to the target and take image\n",
    "    - Determine astrometric solution of the image, using GAIA stars (or other catalogs) and WCS parameters of the imager\n",
    "    - From RADEC of the targets, determine (x,y) on the image\n",
    "    - Using the image<->tranformation matrix, determine (x,y) on the DMD.\n",
    "    "
   ]
  },
  {
   "cell_type": "code",
   "execution_count": 109,
   "metadata": {},
   "outputs": [
    {
     "name": "stdout",
     "output_type": "stream",
     "text": [
      "[[-2.49975e-02  3.62600e-03]\n",
      " [-2.37755e-02  1.31650e-02]\n",
      " [-2.32925e-02  1.69470e-02]\n",
      " [-1.82505e-02  1.46340e-02]\n",
      " [-1.69655e-02 -1.14100e-03]\n",
      " [-1.60695e-02  1.85270e-02]\n",
      " [-1.52235e-02  2.38940e-02]\n",
      " [-1.44295e-02  1.26060e-02]\n",
      " [-1.28935e-02  4.46000e-03]\n",
      " [-1.21895e-02  1.79060e-02]\n",
      " [-8.81350e-03  1.57340e-02]\n",
      " [-3.34350e-03 -2.46680e-02]\n",
      " [-8.10500e-04  2.09010e-02]\n",
      " [ 6.05000e-05  1.35520e-02]\n",
      " [ 9.57500e-04  1.64180e-02]\n",
      " [ 2.61050e-03  1.45460e-02]\n",
      " [ 2.83150e-03 -3.53800e-03]\n",
      " [ 3.57750e-03  7.96800e-03]\n",
      " [ 6.61450e-03 -1.98700e-02]\n",
      " [ 6.62450e-03 -1.51690e-02]\n",
      " [ 6.87150e-03 -1.37370e-02]\n",
      " [ 7.03950e-03 -1.14550e-02]\n",
      " [ 9.74850e-03 -2.36810e-02]\n",
      " [ 9.87550e-03  1.48890e-02]\n",
      " [ 1.00785e-02  4.98400e-03]\n",
      " [ 1.00845e-02 -2.15600e-03]\n",
      " [ 1.11695e-02  1.59250e-02]\n",
      " [ 1.16235e-02  4.31200e-03]\n",
      " [ 1.24135e-02  7.47100e-03]\n",
      " [ 1.25315e-02  1.74610e-02]\n",
      " [ 1.27435e-02 -3.36200e-03]\n",
      " [ 1.32815e-02  2.38400e-03]\n",
      " [ 1.45515e-02  1.91060e-02]\n",
      " [ 1.47915e-02  1.01800e-02]\n",
      " [ 1.50795e-02 -6.65300e-03]\n",
      " [ 1.51315e-02  1.82720e-02]\n",
      " [ 1.64235e-02  1.47880e-02]\n",
      " [ 1.79005e-02 -1.23690e-02]\n",
      " [ 1.79055e-02  7.67000e-04]\n",
      " [ 1.86345e-02  1.70990e-02]\n",
      " [ 2.01785e-02  1.46980e-02]\n",
      " [ 2.08015e-02  2.35140e-02]\n",
      " [ 2.15565e-02  1.82860e-02]\n",
      " [ 2.20755e-02  9.31100e-03]\n",
      " [ 2.45795e-02  4.31200e-03]]\n"
     ]
    }
   ],
   "source": [
    "# Determine the RADEC offset in degrees\n",
    "RA_Offsets = finallist['RA'] - RA_Center\n",
    "DEC_Offsets = finallist['DEC'] - DEC_Center\n",
    "print(np.c_[RA_Offsets, DEC_Offsets]) #in degrees"
   ]
  },
  {
   "cell_type": "code",
   "execution_count": 110,
   "metadata": {},
   "outputs": [
    {
     "name": "stdout",
     "output_type": "stream",
     "text": [
      "[[-89.991   13.0536]\n",
      " [-85.5918  47.394 ]\n",
      " [-83.853   61.0092]\n",
      " [-65.7018  52.6824]\n",
      " [-61.0758  -4.1076]\n",
      " [-57.8502  66.6972]\n",
      " [-54.8046  86.0184]\n",
      " [-51.9462  45.3816]\n",
      " [-46.4166  16.056 ]\n",
      " [-43.8822  64.4616]\n",
      " [-31.7286  56.6424]\n",
      " [-12.0366 -88.8048]\n",
      " [ -2.9178  75.2436]\n",
      " [  0.2178  48.7872]\n",
      " [  3.447   59.1048]\n",
      " [  9.3978  52.3656]\n",
      " [ 10.1934 -12.7368]\n",
      " [ 12.879   28.6848]\n",
      " [ 23.8122 -71.532 ]\n",
      " [ 23.8482 -54.6084]\n",
      " [ 24.7374 -49.4532]\n",
      " [ 25.3422 -41.238 ]\n",
      " [ 35.0946 -85.2516]\n",
      " [ 35.5518  53.6004]\n",
      " [ 36.2826  17.9424]\n",
      " [ 36.3042  -7.7616]\n",
      " [ 40.2102  57.33  ]\n",
      " [ 41.8446  15.5232]\n",
      " [ 44.6886  26.8956]\n",
      " [ 45.1134  62.8596]\n",
      " [ 45.8766 -12.1032]\n",
      " [ 47.8134   8.5824]\n",
      " [ 52.3854  68.7816]\n",
      " [ 53.2494  36.648 ]\n",
      " [ 54.2862 -23.9508]\n",
      " [ 54.4734  65.7792]\n",
      " [ 59.1246  53.2368]\n",
      " [ 64.4418 -44.5284]\n",
      " [ 64.4598   2.7612]\n",
      " [ 67.0842  61.5564]\n",
      " [ 72.6426  52.9128]\n",
      " [ 74.8854  84.6504]\n",
      " [ 77.6034  65.8296]\n",
      " [ 79.4718  33.5196]\n",
      " [ 88.4862  15.5232]]\n"
     ]
    }
   ],
   "source": [
    "# Determine the RADEC offset in arcsec\n",
    "RA_Offsets *= 3600\n",
    "DEC_Offsets *= 3600\n",
    "print(np.c_[RA_Offsets, DEC_Offsets])   #in arcsec"
   ]
  },
  {
   "cell_type": "code",
   "execution_count": 111,
   "metadata": {},
   "outputs": [
    {
     "name": "stdout",
     "output_type": "stream",
     "text": [
      "[[-499.95   72.52]\n",
      " [-475.51  263.3 ]\n",
      " [-465.85  338.94]\n",
      " [-365.01  292.68]\n",
      " [-339.31  -22.82]\n",
      " [-321.39  370.54]\n",
      " [-304.47  477.88]\n",
      " [-288.59  252.12]\n",
      " [-257.87   89.2 ]\n",
      " [-243.79  358.12]\n",
      " [-176.27  314.68]\n",
      " [ -66.87 -493.36]\n",
      " [ -16.21  418.02]\n",
      " [   1.21  271.04]\n",
      " [  19.15  328.36]\n",
      " [  52.21  290.92]\n",
      " [  56.63  -70.76]\n",
      " [  71.55  159.36]\n",
      " [ 132.29 -397.4 ]\n",
      " [ 132.49 -303.38]\n",
      " [ 137.43 -274.74]\n",
      " [ 140.79 -229.1 ]\n",
      " [ 194.97 -473.62]\n",
      " [ 197.51  297.78]\n",
      " [ 201.57   99.68]\n",
      " [ 201.69  -43.12]\n",
      " [ 223.39  318.5 ]\n",
      " [ 232.47   86.24]\n",
      " [ 248.27  149.42]\n",
      " [ 250.63  349.22]\n",
      " [ 254.87  -67.24]\n",
      " [ 265.63   47.68]\n",
      " [ 291.03  382.12]\n",
      " [ 295.83  203.6 ]\n",
      " [ 301.59 -133.06]\n",
      " [ 302.63  365.44]\n",
      " [ 328.47  295.76]\n",
      " [ 358.01 -247.38]\n",
      " [ 358.11   15.34]\n",
      " [ 372.69  341.98]\n",
      " [ 403.57  293.96]\n",
      " [ 416.03  470.28]\n",
      " [ 431.13  365.72]\n",
      " [ 441.51  186.22]\n",
      " [ 491.59   86.24]]\n"
     ]
    }
   ],
   "source": [
    "#Determine the RADEC position in SAMOS CCD pixels [1024,1024]\n",
    "IM_CCD_Scale = 0.18\n",
    "#\n",
    "RA_Offsets_IMpix = RA_Offsets / IM_CCD_Scale # in pixels\n",
    "DEC_Offsets_IMpix = DEC_Offsets / IM_CCD_Scale\n",
    "print(np.c_[RA_Offsets_IMpix, DEC_Offsets_IMpix])   #in pixels"
   ]
  },
  {
   "cell_type": "code",
   "execution_count": 112,
   "metadata": {},
   "outputs": [
    {
     "data": {
      "image/png": "[encoded data removed]",
      "text/plain": [
       "<Figure size 720x720 with 1 Axes>"
      ]
     },
     "metadata": {
      "needs_background": "light"
     },
     "output_type": "display_data"
    }
   ],
   "source": [
    "# Display sources in SAMOS Spectral Inst. CCD coordinates\n",
    "\n",
    "%matplotlib inline\n",
    "plt.figure(figsize=(10,10))\n",
    "plt.plot(RA_Offsets_IMpix, DEC_Offsets_IMpix, 'ro')\n",
    "plt.axis([-512, 512, -512, 512])\n",
    "plt.show()"
   ]
  },
  {
   "cell_type": "code",
   "execution_count": null,
   "metadata": {},
   "outputs": [],
   "source": []
  },
  {
   "cell_type": "code",
   "execution_count": 113,
   "metadata": {},
   "outputs": [
    {
     "name": "stdout",
     "output_type": "stream",
     "text": [
      "[[-676.62406015   98.14736842]\n",
      " [-643.54736842  356.34586466]\n",
      " [-630.47368421  458.71578947]\n",
      " [-493.99849624  396.10827068]\n",
      " [-459.21654135  -30.88421053]\n",
      " [-434.96390977  501.48270677]\n",
      " [-412.06466165  646.75488722]\n",
      " [-390.57293233  341.21503759]\n",
      " [-348.99699248  120.72180451]\n",
      " [-329.94135338  484.67368421]\n",
      " [-238.56090226  425.88270677]\n",
      " [ -90.50075188 -667.70526316]\n",
      " [ -21.93834586  565.74135338]\n",
      " [   1.63759398  366.82105263]\n",
      " [  25.91729323  444.39699248]\n",
      " [  70.66015038  393.72631579]\n",
      " [  76.64210526  -95.76541353]\n",
      " [  96.83458647  215.67518797]\n",
      " [ 179.03909774 -537.83458647]\n",
      " [ 179.30977444 -410.58947368]\n",
      " [ 185.99548872 -371.82857143]\n",
      " [ 190.54285714 -310.06015038]\n",
      " [ 263.86917293 -640.98947368]\n",
      " [ 267.30676692  403.01052632]\n",
      " [ 272.80150376  134.90526316]\n",
      " [ 272.96390977  -58.35789474]\n",
      " [ 302.33233083  431.05263158]\n",
      " [ 314.62105263  116.71578947]\n",
      " [ 336.00451128  202.22255639]\n",
      " [ 339.19849624  472.62857143]\n",
      " [ 344.93684211  -91.00150376]\n",
      " [ 359.49924812   64.52932331]\n",
      " [ 393.87518797  517.15488722]\n",
      " [ 400.37142857  275.54887218]\n",
      " [ 408.16691729 -180.08120301]\n",
      " [ 409.57443609  494.58045113]\n",
      " [ 444.54586466  400.27669173]\n",
      " [ 484.52481203 -334.8       ]\n",
      " [ 484.66015038   20.76090226]\n",
      " [ 504.3924812   462.83007519]\n",
      " [ 546.18496241  397.8406015 ]\n",
      " [ 563.0481203   636.46917293]\n",
      " [ 583.48421053  494.9593985 ]\n",
      " [ 597.53233083  252.02706767]\n",
      " [ 665.30977444  116.71578947]]\n",
      "[[-511.9488    74.26048]\n",
      " [-486.92224  269.6192 ]\n",
      " [-477.0304   347.07456]\n",
      " [-373.77024  299.70432]\n",
      " [-347.45344  -23.36768]\n",
      " [-329.10336  379.43296]\n",
      " [-311.77728  489.34912]\n",
      " [-295.51616  258.17088]\n",
      " [-264.05888   91.3408 ]\n",
      " [-249.64096  366.71488]\n",
      " [-180.50048  322.23232]\n",
      " [ -68.47488 -505.20064]\n",
      " [ -16.59904  428.05248]\n",
      " [   1.23904  277.54496]\n",
      " [  19.6096   336.24064]\n",
      " [  53.46304  297.90208]\n",
      " [  57.98912  -72.45824]\n",
      " [  73.2672   163.18464]\n",
      " [ 135.46496 -406.9376 ]\n",
      " [ 135.66976 -310.66112]\n",
      " [ 140.72832 -281.33376]\n",
      " [ 144.16896 -234.5984 ]\n",
      " [ 199.64928 -484.98688]\n",
      " [ 202.25024  304.92672]\n",
      " [ 206.40768  102.07232]\n",
      " [ 206.53056  -44.15488]\n",
      " [ 228.75136  326.144  ]\n",
      " [ 238.04928   88.30976]\n",
      " [ 254.22848  153.00608]\n",
      " [ 256.64512  357.60128]\n",
      " [ 260.98688  -68.85376]\n",
      " [ 272.00512   48.82432]\n",
      " [ 298.01472  391.29088]\n",
      " [ 302.92992  208.4864 ]\n",
      " [ 308.82816 -136.25344]\n",
      " [ 309.89312  374.21056]\n",
      " [ 336.35328  302.85824]\n",
      " [ 366.60224 -253.31712]\n",
      " [ 366.70464   15.70816]\n",
      " [ 381.63456  350.18752]\n",
      " [ 413.25568  301.01504]\n",
      " [ 426.01472  481.56672]\n",
      " [ 441.47712  374.49728]\n",
      " [ 452.10624  190.68928]\n",
      " [ 503.38816   88.30976]]\n"
     ]
    }
   ],
   "source": [
    "# OFFsets in in SAMI pixels (SAMOS-SP Channel)\n",
    "SP_CCD_Scale = 0.133\n",
    "#\n",
    "RA_Offsets_SPpix = RA_Offsets / SP_CCD_Scale # in pixels\n",
    "DEC_Offsets_SPpix = DEC_Offsets / SP_CCD_Scale\n",
    "print(np.c_[RA_Offsets_SPpix, DEC_Offsets_SPpix])\n",
    "\n",
    "# OFFsets in in SpecIns pixels (SAMOS-IM Channel)\n",
    "IM_CCD_Scale = 0.17578125 #180/1024\n",
    "#\n",
    "RA_Offsets_IMpix = RA_Offsets / IM_CCD_Scale # in pixels\n",
    "DEC_Offsets_IMpix = DEC_Offsets / IM_CCD_Scale\n",
    "print(np.c_[RA_Offsets_IMpix, DEC_Offsets_IMpix])\n"
   ]
  },
  {
   "cell_type": "markdown",
   "metadata": {},
   "source": [
    "##  Display the sources in a) the Spectral Instrument,  and b) the SAMI/SAMOS field of view, assumed centered in the CCD field, assumed centered in the middle of the 4098x4098 detector"
   ]
  },
  {
   "cell_type": "code",
   "execution_count": 114,
   "metadata": {},
   "outputs": [
    {
     "data": {
      "text/plain": [
       "<Figure size 720x216 with 0 Axes>"
      ]
     },
     "metadata": {},
     "output_type": "display_data"
    },
    {
     "data": {
      "image/png": "[encoded data removed]",
      "text/plain": [
       "<Figure size 792x360 with 2 Axes>"
      ]
     },
     "metadata": {
      "needs_background": "light"
     },
     "output_type": "display_data"
    }
   ],
   "source": [
    "#import matplotlib.pyplot as plt\n",
    "#import matplotlib.patches as patches\n",
    "#%matplotlib inline\n",
    "f = plt.figure(figsize=(10,3))\n",
    "x1,x2=plt.subplots(1, 2, figsize=(11,5))\n",
    "x1=plt.subplot(1, 2, 1)\n",
    "x1.plot(RA_Offsets_SPpix, DEC_Offsets_SPpix, 'ro')\n",
    "x1.axis([-2048, 2048, -2048, 2048])\n",
    "rectangle = plt.Rectangle((-675,-675),1350, 1350, fc='blue',ec=\"red\")\n",
    "plt.gca().add_patch(rectangle)\n",
    "\n",
    "x2=plt.subplot(1, 2, 2)\n",
    "x2.plot(RA_Offsets_IMpix, DEC_Offsets_IMpix, 'ro')\n",
    "x2.axis([-512, 512, -512, 512])\n",
    "\n",
    "plt.show()\n"
   ]
  },
  {
   "cell_type": "markdown",
   "metadata": {},
   "source": [
    "## Display the trace of the spectra in SAMI/SAMOS field of view, assumed 2000 pixels long."
   ]
  },
  {
   "cell_type": "code",
   "execution_count": 115,
   "metadata": {},
   "outputs": [
    {
     "data": {
      "image/png": "[encoded data removed]",
      "text/plain": [
       "<Figure size 360x360 with 1 Axes>"
      ]
     },
     "metadata": {
      "needs_background": "light"
     },
     "output_type": "display_data"
    }
   ],
   "source": [
    "#import matplotlib.pyplot as plt\n",
    "#import matplotlib.patches as patches\n",
    "plt.figure(figsize=(5,5))\n",
    "plt.plot(RA_Offsets_SPpix, DEC_Offsets_SPpix, 'ro')\n",
    "plt.axis([-2048, 2048, -2048, 2048])\n",
    "rectangle = plt.Rectangle((-675,-675),1350, 1350, fc='blue',ec=\"red\")\n",
    "plt.gca().add_patch(rectangle)\n",
    "for i in range(len(RA_Offsets_IMpix)):\n",
    "#    print(RA_Offsets_IMpix.iloc[i])\n",
    "#    print(np.round(RA_Offsets_IMpix.iloc[i]-1),np.round(DEC_Offsets_IMpix.iloc[i]-1000,3, np.round(DEC_Offsets_IMpix.iloc[i]+1000))\n",
    "    xy = (RA_Offsets_SPpix.iloc[i]-1,np.round(DEC_Offsets_SPpix.iloc[i]-1000))\n",
    "    rectangle = plt.Rectangle(xy ,7, np.round(DEC_Offsets_SPpix.iloc[i]+2000), fc='green',ec=\"green\")\n",
    "    plt.gca().add_patch(rectangle)\n",
    "plt.show()"
   ]
  },
  {
   "cell_type": "code",
   "execution_count": 116,
   "metadata": {},
   "outputs": [
    {
     "data": {
      "text/plain": [
       "48.54518518518518"
      ]
     },
     "execution_count": 116,
     "metadata": {},
     "output_type": "execute_result"
    }
   ],
   "source": [
    "## Zoom-in\n",
    "2048/675*16"
   ]
  },
  {
   "cell_type": "code",
   "execution_count": 117,
   "metadata": {},
   "outputs": [
    {
     "data": {
      "image/png": "[encoded data removed]",
      "text/plain": [
       "<Figure size 1152x3499.2 with 1 Axes>"
      ]
     },
     "metadata": {
      "needs_background": "light"
     },
     "output_type": "display_data"
    }
   ],
   "source": [
    "#import matplotlib.pyplot as plt\n",
    "#import matplotlib.patches as patches\n",
    "#%matplotlib inline\n",
    "plt.figure(figsize=(16,48.6))\n",
    "plt.plot(RA_Offsets_SPpix, DEC_Offsets_SPpix, 'ro')\n",
    "plt.axis([-675, 675, -2048, 2048])\n",
    "rectangle = plt.Rectangle((-675,-675),1350, 1350, fc='blue',ec=\"red\")\n",
    "plt.gca().add_patch(rectangle)\n",
    "for i in range(len(RA_Offsets_IMpix)):\n",
    "    xy = (RA_Offsets_SPpix.iloc[i]-1,np.round(DEC_Offsets_SPpix.iloc[i]-1000))\n",
    "    rectangle = plt.Rectangle(xy ,7, np.round(DEC_Offsets_SPpix.iloc[i]+2000), fc='green',ec=\"green\")\n",
    "    plt.gca().add_patch(rectangle)\n",
    "plt.show()"
   ]
  },
  {
   "cell_type": "markdown",
   "metadata": {},
   "source": [
    "## Export Table"
   ]
  },
  {
   "cell_type": "code",
   "execution_count": 118,
   "metadata": {},
   "outputs": [],
   "source": [
    "filename  = \"DMDmap_Orion_\"+str(np.round(RA_Center,13))+\"_\"+str(np.round(DEC_Center,13))+\".csv\""
   ]
  },
  {
   "cell_type": "code",
   "execution_count": 119,
   "metadata": {},
   "outputs": [],
   "source": [
    "targetlist.to_csv(filename,header=True,index=False)"
   ]
  },
  {
   "cell_type": "markdown",
   "metadata": {},
   "source": [
    "## CREATE PSEUDO-SAMOS FITS IMAGE"
   ]
  },
  {
   "cell_type": "code",
   "execution_count": 120,
   "metadata": {},
   "outputs": [],
   "source": [
    "#RA_Center=83.82109750000001 \n",
    "#DEC_Center=-5.3898675"
   ]
  },
  {
   "cell_type": "markdown",
   "metadata": {},
   "source": [
    "### Download DSS image from Strasbourg"
   ]
  },
  {
   "cell_type": "code",
   "execution_count": 121,
   "metadata": {},
   "outputs": [
    {
     "name": "stdout",
     "output_type": "stream",
     "text": [
      "83.8334705 -5.434184\n",
      "Filename: /Users/robberto/.astropy/cache/download/url/52a6bd2d43a6749a3859af5682b33d57/contents\n",
      "No.    Name      Ver    Type      Cards   Dimensions   Format\n",
      "  0  PRIMARY       1 PrimaryHDU      24   (1056, 1032)   float32   \n",
      "scale of DSS image:  0.1758522846050928 \n",
      "\n",
      "to be compared with the default scale of SAMOS\n",
      "SAMOS scale:  0.17578125\n"
     ]
    },
    {
     "data": {
      "image/png": "[encoded data removed]",
      "text/plain": [
       "<Figure size 432x288 with 1 Axes>"
      ]
     },
     "metadata": {
      "needs_background": "light"
     },
     "output_type": "display_data"
    }
   ],
   "source": [
    "from astroquery.simbad import Simbad                                                            \n",
    "from astropy.coordinates import SkyCoord\n",
    "from astropy import units as u\n",
    "from astropy import wcs as astropy_wcs\n",
    "coord = SkyCoord(str(np.round(RA_Center,13))+'  '+str(np.round(DEC_Center,13)),unit=(u.deg, u.deg), frame='fk5') \n",
    "from urllib.parse import urlencode\n",
    "from astropy.io import fits\n",
    "\n",
    "print(RA_Center,DEC_Center)\n",
    "\n",
    "w = astropy_wcs.WCS(header={\n",
    "    'NAXIS1': 1056,         # Width of the output fits/image\n",
    "    'NAXIS2': 1032,         # Height of the output fits/image\n",
    "    'WCSAXES': 2,           # Number of coordinate axes\n",
    "    'CRPIX1': 528.0,        # Pixel coordinate of reference point\n",
    "    'CRPIX2': 516.0,        # Pixel coordinate of reference point\n",
    "    'CDELT1': RA_Center,    # [deg] Coordinate increment at reference point\n",
    "    'CDELT2': DEC_Center,   # [deg] Coordinate increment at reference point\n",
    "    'CUNIT1': 'deg',        # Units of coordinate increment and value\n",
    "    'CUNIT2': 'deg',        # Units of coordinate increment and value\n",
    "    'CTYPE1': 'GLON-MOL',   # galactic longitude, Mollweide's projection\n",
    "    'CTYPE2': 'GLAT-MOL',   # galactic latitude, Mollweide's projection\n",
    "    'CRVAL1': 0.0,          # [deg] Coordinate value at reference point\n",
    "    'CRVAL2': 0.0,          # [deg] Coordinate value at reference point\n",
    "})\n",
    "hips = '2MASS/J'#'CDS/P/DSS2/red'\n",
    "#result = hips2fits.query_with_wcs(\n",
    "#   hips=hips,\n",
    "#   wcs=w,\n",
    "#   get_query_payload=False,\n",
    "#   format='fits',\n",
    "#   min_cut=0.5,\n",
    "#   max_cut=99.5,\n",
    "#   cmap=Colormap('viridis'),\n",
    "#)\n",
    "query_params = { \n",
    "             'hips': '2MASS/J',\n",
    "#             'wcs': w, \n",
    "             'ra': RA_Center, \n",
    "             'dec': DEC_Center,\n",
    "             'fov': (3.095 * u.arcmin).to(u.deg).value, \n",
    "             'projection': 'TAN',\n",
    "             'width': 1056, \n",
    "             'height': 1032 \n",
    "             }                                                                                               \n",
    "url = f'http://alasky.u-strasbg.fr/hips-image-services/hips2fits?{urlencode(query_params)}' \n",
    "hdul = fits.open(url)\n",
    "hdul.info()\n",
    "header = hdul[0].header\n",
    "image = hdul[0].data\n",
    "#to save\n",
    "filename  = \"Strasbourg_\"+str(np.round(RA_Center,13))+\"_\"+str(np.round(DEC_Center,13))+\".fits\"\n",
    "hdul.writeto(filename,overwrite=True)\n",
    "\n",
    "#print(header)\n",
    "print('scale of DSS image: ',header['CDELT2']*3600.,'\\n')\n",
    "\n",
    "print(\"to be compared with the default scale of SAMOS\")\n",
    "print('SAMOS scale: ',180/1024.)\n",
    "\n",
    "im = plt.imshow(image)\n",
    "plt.show(im)"
   ]
  },
  {
   "cell_type": "code",
   "execution_count": 122,
   "metadata": {},
   "outputs": [
    {
     "data": {
      "text/plain": [
       "SIMPLE  =                    T / conforms to FITS standard                      \n",
       "BITPIX  =                  -32 / array data type                                \n",
       "NAXIS   =                    2 / number of array dimensions                     \n",
       "NAXIS1  =                 1056                                                  \n",
       "NAXIS2  =                 1032                                                  \n",
       "WCSAXES =                    2 / Number of coordinate axes                      \n",
       "CRPIX1  =                528.0 / Pixel coordinate of reference point            \n",
       "CRPIX2  =                516.0 / Pixel coordinate of reference point            \n",
       "CDELT1  = -4.8847856834747E-05 / [deg] Coordinate increment at reference point  \n",
       "CDELT2  =  4.8847856834748E-05 / [deg] Coordinate increment at reference point  \n",
       "CUNIT1  = 'deg'                / Units of coordinate increment and value        \n",
       "CUNIT2  = 'deg'                / Units of coordinate increment and value        \n",
       "CTYPE1  = 'RA---TAN'           / Right ascension, gnomonic projection           \n",
       "CTYPE2  = 'DEC--TAN'           / Declination, gnomonic projection               \n",
       "CRVAL1  =           83.8334705 / [deg] Coordinate value at reference point      \n",
       "CRVAL2  =            -5.434184 / [deg] Coordinate value at reference point      \n",
       "LONPOLE =                180.0 / [deg] Native longitude of celestial pole       \n",
       "LATPOLE =            -5.434184 / [deg] Native latitude of celestial pole        \n",
       "RADESYS = 'ICRS'               / Equatorial coordinate system                   \n",
       "CPYRIGHT= 'University of Massachusetts & IPAC/Caltech - &'                      \n",
       "CONTINUE  'http://www.ipac.caltech.edu/2mass/'                                  \n",
       "HISTORY Generated by CDS hips2fits service - See https://alasky.u-strasbg.fr/hip\n",
       "HISTORY s-image-services/hips2fits for details                                  \n",
       "HISTORY From HiPS CDS/P/2MASS/J (2MASS J (1.23um))                              \n",
       "HISTORY HiPS created by CDS (Oberto A.) - CNRS/Unistra                          "
      ]
     },
     "execution_count": 122,
     "metadata": {},
     "output_type": "execute_result"
    }
   ],
   "source": [
    "header"
   ]
  },
  {
   "cell_type": "markdown",
   "metadata": {},
   "source": [
    "### Take a SAMOS SpecInst image, to use the header"
   ]
  },
  {
   "cell_type": "code",
   "execution_count": 123,
   "metadata": {},
   "outputs": [
    {
     "name": "stdout",
     "output_type": "stream",
     "text": [
      "Filename: ./SAMOS_imaging_camera_tests/test_3s_light.fits\n",
      "No.    Name      Ver    Type      Cards   Dimensions   Format\n",
      "  0  PRIMARY       1 PrimaryHDU      88   (1056, 1032)   int16 (rescales to uint16)   \n"
     ]
    }
   ],
   "source": [
    "hdu_SAMOS = fits.open('./SAMOS_imaging_camera_tests/test_3s_light.fits')\n",
    "hdu_SAMOS.info()"
   ]
  },
  {
   "cell_type": "code",
   "execution_count": 124,
   "metadata": {},
   "outputs": [
    {
     "data": {
      "text/plain": [
       "SIMPLE  =                    T / FITS Standard                                  \n",
       "BITPIX  =                   16 / FITS Bits/Pixel (-16 signifies [U16])          \n",
       "NAXIS   =                    2 / Number of Axes                                 \n",
       "NAXIS1  =                 1056 / Length of Axis 1 (Columns)                     \n",
       "NAXIS2  =                 1032 / Length of Axis 2 (Rows)                        \n",
       "BSCALE  =                    1 / Scaling Factor (Default=1)                     \n",
       "BZERO   =                32768 / Offset Factor (Default=0)                      \n",
       "DATE-OBS= '2021-03-12T16:44:47.275' / DATE-OBS Format: YYYY-MM-DDThh:mm:ss.sss  \n",
       "DATE    = '2021-03-12'         / Date Format is YYYY-MM-DD                      \n",
       "TIME    = '16:44:47.275 to 16:44:50.288' / ~ Start & Stop of Exposure           \n",
       "EXPTIME =                3.000 / Exposure Time, Sec.                            \n",
       "N_PRM0  =                   11 / Status                                         \n",
       "PG0_0   =                   65 / Server Flags,                                  \n",
       "PG0_1   =                17053 / Server Up Time, seconds                        \n",
       "PG0_2   =                 59.4 / Server I/O FPGA Core Temp., C                  \n",
       "PG0_3   =                17045 / Camera Connection Duration, seconds            \n",
       "PG0_4   =                0.001 / Camera Status Age, HH:MM:SS.sss                \n",
       "PG0_5   =                -90.1 / CCD 0 CCD Temp., C                             \n",
       "PG0_6   =                 17.7 / Backplate Temperature, C                       \n",
       "PG0_7   =                    0 / Shutter Status, (Closed)                       \n",
       "PG0_8   =                    0 / XIRQA Status, (None)                           \n",
       "PG0_9   =                    1 / Cooler Status, (On)                            \n",
       "PG0_10  =                   37 / Interface Status,                              \n",
       "N_PRM1  =                   17 / Control                                        \n",
       "PG1_0   =                    8 / Serial Origin, Pixels                          \n",
       "PG1_1   =                  528 / Serial Length, Binned Pixels                   \n",
       "PG1_2   =                    0 / Serial Post Scan, Pixels                       \n",
       "PG1_3   =                    1 / Serial Binning, Pixels                         \n",
       "PG1_4   =                    2 / Serial Phasing, (Split)                        \n",
       "PG1_5   =                    0 / Parallel Origin, Pixels                        \n",
       "PG1_6   =                 1032 / Parallel Length, Binned Pixels                 \n",
       "PG1_7   =                    0 / Parallel Post Scan, Pixels                     \n",
       "PG1_8   =                    1 / Parallel Binning, Pixels                       \n",
       "PG1_9   =                    0 / Parallel Phasing, (SR0)                        \n",
       "PG1_10  =                   18 / DSI Sample Time,                               \n",
       "PG1_11  =                    0 / Analog Attenuation, (Low)                      \n",
       "PG1_12  =                  537 / CCD 0 Port 0 Correlation Bias,                 \n",
       "PG1_13  =                  509 / CCD 0 Port 1 Correlation Bias,                 \n",
       "PG1_14  =                39582 / CCD 0 Port 0 ADC Offset,                       \n",
       "PG1_15  =                40116 / CCD 0 Port 1 ADC Offset,                       \n",
       "PG1_16  =                    3 / Port Select, (SR0)                             \n",
       "N_PRM2  =                   21 / Factory                                        \n",
       "PG2_0   =                  850 / Instrument Model,                              \n",
       "PG2_1   =                  406 / Instrument SN,                                 \n",
       "PG2_2   =                    1 / Installed CCDs,                                \n",
       "PG2_3   =                    1 / CCD Enable Mask,                               \n",
       "PG2_4   =                    1 / Camera De-interlace, (Hardware)                \n",
       "PG2_5   =                    1 / Rectangular Grid X,                            \n",
       "PG2_6   =                    1 / Rectangular Grid Y,                            \n",
       "PG2_7   =                    0 / Two Serial Registers, (False)                  \n",
       "PG2_8   =                    2 / Installed Ports,                               \n",
       "PG2_9   =                   18 / Tested Speeds, (800 KHz)                       \n",
       "PG2_10  =                    0 / Hardware Revision,                             \n",
       "PG2_11  =                  536 / Serial Size, Pixels                            \n",
       "PG2_12  =                 1032 / Parallel Size, Pixels                          \n",
       "PG2_13  =               -100.0 / Low Temp Limit, C                              \n",
       "PG2_14  =                -75.0 / Operational Temp, C                            \n",
       "PG2_15  =                    0 / Port 0 Connect, (SR0)                          \n",
       "PG2_16  =                    0 / Port 0 Map, (ADC0)                             \n",
       "PG2_17  =                    0 / Port 0 Shift Direction, (Same)                 \n",
       "PG2_18  =                    0 / Port 1 Connect, (SR0)                          \n",
       "PG2_19  =                    1 / Port 1 Map, (ADC1)                             \n",
       "PG2_20  =                    1 / Port 1 Shift Direction, (Reverse)              \n",
       "N_PRM3  =                    9 / Miscellaneous                                  \n",
       "PG3_0   = 'E2V 47-10'          / CCD Model                                      \n",
       "PG3_1   =                    0 / CCD Type, (Full-Frame)                         \n",
       "PG3_2   =                   16 / Bits Per Pixel,                                \n",
       "PG3_3   =                    0 / Parallel Pre-Masked,                           \n",
       "PG3_4   =                 1024 / Parallel Active Pix.,                          \n",
       "PG3_5   =                    0 / Parallel Post-Masked,                          \n",
       "PG3_6   =                   24 / Serial Pre-Masked,                             \n",
       "PG3_7   =                 1024 / Serial Active Pix.,                            \n",
       "PG3_8   =                   24 / Serial Post-Masked,                            \n",
       "N_PRM4  =                   11 / Setup                                          \n",
       "PG4_0   =                3.000 / Exposure Time, Sec.                            \n",
       "PG4_1   =                -90.0 / CCD Temperature Setpoint, C                    \n",
       "PG4_2   =                0.020 / Shutter Close Delay, Sec.                      \n",
       "PG4_3   =                    0 / Server Data Source, (Camera)                   \n",
       "PG4_4   =                    0 / Server Test Image Type, (All 0)                \n",
       "PG4_5   =                    1 / TDI Delay, us                                  \n",
       "PG4_6   =                    4 / Trigger Mode, (Light Exposure)                 \n",
       "PG4_7   =                    1 / Parallel Shift Delay, 100 ns                   \n",
       "PG4_8   =                   76 / CCD Temp. Setpoint Offset, 0.1 C               \n",
       "PG4_9   =                    0 / Acquisition Mode, (Normal)                     \n",
       "PG4_10  =                    0 / UART 100 byte Ack, (Off)                       \n",
       "N_PRM5  =                    1 / Operational                                    \n",
       "PG5_0   =                    0 / Mode,                                          \n",
       "COMMENT  Light, Exp Time= 03, Saved as: test_3s_light.fits                      "
      ]
     },
     "execution_count": 124,
     "metadata": {},
     "output_type": "execute_result"
    }
   ],
   "source": [
    "hdr_SAMOS = hdu_SAMOS[0].header\n",
    "hdr_SAMOS"
   ]
  },
  {
   "cell_type": "markdown",
   "metadata": {},
   "source": [
    "## Cleanup SAMOS Header"
   ]
  },
  {
   "cell_type": "code",
   "execution_count": 125,
   "metadata": {},
   "outputs": [
    {
     "data": {
      "text/plain": [
       "SIMPLE  =                    T / FITS Standard                                  \n",
       "BITPIX  =                   16 / FITS Bits/Pixel (-16 signifies [U16])          \n",
       "NAXIS   =                    2 / Number of Axes                                 \n",
       "NAXIS1  =                 1056 / Length of Axis 1 (Columns)                     \n",
       "NAXIS2  =                 1032 / Length of Axis 2 (Rows)                        \n",
       "BSCALE  =                    1 / Scaling Factor (Default=1)                     \n",
       "BZERO   =                32768 / Offset Factor (Default=0)                      \n",
       "DATE-OBS= '2021-03-12T16:44:47.275' / DATE-OBS Format: YYYY-MM-DDThh:mm:ss.sss  \n",
       "DATE    = '2021-03-12'         / Date Format is YYYY-MM-DD                      \n",
       "TIME    = '16:44:47.275 to 16:44:50.288' / ~ Start & Stop of Exposure           \n",
       "EXPTIME =                3.000 / Exposure Time, Sec.                            "
      ]
     },
     "execution_count": 125,
     "metadata": {},
     "output_type": "execute_result"
    }
   ],
   "source": [
    "del hdr_SAMOS[11:90]\n",
    "hdr_SAMOS"
   ]
  },
  {
   "cell_type": "markdown",
   "metadata": {},
   "source": [
    "### Add to SAMOS header the parameters from SOAR\n",
    "\n",
    "see https://fits.gsfc.nasa.gov/fits_dictionary.html"
   ]
  },
  {
   "cell_type": "code",
   "execution_count": 126,
   "metadata": {},
   "outputs": [
    {
     "name": "stdout",
     "output_type": "stream",
     "text": [
      "4.8828125e-05\n"
     ]
    }
   ],
   "source": [
    "print(0.17578125/3600.)\n",
    "c = SkyCoord(str(RA_Center)+' '+str(DEC_Center), unit=(u.hourangle, u.deg))\n",
    "RA_Center_RND = RA_Center + np.random.randn()/3600. # add a 1\" stdev error in the telescope pointing... \n",
    "DEC_Center_RND = DEC_Center + np.random.randn()/3600.  "
   ]
  },
  {
   "cell_type": "code",
   "execution_count": 127,
   "metadata": {},
   "outputs": [],
   "source": [
    "#this string is supposed to arrive from the telescope via tk_class_SOAR.py \n",
    "SOAR_info_string = \"DONE 2002-04-15 17:06:52 05:52:53.81 -52:14:46.54 -03:54:13.05 136.34 42.31 274.64 136.34 42.31 1.484\"\n",
    "SOAR_info_split = SOAR_info_string.split()\n",
    "SOAR_info_split\n",
    "hdr_SAMOS['DATE-OBS'] = (SOAR_info_split[1]+'T'+SOAR_info_split[2])\n",
    "hdr_SAMOS['DATE'] = (SOAR_info_split[1])\n",
    "hdr_SAMOS['TIME'] = (SOAR_info_split[2],'Start of Exposure')\n",
    "hdr_SAMOS['CRVAL1'] = (RA_Center_RND) # RA coming from SOAR telescope\n",
    "hdr_SAMOS['CRVAL2'] = (DEC_Center_RND) # DEC coming from SOAR telescope\n",
    "hdr_SAMOS['TCS_HA'] = (SOAR_info_split[5],'hour angle')\n",
    "hdr_SAMOS['TCZ_AZ'] = (SOAR_info_split[6],'azimuth')\n",
    "hdr_SAMOS['TCS_EL'] = (SOAR_info_split[7],'elevation')\n",
    "hdr_SAMOS['TCS_ROT'] = (SOAR_info_split[8],'rotator angle')\n",
    "hdr_SAMOS['TCS_DOME'] = (SOAR_info_split[9],'dome angle')\n",
    "hdr_SAMOS['TCS_ELEV'] = (SOAR_info_split[10],'dome elevation')\n",
    "hdr_SAMOS['AIRMASS'] = (SOAR_info_split[11],'airmass')\n"
   ]
  },
  {
   "cell_type": "markdown",
   "metadata": {},
   "source": [
    "### Add to SAMOS header the parameters from SAMOS"
   ]
  },
  {
   "cell_type": "code",
   "execution_count": 128,
   "metadata": {},
   "outputs": [],
   "source": [
    "hdr_SAMOS['WCSAXES'] = (2,'Number of coordinate axes')                      \n",
    "hdr_SAMOS['CRPIX1'] = (528.0,'x pixel coordinate of reference point')            \n",
    "hdr_SAMOS['CRPIX2'] = (516.0,'y pixel coordinate of reference point')            \n",
    "hdr_SAMOS['CDELT1'] = (-4.8828125e-05,'[deg] Coordinate increment at reference point')\n",
    "hdr_SAMOS['CDELT2'] = (4.8828125e-05,'[deg] Coordinate increment at reference point')  \n",
    "hdr_SAMOS['CUNIT1'] = ('deg','Units of coordinate increment and value')        \n",
    "hdr_SAMOS['CUNIT2'] = ('deg','Units of coordinate increment and value')        \n",
    "hdr_SAMOS['CTYPE1'] = ('RA---TAN','Right ascension, gnomonic projection')           \n",
    "hdr_SAMOS['CTYPE2'] = ('DEC--TAN','Declination, gnomonic projection')   \n",
    "hdr_SAMOS['RA_DMD'] = (DEC_Center,'RA_center of DMD target list')             \n",
    "hdr_SAMOS['DEC_DMD'] = (DEC_Center,'DEC_center of DMD target list')            \n",
    "hdr_SAMOS['RADESYS'] = ('ICRS','Equatorial coordinate system')     \n",
    "\n",
    "#to be continued with filters etc... see SAMI"
   ]
  },
  {
   "cell_type": "code",
   "execution_count": 129,
   "metadata": {},
   "outputs": [
    {
     "data": {
      "text/plain": [
       "SIMPLE  =                    T / FITS Standard                                  \n",
       "BITPIX  =                   16 / FITS Bits/Pixel (-16 signifies [U16])          \n",
       "NAXIS   =                    2 / Number of Axes                                 \n",
       "NAXIS1  =                 1056 / Length of Axis 1 (Columns)                     \n",
       "NAXIS2  =                 1032 / Length of Axis 2 (Rows)                        \n",
       "BSCALE  =                    1 / Scaling Factor (Default=1)                     \n",
       "BZERO   =                32768 / Offset Factor (Default=0)                      \n",
       "DATE-OBS= '2002-04-15T17:06:52' / DATE-OBS Format: YYYY-MM-DDThh:mm:ss.sss      \n",
       "DATE    = '2002-04-15'         / Date Format is YYYY-MM-DD                      \n",
       "TIME    = '17:06:52'           / Start of Exposure                              \n",
       "EXPTIME =                3.000 / Exposure Time, Sec.                            \n",
       "CRVAL1  =    83.83369341673507                                                  \n",
       "CRVAL2  =   -5.434089227255326                                                  \n",
       "TCS_HA  = '-03:54:13.05'       / hour angle                                     \n",
       "TCZ_AZ  = '136.34  '           / azimuth                                        \n",
       "TCS_EL  = '42.31   '           / elevation                                      \n",
       "TCS_ROT = '274.64  '           / rotator angle                                  \n",
       "TCS_DOME= '136.34  '           / dome angle                                     \n",
       "TCS_ELEV= '42.31   '           / dome elevation                                 \n",
       "AIRMASS = '1.484   '           / airmass                                        \n",
       "WCSAXES =                    2 / Number of coordinate axes                      \n",
       "CRPIX1  =                528.0 / x pixel coordinate of reference point          \n",
       "CRPIX2  =                516.0 / y pixel coordinate of reference point          \n",
       "CDELT1  =       -4.8828125E-05 / [deg] Coordinate increment at reference point  \n",
       "CDELT2  =        4.8828125E-05 / [deg] Coordinate increment at reference point  \n",
       "CUNIT1  = 'deg     '           / Units of coordinate increment and value        \n",
       "CUNIT2  = 'deg     '           / Units of coordinate increment and value        \n",
       "CTYPE1  = 'RA---TAN'           / Right ascension, gnomonic projection           \n",
       "CTYPE2  = 'DEC--TAN'           / Declination, gnomonic projection               \n",
       "RA_DMD  =            -5.434184 / RA_center of DMD target list                   \n",
       "DEC_DMD =            -5.434184 / DEC_center of DMD target list                  \n",
       "RADESYS = 'ICRS    '           / Equatorial coordinate system                   "
      ]
     },
     "execution_count": 129,
     "metadata": {},
     "output_type": "execute_result"
    }
   ],
   "source": [
    "hdr_SAMOS"
   ]
  },
  {
   "cell_type": "markdown",
   "metadata": {},
   "source": [
    "## Finally save the new SAMOS file"
   ]
  },
  {
   "cell_type": "code",
   "execution_count": 130,
   "metadata": {},
   "outputs": [],
   "source": [
    "hdu_SAMOS[0].header = hdr_SAMOS\n",
    "hdu_SAMOS[0].data = hdul[0].data\n",
    "filename  = \"SAMOS_\"+str(np.round(RA_Center,13))+\"_\"+str(np.round(DEC_Center,13))+\"_.fits\"\n",
    "hdu_SAMOS.writeto(filename,overwrite=True)"
   ]
  },
  {
   "cell_type": "code",
   "execution_count": 131,
   "metadata": {},
   "outputs": [
    {
     "name": "stdout",
     "output_type": "stream",
     "text": [
      "SIMPLE  =                    T / FITS Standard                                  BITPIX  =                  -32 / FITS Bits/Pixel (-16 signifies [U16])          NAXIS   =                    2 / Number of Axes                                 NAXIS1  =                 1056 / Length of Axis 1 (Columns)                     NAXIS2  =                 1032 / Length of Axis 2 (Rows)                        BSCALE  =                    1 / Scaling Factor (Default=1)                     BZERO   =                32768 / Offset Factor (Default=0)                      DATE-OBS= '2002-04-15T17:06:52' / DATE-OBS Format: YYYY-MM-DDThh:mm:ss.sss      DATE    = '2002-04-15'         / Date Format is YYYY-MM-DD                      TIME    = '17:06:52'           / Start of Exposure                              EXPTIME =                3.000 / Exposure Time, Sec.                            CRVAL1  =    83.83369341673507                                                  CRVAL2  =   -5.434089227255326                                                  TCS_HA  = '-03:54:13.05'       / hour angle                                     TCZ_AZ  = '136.34  '           / azimuth                                        TCS_EL  = '42.31   '           / elevation                                      TCS_ROT = '274.64  '           / rotator angle                                  TCS_DOME= '136.34  '           / dome angle                                     TCS_ELEV= '42.31   '           / dome elevation                                 AIRMASS = '1.484   '           / airmass                                        WCSAXES =                    2 / Number of coordinate axes                      CRPIX1  =                528.0 / x pixel coordinate of reference point          CRPIX2  =                516.0 / y pixel coordinate of reference point          CDELT1  =       -4.8828125E-05 / [deg] Coordinate increment at reference point  CDELT2  =        4.8828125E-05 / [deg] Coordinate increment at reference point  CUNIT1  = 'deg     '           / Units of coordinate increment and value        CUNIT2  = 'deg     '           / Units of coordinate increment and value        CTYPE1  = 'RA---TAN'           / Right ascension, gnomonic projection           CTYPE2  = 'DEC--TAN'           / Declination, gnomonic projection               RA_DMD  =            -5.434184 / RA_center of DMD target list                   DEC_DMD =            -5.434184 / DEC_center of DMD target list                  RADESYS = 'ICRS    '           / Equatorial coordinate system                   END                                                                                                                                                                                                                                                                                                                             \n"
     ]
    }
   ],
   "source": [
    "print(hdr_SAMOS)"
   ]
  },
  {
   "cell_type": "code",
   "execution_count": null,
   "metadata": {},
   "outputs": [],
   "source": []
  },
  {
   "cell_type": "code",
   "execution_count": null,
   "metadata": {},
   "outputs": [],
   "source": []
  }
 ],
 "metadata": {
  "kernelspec": {
   "display_name": "Python 3 (ipykernel)",
   "language": "python",
   "name": "python3"
  },
  "language_info": {
   "codemirror_mode": {
    "name": "ipython",
    "version": 3
   },
   "file_extension": ".py",
   "mimetype": "text/x-python",
   "name": "python",
   "nbconvert_exporter": "python",
   "pygments_lexer": "ipython3",
   "version": "3.9.5"
  }
 },
 "nbformat": 4,
 "nbformat_minor": 2
}
